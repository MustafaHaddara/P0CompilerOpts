{
 "cells": [
  {
   "cell_type": "markdown",
   "metadata": {
    "deletable": true,
    "editable": true
   },
   "source": [
    "## P0 Test Suite\n",
    "#### Original Author: Emil Sekerinski, McMaster University, February 2017\n",
    "#### Modified by Dom DiPasquale, Patrick Jakubowski, and Mustafa Haddara"
   ]
  },
  {
   "cell_type": "code",
   "execution_count": null,
   "metadata": {
    "collapsed": false,
    "deletable": true,
    "editable": true,
    "scrolled": true
   },
   "outputs": [],
   "source": [
    "import nbimporter\n",
    "from Util import compareOutput"
   ]
  },
  {
   "cell_type": "markdown",
   "metadata": {
    "deletable": true,
    "editable": true
   },
   "source": [
    "## Introduction\n",
    "The compiler problem is generally solved; that is, the task of translating an input text based on a known grammar and rules describing the desired output has a generally accepted solution. However, due to the vagueness and abstractness of the grammar and rules, the resulting code may be unnecessarily complex or inefficient.\n",
    "\n",
    "The job of a compiler optimization is to make the resulting code more efficient, either in memory use or cpu time. In project we implement a few optimizations to the `P0` compiler used throughout the course and demonstrate the reductions in memory use or cpu time from the optimized code compared to the code produced by the original compiler.\n",
    "\n",
    "## Optimizations Implemented\n",
    "We implemented 4 optimizations. The first two remove unused code to reduce memory overhead, the second two simplify existing code for faster execution. \n",
    "1. Removing Unused Procedures. See [`removeUnusedProcedures()`](/notebooks/CGopts.ipynb#remove-unused-procedures) in CGopts.ipynb for more technical details.\n",
    "1. Removing Unused Variables. See [`deadStoreElimination()`](/notebooks/CGopts.ipynb#dead-store-elimination) in CGopts.ipynb for more technical details.\n",
    "1. Dead Store Elimination. See [`removeUnusedVariables()`](/notebooks/CGopts.ipynb#remove-unused-variables) in CGopts.ipynb for more technical details.\n",
    "1. Common Subexpression Elimination. See [`commonSubexpressionElimination()`](/notebooks/CGopts.ipynb#common-subexpression-elimination) in CGopts.ipynb for more technical details.\n",
    "\n",
    "## Ordering\n",
    "We conduct our individual optimizations serially, in the order that we believed would eliminate the largest chunks of code first: procedures are generally larger than the effective \"lifetime\" of a variable, which in turn are larger than the sizes of the subexpressions we evaluate in Optimization #4. Thus, when moving down to a \"smaller\" chunk, we can be sure that this chunk is used by the surrounding code, rather than evaluating variables when the containing procedure is never used. Using this method, we can gaurantee that each sequential optimization has to iterate over the least amount code that we deem useful.\n",
    "\n",
    "## Complexity\n",
    "Initially, we would have liked to have evaluated our project's complexity by approximating how many iterations over the initial input code and the resulting instructions were needed to fully execute our optimization algorithm. Unfortunately, our optimization algorithm is heavily dependant on how optimal the initial input code is, which we believed was a significant variable that we could not effectively predict, therefore we decided to evaulate the complexity of our project based on how many lines of code needed to be manipulated, as well as any additional lines of code that needed to be written. The majority of the modifications to the compiler were made to a copy of CGmips.ipynb that we renamed to CGopts.ipynb. This includes the initial modifications that allowed us to save and analyze the initial input code and the resulting instructions before they were written to the output, as well as each individual optimization method, approximately 350 lines of code needed to be modified and written. In order to test our optimizations beside the original compiler's output, we built a tool in Util.ipynb called [`compareOutput()`](/notebooks/Util.ipynb), approximately 50 lines of code needed to be written. Minimal modifications also needed to be made to P0.ipynb, but none that were significant enough to alter our overall approximation. For the complexity of each individual optimization method, please refer to the \"Optimizations Implemented\" section above for link to the actual implementations of each optimization method and the relative technical details.\n",
    "\n",
    "## Examples"
   ]
  },
  {
   "cell_type": "markdown",
   "metadata": {
    "deletable": true,
    "editable": true
   },
   "source": [
    "### Unused Procedures Elimination\n",
    "\n",
    "The following example demonstrates unused procedures elimination. An \"unused procedure\" is when a procedure is defined, but that procedure is never used within the main program's function call graph.\n",
    "\n",
    "Notice in the example that although we define procedures b, c and e on lines 6, 22 and 42 respectively, we never call these procedures from the main program's function call graph. Notice in the example that procedure b is called within procedure c, but since procedure c is never called from the main program's function call graph, procedure b is also never called from the main program's function call graph. Notice in the example that procedure e is defined in procedure d and procedure d is called from the main program's function call graph, but procedure e is never called from the main program's function call graph.\n",
    "\n",
    "Future work includes implementing procedure inlining, which would save the overhead of procedure calls. This would eliminate even more defined procedures and as a result, reduce the amount of jal operations."
   ]
  },
  {
   "cell_type": "code",
   "execution_count": null,
   "metadata": {
    "collapsed": false,
    "deletable": true,
    "editable": true
   },
   "outputs": [],
   "source": [
    "compareOutput(\"\"\"program p;\n",
    "    var a: integer;\n",
    "    procedure b(i: integer);\n",
    "        begin\n",
    "            a := a + i\n",
    "        end;\n",
    "    procedure c(i: integer);\n",
    "        begin\n",
    "            a := a + i;\n",
    "            b(1)\n",
    "        end;\n",
    "    procedure d(i: integer);\n",
    "        procedure e(i: integer);\n",
    "            begin\n",
    "                a := a + i\n",
    "            end;\n",
    "        begin\n",
    "            a := a + i\n",
    "        end;\n",
    "    begin\n",
    "        a := a + 1;\n",
    "        d(1)\n",
    "    end\n",
    "    \"\"\")"
   ]
  },
  {
   "cell_type": "markdown",
   "metadata": {
    "deletable": true,
    "editable": true
   },
   "source": [
    "### Dead Store Elimination\n",
    "The following example demonstrates dead store elimination. A \"dead store\" is a memory operation that stores a value to a memory location, but that memory location is never read from for the rest of the program. Thus, this store is unused or \"dead\".\n",
    "\n",
    "Notice in the example that although we store the value `5` to variable `b` on line 15, we never read that value from that variable. Thus the second `sw` operation to `b` is unneeded.\n",
    "\n",
    "Future work includes eliminating unused writes to registers, which would save instructions. However, since these writes are typically `add` or `addi` operations, the only savings we will see will be from fewer operations; `add` and `addi` operations are typically very quick instructions, especially compared to `sw` operations, which can take far longer."
   ]
  },
  {
   "cell_type": "code",
   "execution_count": null,
   "metadata": {
    "collapsed": false,
    "deletable": true,
    "editable": true
   },
   "outputs": [],
   "source": [
    "compareOutput(\"\"\"program p;\n",
    "    var a,b: integer;\n",
    "    begin\n",
    "        b := 4;\n",
    "        a := 10 + b;\n",
    "        b := 5;\n",
    "        write(a)\n",
    "    end\n",
    "    \"\"\")"
   ]
  },
  {
   "cell_type": "markdown",
   "metadata": {
    "deletable": true,
    "editable": true
   },
   "source": [
    "Procedures present an interesting complication; since the `$fp` and `$sp` registers are used across procedures, the stores and loads for each of these registers do not happen in the sequence of instructions. We mark these as special case registers, and any `sw` operations writing to these locations are never removed. Additionally, these registers are always used with relative addresses, and those relative addresses are not always consistent throughout the entire use.\n",
    "\n",
    "For instance, consider the following `P0` code. The `sw` at the beginning of the function block stores the value of `$fp` into the memory location `$sp - 8` (line 6). However, at the end of the function, the same memory location is refered to by the address `$fp - 4` (line 15). If we only considered exact memory locations, we would remove the first `sw` operations at the beginning of the function block, which would lead to incorrect code. "
   ]
  },
  {
   "cell_type": "code",
   "execution_count": null,
   "metadata": {
    "collapsed": false,
    "deletable": true,
    "editable": true
   },
   "outputs": [],
   "source": [
    "compareOutput(\"\"\"program p;\n",
    "    procedure f(i: integer);\n",
    "        begin\n",
    "        write(i)\n",
    "        end;\n",
    "    begin\n",
    "        f(2)\n",
    "    end\n",
    "    \"\"\")"
   ]
  },
  {
   "cell_type": "markdown",
   "metadata": {
    "deletable": true,
    "editable": true
   },
   "source": [
    "### Unused Variable Elimination\n",
    "The following example demonstrates unused variable elimination; we detect the variables never used and remove them from the program. Since we perform the dead store elimination before this optimization, we are able to detect that variable `b` is never used. Therefore, we are allowed to remove that memory declaration in addition to the declaration for  variable `c`, which is never used (read or written to) in the program.\n",
    "\n",
    "In the cases of unused variables within function calls, we are able to reduce the amount of stack space allocated by the function (line 12) and must also be careful to remap the used variables to their new memory addresses, ie. if we only allocate 16 bytes on the stack, we should not refer to the value at `$sp - 20`."
   ]
  },
  {
   "cell_type": "code",
   "execution_count": null,
   "metadata": {
    "collapsed": false,
    "deletable": true,
    "editable": true
   },
   "outputs": [],
   "source": [
    "compareOutput(\"\"\"program p;\n",
    "    var a,b,c: integer;\n",
    "    procedure f;\n",
    "        var m,n,o: integer;\n",
    "        begin\n",
    "        o := 1;\n",
    "        m := 2;\n",
    "        write(o)\n",
    "        end;\n",
    "    begin\n",
    "        b := 4;\n",
    "        a := 10;\n",
    "        b := 5;\n",
    "        f();\n",
    "        write(a)\n",
    "    end\n",
    "    \"\"\")"
   ]
  },
  {
   "cell_type": "markdown",
   "metadata": {
    "deletable": true,
    "editable": true
   },
   "source": [
    "#### Global Variables and Procedures\n",
    "Procedures introduce two problems. First and foremost, we must be careful to not remove a global variable which is used exclusively within procedures. Our intial approach consisted of scanning all \"blocks\", beginning with the main `program` block, looking for uses of variables. However, if a variable is used exclusively within a procedure, we do not detect that it is used, and therefore miss out on this declaration. The solution in this case is to scan the procedures _first_ and then scan the main `program` block.\n",
    "\n",
    "In the following example, note that although the global variable is never used in the main `program` block, it is used within the procedure `f`, and therefore is not removed. Since all variables are used in this example, the optimizations have no effect on the produced code."
   ]
  },
  {
   "cell_type": "code",
   "execution_count": null,
   "metadata": {
    "collapsed": false,
    "deletable": true,
    "editable": true
   },
   "outputs": [],
   "source": [
    "compareOutput(\"\"\"program p;\n",
    "    var a: integer;\n",
    "    procedure f(i: integer);\n",
    "        begin\n",
    "        a := i\n",
    "        end;\n",
    "    begin\n",
    "        f(2)\n",
    "    end\n",
    "    \"\"\")"
   ]
  },
  {
   "cell_type": "markdown",
   "metadata": {
    "deletable": true,
    "editable": true
   },
   "source": [
    "The second problem is a result of the `P0` language supporting _shadowing_. Shadowing describes the phenomenon where a local variable has the same name as a global variable, and there hides or \"shadows\" the global variable. In this case, we must detect that the variable being used is actually a local variable, not a global variable.\n",
    "\n",
    "The following example demonstrates an unused global variable being removed due to being shadowed."
   ]
  },
  {
   "cell_type": "code",
   "execution_count": null,
   "metadata": {
    "collapsed": false,
    "deletable": true,
    "editable": true
   },
   "outputs": [],
   "source": [
    "compareOutput(\"\"\"program p;\n",
    "    var a: integer;\n",
    "    procedure f(i: integer);\n",
    "        var a: integer;\n",
    "        begin\n",
    "        a := i + 1;\n",
    "        write(a)\n",
    "        end;\n",
    "    begin\n",
    "        f(2)\n",
    "    end\n",
    "    \"\"\")"
   ]
  },
  {
   "cell_type": "markdown",
   "metadata": {
    "deletable": true,
    "editable": true
   },
   "source": [
    "### Common Subexpression Elimination\n",
    "The following  example demonstrates common subexpression elimination.  Common subexpressions (CSEs) are instances where two high level operations use a common expression, leading to repeated calculation of previously calculated values.  For instance:"
   ]
  },
  {
   "cell_type": "code",
   "execution_count": null,
   "metadata": {
    "collapsed": false,
    "deletable": true,
    "editable": true
   },
   "outputs": [],
   "source": [
    "\"\"\"program p;\n",
    "    var a,b,c,d,e,temp: integer;\n",
    "    procedure f;\n",
    "        begin\n",
    "        a := 1;\n",
    "        b := 2;\n",
    "        c := a + b;\n",
    "        d := a + b;\n",
    "        write(c);\n",
    "        write(d)\n",
    "        end;\n",
    "    procedure g;\n",
    "        begin\n",
    "        a := 1;\n",
    "        b := 2;\n",
    "        c := a + b;\n",
    "        a := 3;\n",
    "        d := a + b;\n",
    "        write(c);\n",
    "        write(d)\n",
    "        end;\n",
    "    procedure h;\n",
    "        begin\n",
    "        a := 1;\n",
    "        b := 2;\n",
    "        c := a + (b + 5);\n",
    "        d := a + (b + (c + 10));\n",
    "        e := a + (b + (c + 20));\n",
    "        write(d);\n",
    "        write(e)\n",
    "        end;\n",
    "    procedure x;\n",
    "        begin\n",
    "        a := 1;\n",
    "        b := 2;\n",
    "        temp := a + b;\n",
    "        c := temp;\n",
    "        d := temp;\n",
    "        write(c);\n",
    "        write(d)\n",
    "        end;\n",
    "    begin\n",
    "        f()\n",
    "        g()\n",
    "        h()\n",
    "        x()\n",
    "    end\n",
    "\"\"\"\n",
    "\n",
    "compareOutput(\"\"\"program p;\n",
    "    var a,b,c,d,e: integer;\n",
    "    begin\n",
    "        a := 1;\n",
    "        b := 2;\n",
    "        c := a + b;\n",
    "        d := b + a;\n",
    "        e := c + (a + b);\n",
    "        write(c);\n",
    "        write(d);\n",
    "        write(e)\n",
    "    end\n",
    "    \"\"\")"
   ]
  },
  {
   "cell_type": "markdown",
   "metadata": {
    "deletable": true,
    "editable": true
   },
   "source": [
    "The above functions each display a different aspect of CSEs.  f gives a very basic example of what a common subexpression may look like, where a + b is the CSE between c and d. Now, having identified a CSE, we can now use common subexpression elimination.  First, we store the result of a + b into a new register, then replace the instances of a + b with our temporary variable.  x is an example of what a CSE elimination looks like on a high level.\n",
    "\n",
    "g shows another important aspect of CSEs, that we cannot assume that just because an expression may contain the same variables, it is a safe elimination.  Doing so here would result in an incorrect output of d, as the value of a has changed.  Therefore we must make sure that no changes to any variables in our CSE were changed between instances of it.  Failing to do so will likely lead to incorrect output.\n",
    "\n",
    "Finally, h is an example that CSEs are not necessarily only 2 variables in size, they may be any size, however the more complex a CSE the more difficult it is to keep track of its individual components and ensure that no unsafe optimization occurs.  This is partially mitigated by making common subexpression elimination only remove 2 term CSEs and repeatedly run until no more code changes occur, so that at each step two variables are collapsed into one, and if any changes were to occur to any component variables of the CSE, an earlier run of the elimination would correctly determine that the CSE is unsafe.  However, this also may cause the compiler to fail to detect a valid CSE due to 3 or more term CSEs being in different orders, due to commutative operations.\n",
    "\n",
    "Note that our CSE elimination is unsafe with code that is not loop invariant, as well as some with jumps backward (be it from looping or some if/else branches).  An edge case also exists where if a CSE is contained within an assignment to a variable within that CSE, CSEE does not run for that case (for instance, if a := a + b existed in the above code after it's initial assignment), even though it would be safe to do so (but not after).  This is to prevent a wide variety of issues that happen when an unsafe assignment occurs on the boundaries of our ranges."
   ]
  },
  {
   "cell_type": "markdown",
   "metadata": {
    "deletable": true,
    "editable": true
   },
   "source": [
    "The following examples demonstrate all of the optimizations working in conjunction."
   ]
  },
  {
   "cell_type": "code",
   "execution_count": null,
   "metadata": {
    "collapsed": false,
    "deletable": true,
    "editable": true
   },
   "outputs": [],
   "source": [
    "compareOutput(\"\"\"program p;\n",
    "      type T = record d,e,f:integer end;\n",
    "      type A = array[0..9] of integer;\n",
    "      var c: integer;\n",
    "      var b: boolean;\n",
    "      var w: A;\n",
    "      procedure q(var z: integer);\n",
    "            type T = record d,e:integer end;\n",
    "            type A = array[0..9] of integer;\n",
    "            var y: integer;\n",
    "            var m,n: boolean;\n",
    "            var w: T;\n",
    "            var wd, we: integer;\n",
    "\n",
    "            begin b:=true; w.d := 9; w.e := 5; w.d := 3 - 1 end;\n",
    "      begin \n",
    "      w[1] := 9; w[2] := 5;\n",
    "        c := 10;\n",
    "        c := c + 1;\n",
    "        write(c);\n",
    "        q(c)\n",
    "      end\n",
    "    \"\"\")"
   ]
  },
  {
   "cell_type": "code",
   "execution_count": null,
   "metadata": {
    "collapsed": false,
    "deletable": true,
    "editable": true
   },
   "outputs": [],
   "source": [
    "compareOutput(\"\"\"program p;\n",
    "  var g: integer;          {global variable}\n",
    "  procedure q(v: integer); {value parameter}\n",
    "    var l: integer;        {local variable}\n",
    "    procedure qx(v: integer); {value parameter}\n",
    "      var l: integer;        {local variable}\n",
    "      procedure qxt(v: integer); {value parameter}\n",
    "        var l: integer;        {local variable}\n",
    "        begin\n",
    "          l := 9\n",
    "        end;\n",
    "      begin\n",
    "        l := 9;\n",
    "        q(l)\n",
    "      end;\n",
    "    procedure qc(v: integer); {value parameter}\n",
    "      var l: integer;        {local variable}\n",
    "      begin\n",
    "        l := 9;\n",
    "        q(l)\n",
    "      end;\n",
    "    begin\n",
    "      l := 9;\n",
    "      qx(l);\n",
    "      if l > v then\n",
    "         write(l)\n",
    "      else\n",
    "         write(g)\n",
    "    end;\n",
    "  procedure x(v: integer); {value parameter}\n",
    "    var l: integer;        {local variable}\n",
    "    begin\n",
    "      l := 9;\n",
    "      q(l)\n",
    "    end;\n",
    "  begin\n",
    "    g := 5;\n",
    "    q(7)\n",
    "  end\n",
    "\"\"\")"
   ]
  },
  {
   "cell_type": "code",
   "execution_count": null,
   "metadata": {
    "collapsed": false,
    "deletable": true,
    "editable": true
   },
   "outputs": [],
   "source": [
    "compareOutput(\"\"\"program p;\n",
    "  var g: integer;          {global variable}\n",
    "  procedure x(v: integer); {value parameter}\n",
    "    var l: integer;        {local variable}\n",
    "    procedure x2(v: integer); {value parameter}\n",
    "    var l: integer;        {local variable}\n",
    "    begin\n",
    "      l := 9;\n",
    "      x2(l)\n",
    "    end;\n",
    "    begin\n",
    "      l := 9;\n",
    "      x2(l)\n",
    "    end;\n",
    "  begin\n",
    "    g := 5;\n",
    "    x(g)\n",
    "  end\n",
    "\"\"\")"
   ]
  }
 ],
 "metadata": {
  "kernelspec": {
   "display_name": "Python 3",
   "language": "python",
   "name": "python3"
  },
  "language_info": {
   "codemirror_mode": {
    "name": "ipython",
    "version": 3
   },
   "file_extension": ".py",
   "mimetype": "text/x-python",
   "name": "python",
   "nbconvert_exporter": "python",
   "pygments_lexer": "ipython3",
   "version": "3.6.0"
  }
 },
 "nbformat": 4,
 "nbformat_minor": 2
}
