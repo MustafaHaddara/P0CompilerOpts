{
 "cells": [
  {
   "cell_type": "markdown",
   "metadata": {
    "deletable": true,
    "editable": true
   },
   "source": [
    "## P0 Test Suite\n",
    "#### Original Author: Emil Sekerinski, McMaster University, February 2017\n",
    "#### Modified by Dom DiPasquale, Patrick Jakubowski, and Mustafa Haddara"
   ]
  },
  {
   "cell_type": "code",
   "execution_count": 5,
   "metadata": {
    "collapsed": false,
    "deletable": true,
    "editable": true,
    "scrolled": true
   },
   "outputs": [],
   "source": [
    "import os\n",
    "import nbimporter\n",
    "from P0 import compileString\n",
    "from ST import printSymTab"
   ]
  },
  {
   "cell_type": "markdown",
   "metadata": {
    "deletable": true,
    "editable": true
   },
   "source": [
    "The following method compiles the provided source both with and without optimizations and renders the results nicely for comparison."
   ]
  },
  {
   "cell_type": "code",
   "execution_count": 6,
   "metadata": {
    "collapsed": false,
    "deletable": true,
    "editable": true
   },
   "outputs": [],
   "source": [
    "def compareOutput(src):\n",
    "    compileString(src, 'reg', target='mips')\n",
    "    compileString(src, 'opt', target='opt')\n",
    "    \n",
    "    with open('reg') as f, open('opt') as o:\n",
    "        reg = ['Orginal Compiler'] + f.read().split('\\n')\n",
    "        opt = ['Optmized Compiler'] + o.read().split('\\n')\n",
    "    os.remove('reg')\n",
    "    os.remove('opt')\n",
    "    \n",
    "    tabsize = 8\n",
    "    def rmtabs(s):\n",
    "        res = ''\n",
    "        for i in range(len(s)):\n",
    "            if s[i] == '\\t':\n",
    "                res = res + ' ' * (tabsize-(i%tabsize))\n",
    "            else:\n",
    "                res = res + s[i]\n",
    "        return res\n",
    "\n",
    "    maxlinelen = 30\n",
    "    def rightpad(s, n=maxlinelen, c=' '):\n",
    "        clean = rmtabs(s)\n",
    "        while len(clean) < n:\n",
    "            clean = clean + c\n",
    "        return clean\n",
    "    \n",
    "    for i in range(len(reg)):\n",
    "        ls = rightpad(reg[i]) + '| '\n",
    "        rs = opt[i] if i < len(opt) else ''\n",
    "        print(ls+rs)"
   ]
  },
  {
   "cell_type": "code",
   "execution_count": 7,
   "metadata": {
    "collapsed": false,
    "deletable": true,
    "editable": true
   },
   "outputs": [
    {
     "name": "stdout",
     "output_type": "stream",
     "text": [
      "TODO\n",
      "Orginal Compiler              | Optmized Compiler\n",
      "        .data                 | \t.data\n",
      "w_:     .space 40             | \t.text\n",
      "b_:     .space 4              | \t.globl q\n",
      "c_:     .space 4              | \t.ent q\n",
      "        .text                 | q:\t\n",
      "        .globl q              | \tsub $fp, $sp, 4\n",
      "        .ent q                | \tsub $sp, $fp, 16\n",
      "q:                            | \taddi $t6, $0, 1\n",
      "        sw $fp, -8($sp)       | \taddi $t3, $0, 9\n",
      "        sw $ra, -12($sp)      | \taddi $t0, $0, 5\n",
      "        sub $fp, $sp, 4       | \taddi $t2, $0, 2\n",
      "        sub $sp, $fp, 36      | \tadd $sp, $fp, 4\n",
      "        addi $t6, $0, 1       | \tlw $ra, -8($fp)\n",
      "        sw $t6, b_            | \tlw $fp, -4($fp)\n",
      "        addi $t3, $0, 9       | \tjr $ra\n",
      "        sw $t3, -28($fp)      | \t.globl main\n",
      "        addi $t0, $0, 5       | \t.ent main\n",
      "        sw $t0, -24($fp)      | main:\t\n",
      "        addi $t2, $0, 2       | \taddi $t8, $0, 9\n",
      "        sw $t2, -28($fp)      | \taddi $t1, $0, 5\n",
      "        add $sp, $fp, 4       | \taddi $t4, $0, 10\n",
      "        lw $ra, -8($fp)       | \tsw $t4, c_\n",
      "        lw $fp, -4($fp)       | \tlw $t5, c_\n",
      "        jr $ra                | \tadd $t5, $t5, 1\n",
      "        .text                 | \tsw $t5, c_\n",
      "        .globl main           | \tlw $a0, c_\n",
      "        .ent main             | \tli $v0, 1\n",
      "main:                         | \tsyscall\n",
      "        addi $t8, $0, 9       | \tla $t7, c_\n",
      "        sw $t8, w_+4          | \tjal, q\n",
      "        addi $t1, $0, 5       | \tli $v0, 10\n",
      "        sw $t1, w_+8          | \tsyscall\n",
      "        addi $t4, $0, 10      | \t.end main\n",
      "        sw $t4, c_            | \n",
      "        lw $t5, c_            | \n",
      "        add $t5, $t5, 1       | \n",
      "        sw $t5, c_            | \n",
      "        lw $a0, c_            | \n",
      "        li $v0, 1             | \n",
      "        syscall               | \n",
      "        la $t7, c_            | \n",
      "        sw $t7, -4($sp)       | \n",
      "        jal, q                | \n",
      "        li $v0, 10            | \n",
      "        syscall               | \n",
      "        .end main             | \n"
     ]
    }
   ],
   "source": [
    "compareOutput(\"\"\"program p;\n",
    "      type T = record d,e,f:integer end;\n",
    "      type A = array[0..9] of integer;\n",
    "      var c: integer;\n",
    "      var b: boolean;\n",
    "      var w: A;\n",
    "      procedure q(var z: integer);\n",
    "            type T = record d,e:integer end;\n",
    "            type A = array[0..9] of integer;\n",
    "            var y: integer;\n",
    "            var m,n: boolean;\n",
    "            var w: T;\n",
    "            var wd, we: integer;\n",
    "\n",
    "            begin b:=true; w.d := 9; w.e := 5; w.d := 3 - 1 end;\n",
    "      begin \n",
    "      w[1] := 9; w[2] := 5;\n",
    "        c := 10;\n",
    "        c := c + 1;\n",
    "        write(c);\n",
    "        q(c)\n",
    "      end\n",
    "    \"\"\")"
   ]
  },
  {
   "cell_type": "code",
   "execution_count": null,
   "metadata": {
    "collapsed": false,
    "deletable": true,
    "editable": true
   },
   "outputs": [],
   "source": [
    "compareOutput(\"\"\"program p;\n",
    "  var g: integer;          {global variable}\n",
    "  procedure q(v: integer); {value parameter}\n",
    "    var l: integer;        {local variable}\n",
    "    procedure qx(v: integer); {value parameter}\n",
    "      var l: integer;        {local variable}\n",
    "      procedure qxt(v: integer); {value parameter}\n",
    "        var l: integer;        {local variable}\n",
    "        begin\n",
    "          l := 9\n",
    "        end;\n",
    "      begin\n",
    "        l := 9;\n",
    "        q(l)\n",
    "      end;\n",
    "    procedure qc(v: integer); {value parameter}\n",
    "      var l: integer;        {local variable}\n",
    "      begin\n",
    "        l := 9;\n",
    "        q(l)\n",
    "      end;\n",
    "    begin\n",
    "      l := 9;\n",
    "      qx(l);\n",
    "      if l > v then\n",
    "         write(l)\n",
    "      else\n",
    "         write(g)\n",
    "    end;\n",
    "  procedure x(v: integer); {value parameter}\n",
    "    var l: integer;        {local variable}\n",
    "    begin\n",
    "      l := 9;\n",
    "      q(l)\n",
    "    end;\n",
    "  begin\n",
    "    g := 5;\n",
    "    q(7)\n",
    "  end\n",
    "\"\"\")"
   ]
  },
  {
   "cell_type": "code",
   "execution_count": null,
   "metadata": {
    "collapsed": false,
    "deletable": true,
    "editable": true
   },
   "outputs": [],
   "source": [
    "compareOutput(\"\"\"program p;\n",
    "  var g: integer;          {global variable}\n",
    "  procedure x(v: integer); {value parameter}\n",
    "    var l: integer;        {local variable}\n",
    "    procedure x2(v: integer); {value parameter}\n",
    "    var l: integer;        {local variable}\n",
    "    begin\n",
    "      l := 9;\n",
    "      x2(l)\n",
    "    end;\n",
    "    begin\n",
    "      l := 9;\n",
    "      x2(l)\n",
    "    end;\n",
    "  begin\n",
    "    g := 5;\n",
    "    x(g)\n",
    "  end\n",
    "\"\"\")"
   ]
  }
 ],
 "metadata": {
  "kernelspec": {
   "display_name": "Python 3",
   "language": "python",
   "name": "python3"
  },
  "language_info": {
   "codemirror_mode": {
    "name": "ipython",
    "version": 3
   },
   "file_extension": ".py",
   "mimetype": "text/x-python",
   "name": "python",
   "nbconvert_exporter": "python",
   "pygments_lexer": "ipython3",
   "version": "3.6.0"
  }
 },
 "nbformat": 4,
 "nbformat_minor": 2
}
