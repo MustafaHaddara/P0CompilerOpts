{
 "cells": [
  {
   "cell_type": "markdown",
   "metadata": {
    "deletable": true,
    "editable": true
   },
   "source": [
    "## P0 Test Suite\n",
    "#### Original Author: Emil Sekerinski, McMaster University, February 2017\n",
    "#### Modified by Dom DiPasquale, Patrick Jakubowski, and Mustafa Haddara"
   ]
  },
  {
   "cell_type": "code",
   "execution_count": 1,
   "metadata": {
    "collapsed": false,
    "deletable": true,
    "editable": true,
    "scrolled": true
   },
   "outputs": [
    {
     "name": "stdout",
     "output_type": "stream",
     "text": [
      "importing Jupyter notebook from Util.ipynb\n",
      "importing Jupyter notebook from P0.ipynb\n",
      "importing Jupyter notebook from SC.ipynb\n"
     ]
    },
    {
     "data": {
      "text/html": [
       "<style>\n",
       "div.prompt {display:none}\n",
       "</style>"
      ],
      "text/plain": [
       "<IPython.core.display.HTML object>"
      ]
     },
     "metadata": {},
     "output_type": "display_data"
    },
    {
     "name": "stdout",
     "output_type": "stream",
     "text": [
      "importing Jupyter notebook from ST.ipynb\n"
     ]
    }
   ],
   "source": [
    "import nbimporter\n",
    "from Util import compareOutput"
   ]
  },
  {
   "cell_type": "markdown",
   "metadata": {
    "deletable": true,
    "editable": true
   },
   "source": [
    "## Introduction\n",
    "The compiler problem is generally solved; that is, the task of translating an input text based on a known grammar and rules describing the desired output has a generally accepted solution. However, due to the vagueness and abstractness of the grammar and rules, the resulting code may be unnecessarily complex or inefficient.\n",
    "\n",
    "The job of a compiler optimization is to make the resulting code more efficient, either in memory use or cpu time. In project we implement a few optimizations to the `P0` compiler used throughout the course and demonstrate the reductions in memory use or cpu time from the optimized code compared to the code produced by the original compiler.\n",
    "\n",
    "## Optimizations Implemented\n",
    "We implemented 4 optimizations. The first two remove unused code to reduce memory overhead, the second two simplify existing code for faster execution. \n",
    "1. Removing Unused Procedures. See [`removeUnusedProcedures()`](/notebooks/CGopts.ipynb#remove-unused-procedures) in CGopts.ipynb for more technical details.\n",
    "1. Removing Unused Variables. See [`deadStoreElimination()`](/notebooks/CGopts.ipynb#dead-store-elimination) in CGopts.ipynb for more technical details.\n",
    "1. Dead Store Elimination. See [`removeUnusedVariables()`](/notebooks/CGopts.ipynb#remove-unused-variables) in CGopts.ipynb for more technical details.\n",
    "1. Common Subexpression Elimination. See [`commonSubexpressionElimination()`](/notebooks/CGopts.ipynb#common-subexpression-elimination) in CGopts.ipynb for more technical details.\n",
    "\n",
    "## Ordering\n",
    "We conduct our individual optimizations serially, in the order that we believed would eliminate the largest chunks of code first: procedures are generally larger than the effective \"lifetime\" of a variable, which in turn are larger than the sizes of the subexpressions we evaluate in Optimization #4. Thus, when moving down to a \"smaller\" chunk, we can be sure that this chunk is used by the surrounding code, rather than evaluating variables when the containing procedure is never used. Using this method, we can gaurantee that each sequential optimization has to iterate over the least amount code that we deem useful.\n",
    "\n",
    "## Examples"
   ]
  },
  {
   "cell_type": "markdown",
   "metadata": {
    "deletable": true,
    "editable": true
   },
   "source": [
    "### Unused Procedures Elimination\n",
    "\n",
    "The following example demonstrates unused procedures elimination. An \"unused procedure\" is when a procedure is defined, but that procedure is never used within the main program's function call graph.\n",
    "\n",
    "Notice in the example that although we define procedures b, c and e on lines 6, 22 and 42 respectively, we never call these procedures from the main program's function call graph. Notice in the example that procedure b is called within procedure c, but since procedure c is never called from the main program's function call graph, procedure b is also never called from the main program's function call graph. Notice in the example that procedure e is defined in procedure d and procedure d is called from the main program's function call graph, but procedure e is never called from the main program's function call graph.\n",
    "\n",
    "Future work includes implementing procedure inlining, which would save the overhead of procedure calls. This would eliminate even more defined procedures and as a result, reduce the amount of jal operations."
   ]
  },
  {
   "cell_type": "code",
   "execution_count": 2,
   "metadata": {
    "collapsed": false,
    "deletable": true,
    "editable": true
   },
   "outputs": [
    {
     "name": "stdout",
     "output_type": "stream",
     "text": [
      "importing Jupyter notebook from CGmips.ipynb\n",
      "importing Jupyter notebook from CGopts.ipynb\n",
      "[('', '.data', ''), ('', '.globl main', ''), ('', '.ent main', ''), ('main', '', ''), ('', 'lw $t7, a_', ''), ('', 'add $t7, $t7, 1', ''), ('', 'addi $t0, $0, 1', ''), ('', 'sw $t0, -4($sp)', ''), ('', 'jal', 'd'), ('', 'li $v0, 10', ''), ('', 'syscall', ''), ('', '.end main', '')]\n",
      "[[None, []], ['add $t7, $t7, 1', [5]], ['addi $t0, $0, 1', [6]]]\n",
      "   | Orginal Compiler              | Optimized Compiler            \n",
      "---|-------------------------------|-------------------------------\n",
      " 1 |         .data                 |         .data                 \n",
      " 2 | a_:     .space 4              | a_:     .space 4              \n",
      " 3 |         .text                 |         .text                 \n",
      " 4 |         .globl b              |         .globl d              \n",
      " 5 |         .ent b                |         .ent d                \n",
      " 6 | b:                            | d:                            \n",
      " 7 |         sw $fp, -8($sp)       |         sw $fp, -8($sp)       \n",
      " 8 |         sw $ra, -12($sp)      |         sw $ra, -12($sp)      \n",
      " 9 |         sub $fp, $sp, 4       |         sub $fp, $sp, 4       \n",
      "10 |         sub $sp, $fp, 8       |         sub $sp, $fp, 8       \n",
      "11 |         lw $t7, a_            |         lw $t4, a_            \n",
      "12 |         lw $t0, 0($fp)        |         lw $t3, 0($fp)        \n",
      "13 |         add $t7, $t7, $t0     |         add $t4, $t4, $t3     \n",
      "14 |         sw $t7, a_            |         sw $t4, a_            \n",
      "15 |         add $sp, $fp, 4       |         add $sp, $fp, 4       \n",
      "16 |         lw $ra, -8($fp)       |         lw $ra, -8($fp)       \n",
      "17 |         lw $fp, -4($fp)       |         lw $fp, -4($fp)       \n",
      "18 |         jr $ra                |         jr $ra                \n",
      "19 |         .text                 |         .globl main           \n",
      "20 |         .globl c              |         .ent main             \n",
      "21 |         .ent c                | main:                         \n",
      "22 | c:                            |         lw $t7, a_            \n",
      "23 |         sw $fp, -8($sp)       |         add $t7, $t7, 1       \n",
      "24 |         sw $ra, -12($sp)      |         addi $t0, $0, 1       \n",
      "25 |         sub $fp, $sp, 4       |         sw $t0, -4($sp)       \n",
      "26 |         sub $sp, $fp, 8       |         jal, d                \n",
      "27 |         lw $t6, a_            |         li $v0, 10            \n",
      "28 |         lw $t8, 0($fp)        |         syscall               \n",
      "29 |         add $t6, $t6, $t8     |         .end main             \n",
      "30 |         sw $t6, a_            | \n",
      "31 |         addi $t5, $0, 1       | \n",
      "32 |         sw $t5, -4($sp)       | \n",
      "33 |         jal, b                | \n",
      "34 |         add $sp, $fp, 4       | \n",
      "35 |         lw $ra, -8($fp)       | \n",
      "36 |         lw $fp, -4($fp)       | \n",
      "37 |         jr $ra                | \n",
      "38 |         .text                 | \n",
      "39 |         .text                 | \n",
      "40 |         .globl e              | \n",
      "41 |         .ent e                | \n",
      "42 | e:                            | \n",
      "43 |         sw $fp, -8($sp)       | \n",
      "44 |         sw $ra, -12($sp)      | \n",
      "45 |         sub $fp, $sp, 4       | \n",
      "46 |         sub $sp, $fp, 8       | \n",
      "47 |         lw $t1, a_            | \n",
      "48 |         lw $t2, 0($fp)        | \n",
      "49 |         add $t1, $t1, $t2     | \n",
      "50 |         sw $t1, a_            | \n",
      "51 |         add $sp, $fp, 4       | \n",
      "52 |         lw $ra, -8($fp)       | \n",
      "53 |         lw $fp, -4($fp)       | \n",
      "54 |         jr $ra                | \n",
      "55 |         .globl d              | \n",
      "56 |         .ent d                | \n",
      "57 | d:                            | \n",
      "58 |         sw $fp, -8($sp)       | \n",
      "59 |         sw $ra, -12($sp)      | \n",
      "60 |         sub $fp, $sp, 4       | \n",
      "61 |         sub $sp, $fp, 8       | \n",
      "62 |         lw $t4, a_            | \n",
      "63 |         lw $t3, 0($fp)        | \n",
      "64 |         add $t4, $t4, $t3     | \n",
      "65 |         sw $t4, a_            | \n",
      "66 |         add $sp, $fp, 4       | \n",
      "67 |         lw $ra, -8($fp)       | \n",
      "68 |         lw $fp, -4($fp)       | \n",
      "69 |         jr $ra                | \n",
      "70 |         .text                 | \n",
      "71 |         .globl main           | \n",
      "72 |         .ent main             | \n",
      "73 | main:                         | \n",
      "74 |         lw $t7, a_            | \n",
      "75 |         add $t7, $t7, 1       | \n",
      "76 |         sw $t7, a_            | \n",
      "77 |         addi $t0, $0, 1       | \n",
      "78 |         sw $t0, -4($sp)       | \n",
      "79 |         jal, d                | \n",
      "80 |         li $v0, 10            | \n",
      "81 |         syscall               | \n",
      "82 |         .end main             | \n"
     ]
    }
   ],
   "source": [
    "compareOutput(\"\"\"program p;\n",
    "    var a: integer;\n",
    "    procedure b(i: integer);\n",
    "        begin\n",
    "            a := a + i\n",
    "        end;\n",
    "    procedure c(i: integer);\n",
    "        begin\n",
    "            a := a + i;\n",
    "            b(1)\n",
    "        end;\n",
    "    procedure d(i: integer);\n",
    "        procedure e(i: integer);\n",
    "            begin\n",
    "                a := a + i\n",
    "            end;\n",
    "        begin\n",
    "            a := a + i\n",
    "        end;\n",
    "    begin\n",
    "        a := a + 1;\n",
    "        d(1)\n",
    "    end\n",
    "    \"\"\")"
   ]
  },
  {
   "cell_type": "markdown",
   "metadata": {
    "deletable": true,
    "editable": true
   },
   "source": [
    "### Dead Store Elimination\n",
    "The following example demonstrates dead store elimination. A \"dead store\" is a memory operation that stores a value to a memory location, but that memory location is never read from for the rest of the program. Thus, this store is unused or \"dead\".\n",
    "\n",
    "Notice in the example that although we store the value `5` to variable `b` on line 15, we never read that value from that variable. Thus the second `sw` operation to `b` is unneeded.\n",
    "\n",
    "Future work includes eliminating unused writes to registers, which would save instructions. However, since these writes are typically `add` or `addi` operations, the only savings we will see will be from fewer operations; `add` and `addi` operations are typically very quick instructions, especially compared to `sw` operations, which can take far longer."
   ]
  },
  {
   "cell_type": "code",
   "execution_count": 3,
   "metadata": {
    "collapsed": false,
    "deletable": true,
    "editable": true
   },
   "outputs": [
    {
     "name": "stdout",
     "output_type": "stream",
     "text": [
      "[('', '.data', ''), ('', '.globl main', ''), ('', '.ent main', ''), ('main', '', ''), ('', 'addi $t7, $0, 4', ''), ('', 'sw $t7, b_', ''), ('', 'addi $t0, $0, 10', ''), ('', 'lw $t6, b_', ''), ('', 'add $t0, $t0, $t6', ''), ('', 'sw $t0, a_', ''), ('', 'addi $t8, $0, 5', ''), ('', 'lw $a0, a_', ''), ('', 'li $v0, 1', ''), ('', 'syscall', ''), ('', 'li $v0, 10', ''), ('', 'syscall', ''), ('', '.end main', '')]\n",
      "[[None, []], ['addi $t7, $0, 4', [4]], ['addi $t0, $0, 10', [6]], ['add $t0, $t0, $t6', [8]], ['addi $t8, $0, 5', [10]]]\n",
      "   | Orginal Compiler              | Optimized Compiler            \n",
      "---|-------------------------------|-------------------------------\n",
      " 1 |         .data                 |         .data                 \n",
      " 2 | b_:     .space 4              | b_:     .space 4              \n",
      " 3 | a_:     .space 4              | a_:     .space 4              \n",
      " 4 |         .text                 |         .text                 \n",
      " 5 |         .globl main           |         .globl main           \n",
      " 6 |         .ent main             |         .ent main             \n",
      " 7 | main:                         | main:                         \n",
      " 8 |         addi $t7, $0, 4       |         addi $t7, $0, 4       \n",
      " 9 |         sw $t7, b_            |         sw $t7, b_            \n",
      "10 |         addi $t0, $0, 10      |         addi $t0, $0, 10      \n",
      "11 |         lw $t6, b_            |         lw $t6, b_            \n",
      "12 |         add $t0, $t0, $t6     |         add $t0, $t0, $t6     \n",
      "13 |         sw $t0, a_            |         sw $t0, a_            \n",
      "14 |         addi $t8, $0, 5       |         addi $t8, $0, 5       \n",
      "15 |         sw $t8, b_            |         lw $a0, a_            \n",
      "16 |         lw $a0, a_            |         li $v0, 1             \n",
      "17 |         li $v0, 1             |         syscall               \n",
      "18 |         syscall               |         li $v0, 10            \n",
      "19 |         li $v0, 10            |         syscall               \n",
      "20 |         syscall               |         .end main             \n",
      "21 |         .end main             | \n"
     ]
    }
   ],
   "source": [
    "compareOutput(\"\"\"program p;\n",
    "    var a,b: integer;\n",
    "    begin\n",
    "        b := 4;\n",
    "        a := 10 + b;\n",
    "        b := 5;\n",
    "        write(a)\n",
    "    end\n",
    "    \"\"\")"
   ]
  },
  {
   "cell_type": "markdown",
   "metadata": {
    "deletable": true,
    "editable": true
   },
   "source": [
    "Procedures present an interesting complication; since the `$fp` and `$sp` registers are used across procedures, the stores and loads for each of these registers do not happen in the sequence of instructions. We mark these as special case registers, and any `sw` operations writing to these locations are never removed. Additionally, these registers are always used with relative addresses, and those relative addresses are not always consistent throughout the entire use.\n",
    "\n",
    "For instance, consider the following `P0` code. The `sw` at the beginning of the function block stores the value of `$fp` into the memory location `$sp - 8` (line 6). However, at the end of the function, the same memory location is refered to by the address `$fp - 4` (line 15). If we only considered exact memory locations, we would remove the first `sw` operations at the beginning of the function block, which would lead to incorrect code. "
   ]
  },
  {
   "cell_type": "code",
   "execution_count": 4,
   "metadata": {
    "collapsed": false,
    "deletable": true,
    "editable": true
   },
   "outputs": [
    {
     "name": "stdout",
     "output_type": "stream",
     "text": [
      "[('', '.data', ''), ('', '.globl main', ''), ('', '.ent main', ''), ('main', '', ''), ('', 'addi $t7, $0, 2', ''), ('', 'sw $t7, -4($sp)', ''), ('', 'jal', 'f'), ('', 'li $v0, 10', ''), ('', 'syscall', ''), ('', '.end main', '')]\n",
      "[[None, []], ['addi $t7, $0, 2', [4]]]\n",
      "   | Orginal Compiler              | Optimized Compiler            \n",
      "---|-------------------------------|-------------------------------\n",
      " 1 |         .data                 |         .data                 \n",
      " 2 |         .text                 |         .text                 \n",
      " 3 |         .globl f              |         .globl f              \n",
      " 4 |         .ent f                |         .ent f                \n",
      " 5 | f:                            | f:                            \n",
      " 6 |         sw $fp, -8($sp)       |         sw $fp, -8($sp)       \n",
      " 7 |         sw $ra, -12($sp)      |         sw $ra, -12($sp)      \n",
      " 8 |         sub $fp, $sp, 4       |         sub $fp, $sp, 4       \n",
      " 9 |         sub $sp, $fp, 8       |         sub $sp, $fp, 8       \n",
      "10 |         lw $a0, 0($fp)        |         lw $a0, 0($fp)        \n",
      "11 |         li $v0, 1             |         li $v0, 1             \n",
      "12 |         syscall               |         syscall               \n",
      "13 |         add $sp, $fp, 4       |         add $sp, $fp, 4       \n",
      "14 |         lw $ra, -8($fp)       |         lw $ra, -8($fp)       \n",
      "15 |         lw $fp, -4($fp)       |         lw $fp, -4($fp)       \n",
      "16 |         jr $ra                |         jr $ra                \n",
      "17 |         .text                 |         .globl main           \n",
      "18 |         .globl main           |         .ent main             \n",
      "19 |         .ent main             | main:                         \n",
      "20 | main:                         |         addi $t7, $0, 2       \n",
      "21 |         addi $t7, $0, 2       |         sw $t7, -4($sp)       \n",
      "22 |         sw $t7, -4($sp)       |         jal, f                \n",
      "23 |         jal, f                |         li $v0, 10            \n",
      "24 |         li $v0, 10            |         syscall               \n",
      "25 |         syscall               |         .end main             \n",
      "26 |         .end main             | \n"
     ]
    }
   ],
   "source": [
    "compareOutput(\"\"\"program p;\n",
    "    procedure f(i: integer);\n",
    "        begin\n",
    "        write(i)\n",
    "        end;\n",
    "    begin\n",
    "        f(2)\n",
    "    end\n",
    "    \"\"\")"
   ]
  },
  {
   "cell_type": "markdown",
   "metadata": {
    "deletable": true,
    "editable": true
   },
   "source": [
    "### Unused Variable Elimination\n",
    "The following example demonstrates unused variable elimination; we detect the variables never used and remove them from the program. Since we perform the dead store elimination before this optimization, we are able to detect that variable `b` is never used. Therefore, we are allowed to remove that memory declaration in addition to the declaration for  variable `c`, which is never used (read or written to) in the program.\n",
    "\n",
    "In the cases of unused variables within function calls, we are able to reduce the amount of stack space allocated by the function (line 12) and must also be careful to remap the used variables to their new memory addresses, ie. if we only allocate 16 bytes on the stack, we should not refer to the value at `$sp - 20`."
   ]
  },
  {
   "cell_type": "code",
   "execution_count": 5,
   "metadata": {
    "collapsed": false,
    "deletable": true,
    "editable": true
   },
   "outputs": [
    {
     "name": "stdout",
     "output_type": "stream",
     "text": [
      "[('', '.data', ''), ('', '.globl main', ''), ('', '.ent main', ''), ('main', '', ''), ('', 'addi $t6, $0, 4', ''), ('', 'addi $t8, $0, 10', ''), ('', 'sw $t8, a_', ''), ('', 'addi $t5, $0, 5', ''), ('', 'jal', 'f'), ('', 'lw $a0, a_', ''), ('', 'li $v0, 1', ''), ('', 'syscall', ''), ('', 'li $v0, 10', ''), ('', 'syscall', ''), ('', '.end main', '')]\n",
      "[[None, []], ['addi $t6, $0, 4', [4]], ['addi $t8, $0, 10', [5]], ['addi $t5, $0, 5', [7]]]\n",
      "   | Orginal Compiler              | Optimized Compiler            \n",
      "---|-------------------------------|-------------------------------\n",
      " 1 |         .data                 |         .data                 \n",
      " 2 | c_:     .space 4              | a_:     .space 4              \n",
      " 3 | b_:     .space 4              |         .text                 \n",
      " 4 | a_:     .space 4              |         .globl f              \n",
      " 5 |         .text                 |         .ent f                \n",
      " 6 |         .globl f              | f:                            \n",
      " 7 |         .ent f                |         sw $fp, -4($sp)       \n",
      " 8 | f:                            |         sw $ra, -8($sp)       \n",
      " 9 |         sw $fp, -4($sp)       |         sub $fp, $sp, 0       \n",
      "10 |         sw $ra, -8($sp)       |         sub $sp, $fp, 16      \n",
      "11 |         sub $fp, $sp, 0       |         addi $t7, $0, 1       \n",
      "12 |         sub $sp, $fp, 20      |         sw $t7, -12($fp)      \n",
      "13 |         addi $t7, $0, 1       |         addi $t0, $0, 2       \n",
      "14 |         sw $t7, -20($fp)      |         sw $t0, -16($fp)      \n",
      "15 |         addi $t0, $0, 2       |         lw $a0, -12($fp)      \n",
      "16 |         sw $t0, -12($fp)      |         li $v0, 1             \n",
      "17 |         lw $a0, -20($fp)      |         syscall               \n",
      "18 |         li $v0, 1             |         add $sp, $fp, 0       \n",
      "19 |         syscall               |         lw $ra, -8($fp)       \n",
      "20 |         add $sp, $fp, 0       |         lw $fp, -4($fp)       \n",
      "21 |         lw $ra, -8($fp)       |         jr $ra                \n",
      "22 |         lw $fp, -4($fp)       |         .globl main           \n",
      "23 |         jr $ra                |         .ent main             \n",
      "24 |         .text                 | main:                         \n",
      "25 |         .globl main           |         addi $t6, $0, 4       \n",
      "26 |         .ent main             |         addi $t8, $0, 10      \n",
      "27 | main:                         |         sw $t8, a_            \n",
      "28 |         addi $t6, $0, 4       |         addi $t5, $0, 5       \n",
      "29 |         sw $t6, b_            |         jal, f                \n",
      "30 |         addi $t8, $0, 10      |         lw $a0, a_            \n",
      "31 |         sw $t8, a_            |         li $v0, 1             \n",
      "32 |         addi $t5, $0, 5       |         syscall               \n",
      "33 |         sw $t5, b_            |         li $v0, 10            \n",
      "34 |         jal, f                |         syscall               \n",
      "35 |         lw $a0, a_            |         .end main             \n",
      "36 |         li $v0, 1             | \n",
      "37 |         syscall               | \n",
      "38 |         li $v0, 10            | \n",
      "39 |         syscall               | \n",
      "40 |         .end main             | \n"
     ]
    }
   ],
   "source": [
    "compareOutput(\"\"\"program p;\n",
    "    var a,b,c: integer;\n",
    "    procedure f;\n",
    "        var m,n,o: integer;\n",
    "        begin\n",
    "        o := 1;\n",
    "        m := 2;\n",
    "        write(o)\n",
    "        end;\n",
    "    begin\n",
    "        b := 4;\n",
    "        a := 10;\n",
    "        b := 5;\n",
    "        f();\n",
    "        write(a)\n",
    "    end\n",
    "    \"\"\")"
   ]
  },
  {
   "cell_type": "markdown",
   "metadata": {
    "deletable": true,
    "editable": true
   },
   "source": [
    "#### Global Variables and Procedures\n",
    "Procedures introduce two problems. First and foremost, we must be careful to not remove a global variable which is used exclusively within procedures. Our intial approach consisted of scanning all \"blocks\", beginning with the main `program` block, looking for uses of variables. However, if a variable is used exclusively within a procedure, we do not detect that it is used, and therefore miss out on this declaration. The solution in this case is to scan the procedures _first_ and then scan the main `program` block.\n",
    "\n",
    "In the following example, note that although the global variable is never used in the main `program` block, it is used within the procedure `f`, and therefore is not removed. Since all variables are used in this example, the optimizations have no effect on the produced code."
   ]
  },
  {
   "cell_type": "code",
   "execution_count": 6,
   "metadata": {
    "collapsed": false,
    "deletable": true,
    "editable": true
   },
   "outputs": [
    {
     "name": "stdout",
     "output_type": "stream",
     "text": [
      "[('', '.data', ''), ('', '.globl main', ''), ('', '.ent main', ''), ('main', '', ''), ('', 'addi $t0, $0, 2', ''), ('', 'sw $t0, -4($sp)', ''), ('', 'jal', 'f'), ('', 'li $v0, 10', ''), ('', 'syscall', ''), ('', '.end main', '')]\n",
      "[[None, []], ['addi $t0, $0, 2', [4]]]\n",
      "   | Orginal Compiler              | Optimized Compiler            \n",
      "---|-------------------------------|-------------------------------\n",
      " 1 |         .data                 |         .data                 \n",
      " 2 | a_:     .space 4              | a_:     .space 4              \n",
      " 3 |         .text                 |         .text                 \n",
      " 4 |         .globl f              |         .globl f              \n",
      " 5 |         .ent f                |         .ent f                \n",
      " 6 | f:                            | f:                            \n",
      " 7 |         sw $fp, -8($sp)       |         sw $fp, -8($sp)       \n",
      " 8 |         sw $ra, -12($sp)      |         sw $ra, -12($sp)      \n",
      " 9 |         sub $fp, $sp, 4       |         sub $fp, $sp, 4       \n",
      "10 |         sub $sp, $fp, 8       |         sub $sp, $fp, 8       \n",
      "11 |         lw $t7, 0($fp)        |         lw $t7, 0($fp)        \n",
      "12 |         sw $t7, a_            |         sw $t7, a_            \n",
      "13 |         add $sp, $fp, 4       |         add $sp, $fp, 4       \n",
      "14 |         lw $ra, -8($fp)       |         lw $ra, -8($fp)       \n",
      "15 |         lw $fp, -4($fp)       |         lw $fp, -4($fp)       \n",
      "16 |         jr $ra                |         jr $ra                \n",
      "17 |         .text                 |         .globl main           \n",
      "18 |         .globl main           |         .ent main             \n",
      "19 |         .ent main             | main:                         \n",
      "20 | main:                         |         addi $t0, $0, 2       \n",
      "21 |         addi $t0, $0, 2       |         sw $t0, -4($sp)       \n",
      "22 |         sw $t0, -4($sp)       |         jal, f                \n",
      "23 |         jal, f                |         li $v0, 10            \n",
      "24 |         li $v0, 10            |         syscall               \n",
      "25 |         syscall               |         .end main             \n",
      "26 |         .end main             | \n"
     ]
    }
   ],
   "source": [
    "compareOutput(\"\"\"program p;\n",
    "    var a: integer;\n",
    "    procedure f(i: integer);\n",
    "        begin\n",
    "        a := i\n",
    "        end;\n",
    "    begin\n",
    "        f(2)\n",
    "    end\n",
    "    \"\"\")"
   ]
  },
  {
   "cell_type": "markdown",
   "metadata": {
    "deletable": true,
    "editable": true
   },
   "source": [
    "The second problem is a result of the `P0` language supporting _shadowing_. Shadowing describes the phenomenon where a local variable has the same name as a global variable, and there hides or \"shadows\" the global variable. In this case, we must detect that the variable being used is actually a local variable, not a global variable.\n",
    "\n",
    "The following example demonstrates an unused global variable being removed due to being shadowed."
   ]
  },
  {
   "cell_type": "code",
   "execution_count": 7,
   "metadata": {
    "collapsed": false,
    "deletable": true,
    "editable": true
   },
   "outputs": [
    {
     "name": "stdout",
     "output_type": "stream",
     "text": [
      "[('', '.data', ''), ('', '.globl main', ''), ('', '.ent main', ''), ('main', '', ''), ('', 'addi $t0, $0, 2', ''), ('', 'sw $t0, -4($sp)', ''), ('', 'jal', 'f'), ('', 'li $v0, 10', ''), ('', 'syscall', ''), ('', '.end main', '')]\n",
      "[[None, []], ['addi $t0, $0, 2', [4]]]\n",
      "   | Orginal Compiler              | Optimized Compiler            \n",
      "---|-------------------------------|-------------------------------\n",
      " 1 |         .data                 |         .data                 \n",
      " 2 | a_:     .space 4              |         .text                 \n",
      " 3 |         .text                 |         .globl f              \n",
      " 4 |         .globl f              |         .ent f                \n",
      " 5 |         .ent f                | f:                            \n",
      " 6 | f:                            |         sw $fp, -8($sp)       \n",
      " 7 |         sw $fp, -8($sp)       |         sw $ra, -12($sp)      \n",
      " 8 |         sw $ra, -12($sp)      |         sub $fp, $sp, 4       \n",
      " 9 |         sub $fp, $sp, 4       |         sub $sp, $fp, 12      \n",
      "10 |         sub $sp, $fp, 12      |         lw $t7, 0($fp)        \n",
      "11 |         lw $t7, 0($fp)        |         add $t7, $t7, 1       \n",
      "12 |         add $t7, $t7, 1       |         sw $t7, -12($fp)      \n",
      "13 |         sw $t7, -12($fp)      |         lw $a0, -12($fp)      \n",
      "14 |         lw $a0, -12($fp)      |         li $v0, 1             \n",
      "15 |         li $v0, 1             |         syscall               \n",
      "16 |         syscall               |         add $sp, $fp, 4       \n",
      "17 |         add $sp, $fp, 4       |         lw $ra, -8($fp)       \n",
      "18 |         lw $ra, -8($fp)       |         lw $fp, -4($fp)       \n",
      "19 |         lw $fp, -4($fp)       |         jr $ra                \n",
      "20 |         jr $ra                |         .globl main           \n",
      "21 |         .text                 |         .ent main             \n",
      "22 |         .globl main           | main:                         \n",
      "23 |         .ent main             |         addi $t0, $0, 2       \n",
      "24 | main:                         |         sw $t0, -4($sp)       \n",
      "25 |         addi $t0, $0, 2       |         jal, f                \n",
      "26 |         sw $t0, -4($sp)       |         li $v0, 10            \n",
      "27 |         jal, f                |         syscall               \n",
      "28 |         li $v0, 10            |         .end main             \n",
      "29 |         syscall               | \n",
      "30 |         .end main             | \n"
     ]
    }
   ],
   "source": [
    "compareOutput(\"\"\"program p;\n",
    "    var a: integer;\n",
    "    procedure f(i: integer);\n",
    "        var a: integer;\n",
    "        begin\n",
    "        a := i + 1;\n",
    "        write(a)\n",
    "        end;\n",
    "    begin\n",
    "        f(2)\n",
    "    end\n",
    "    \"\"\")"
   ]
  },
  {
   "cell_type": "markdown",
   "metadata": {
    "deletable": true,
    "editable": true
   },
   "source": [
    "### Common Subexpression Elimination\n",
    "The following  example demonstrates common subexpression elimination.  Common subexpressions (CSEs) are instances where two high level operations use a common expression, leading to repeated calculation of previously calculated values.  For instance:"
   ]
  },
  {
   "cell_type": "code",
   "execution_count": 9,
   "metadata": {
    "collapsed": false
   },
   "outputs": [
    {
     "name": "stdout",
     "output_type": "stream",
     "text": [
      "[('', '.data', ''), ('', '.globl main', ''), ('', '.ent main', ''), ('main', '', ''), ('', 'addi $t7, $0, 1', ''), ('', 'sw $t7, a_', ''), ('', 'addi $t0, $0, 2', ''), ('', 'sw $t0, b_', ''), ('', 'lw $t6, a_', ''), ('', 'lw $t8, b_', ''), ('', 'add $t6, $t6, $t8', ''), ('', 'sw $t6, c_', ''), ('', 'lw $t5, a_', ''), ('', 'lw $t1, b_', ''), ('', 'add $t5, $t5, $t1', ''), ('', 'sw $t5, d_', ''), ('', 'lw $a0, c_', ''), ('', 'li $v0, 1', ''), ('', 'syscall', ''), ('', 'lw $a0, d_', ''), ('', 'li $v0, 1', ''), ('', 'syscall', ''), ('', 'li $v0, 10', ''), ('', 'syscall', ''), ('', '.end main', '')]\n",
      "[[None, []], ['addi $t7, $0, 1', [4]], ['addi $t0, $0, 2', [6]], ['add $t6, $t6, $t8', [10]], ['add $t5, $t5, $t1', [14]]]\n",
      "   | Orginal Compiler              | Optimized Compiler            \n",
      "---|-------------------------------|-------------------------------\n",
      " 1 |         .data                 |         .data                 \n",
      " 2 | d_:     .space 4              | a_:     .space 4              \n",
      " 3 | c_:     .space 4              | b_:     .space 4              \n",
      " 4 | b_:     .space 4              | c_:     .space 4              \n",
      " 5 | a_:     .space 4              | d_:     .space 4              \n",
      " 6 |         .text                 |         .text                 \n",
      " 7 |         .globl main           |         .globl main           \n",
      " 8 |         .ent main             |         .ent main             \n",
      " 9 | main:                         | main:                         \n",
      "10 |         addi $t7, $0, 1       |         addi $t7, $0, 1       \n",
      "11 |         sw $t7, a_            |         sw $t7, a_            \n",
      "12 |         addi $t0, $0, 2       |         addi $t0, $0, 2       \n",
      "13 |         sw $t0, b_            |         sw $t0, b_            \n",
      "14 |         lw $t6, a_            |         lw $t6, a_            \n",
      "15 |         lw $t8, b_            |         lw $t8, b_            \n",
      "16 |         add $t6, $t6, $t8     |         add $t6, $t6, $t8     \n",
      "17 |         sw $t6, c_            |         sw $t6, c_            \n",
      "18 |         lw $t5, a_            |         lw $t5, a_            \n",
      "19 |         lw $t1, b_            |         lw $t1, b_            \n",
      "20 |         add $t5, $t5, $t1     |         add $t5, $t5, $t1     \n",
      "21 |         sw $t5, d_            |         sw $t5, d_            \n",
      "22 |         lw $a0, c_            |         lw $a0, c_            \n",
      "23 |         li $v0, 1             |         li $v0, 1             \n",
      "24 |         syscall               |         syscall               \n",
      "25 |         lw $a0, d_            |         lw $a0, d_            \n",
      "26 |         li $v0, 1             |         li $v0, 1             \n",
      "27 |         syscall               |         syscall               \n",
      "28 |         li $v0, 10            |         li $v0, 10            \n",
      "29 |         syscall               |         syscall               \n",
      "30 |         .end main             |         .end main             \n"
     ]
    },
    {
     "data": {
      "text/plain": [
       "'compareOutput(\"\"\"program p;\\n    var a: integer;\\n    procedure f(i: integer);\\n        var a: integer;\\n        begin\\n        a := i + 1;\\n        write(a)\\n        end;\\n    begin\\n        f(2)\\n    end\\n    \"\"\")'"
      ]
     },
     "execution_count": 9,
     "metadata": {},
     "output_type": "execute_result"
    }
   ],
   "source": [
    "\"\"\"program p;\n",
    "    var a,b,c,d,e,temp: integer;\n",
    "    procedure f;\n",
    "        begin\n",
    "        a := 1;\n",
    "        b := 2;\n",
    "        c := a + b;\n",
    "        d := a + b;\n",
    "        write(c);\n",
    "        write(d)\n",
    "        end;\n",
    "    procedure g;\n",
    "        begin\n",
    "        a := 1;\n",
    "        b := 2;\n",
    "        c := a + b;\n",
    "        a := 3;\n",
    "        d := a + b;\n",
    "        write(c);\n",
    "        write(d)\n",
    "        end;\n",
    "    #Below is invalid syntax for P0, but important to note for other compilers and languages:\n",
    "    procedure h;\n",
    "        begin\n",
    "        a := 1;\n",
    "        b := 2;\n",
    "        c := a + b + 5;\n",
    "        d := a + b + c + 10;\n",
    "        e := a + b + c + 20;\n",
    "        write(d);\n",
    "        write(e)\n",
    "        end;\n",
    "    procedure x;\n",
    "        begin\n",
    "        a := 1;\n",
    "        b := 2;\n",
    "        temp := a + b;\n",
    "        c := temp;\n",
    "        d := temp;\n",
    "        write(c);\n",
    "        write(d)\n",
    "        end;\n",
    "    begin\n",
    "        f()\n",
    "        g()\n",
    "        h()\n",
    "        x()\n",
    "    end\n",
    "\"\"\"\n",
    "\n",
    "compareOutput(\"\"\"program p;\n",
    "    var a,b,c,d: integer;\n",
    "    begin\n",
    "        a := 1;\n",
    "        b := 2;\n",
    "        c := a + b;\n",
    "        d := a + b;\n",
    "        write(c);\n",
    "        write(d)\n",
    "    end\n",
    "    \"\"\")"
   ]
  },
  {
   "cell_type": "markdown",
   "metadata": {},
   "source": [
    "The above functions each display a different aspect of CSEs.  f gives a very basic example of what a common subexpression may look like, where a + b is the CSE between c and d. Now, having identified a CSE, we can now use common subexpression elimination.  First, we store the result of a + b into a new register, then replace the instances of a + b with our temporary variable.  x is an example of what a CSE elimination looks like on a high level.\n",
    "\n",
    "g shows another important aspect of CSEs, that we cannot assume that just because an expression may contain the same variables, it is a safe elimination.  Doing so here would result in an incorrect output of d, as the value of a has changed.  Therefore we must make sure that no changes to any variables in our CSE were changed between instances of it.  Failing to do so will likely lead to incorrect output.\n",
    "\n",
    "Finally, h, while not valid in P0 and therefore not implemented as shown, is an example that CSEs are not necessarily only 2 variables in size, they may be any size, however the more complex a CSE the more difficult it is to keep track of its individual components and ensure that no unsafe optimization occurs.  This is mitigated by making common subexpression elimination only remove 2 term CSEs and repeatedly run until no more code changes occur, so that at each step two variables are collapsed into one, and if any changes were to occur to any component variables of the CSE, an earlier run of the elimination would correctly determine that the CSE is unsafe.\n",
    "\n",
    "CSE elimination can also run into issues where two expressions are common, but due to communitive properties they are out of order.  For instance, x + y == y + x, but the current implementation of CSE elimination does not handle this."
   ]
  },
  {
   "cell_type": "markdown",
   "metadata": {
    "deletable": true,
    "editable": true
   },
   "source": [
    "The following examples demonstrate all of the optimizations working in conjunction."
   ]
  },
  {
   "cell_type": "code",
   "execution_count": null,
   "metadata": {
    "collapsed": false,
    "deletable": true,
    "editable": true
   },
   "outputs": [],
   "source": [
    "compareOutput(\"\"\"program p;\n",
    "      type T = record d,e,f:integer end;\n",
    "      type A = array[0..9] of integer;\n",
    "      var c: integer;\n",
    "      var b: boolean;\n",
    "      var w: A;\n",
    "      procedure q(var z: integer);\n",
    "            type T = record d,e:integer end;\n",
    "            type A = array[0..9] of integer;\n",
    "            var y: integer;\n",
    "            var m,n: boolean;\n",
    "            var w: T;\n",
    "            var wd, we: integer;\n",
    "\n",
    "            begin b:=true; w.d := 9; w.e := 5; w.d := 3 - 1 end;\n",
    "      begin \n",
    "      w[1] := 9; w[2] := 5;\n",
    "        c := 10;\n",
    "        c := c + 1;\n",
    "        write(c);\n",
    "        q(c)\n",
    "      end\n",
    "    \"\"\")"
   ]
  },
  {
   "cell_type": "code",
   "execution_count": null,
   "metadata": {
    "collapsed": false,
    "deletable": true,
    "editable": true
   },
   "outputs": [],
   "source": [
    "compareOutput(\"\"\"program p;\n",
    "  var g: integer;          {global variable}\n",
    "  procedure q(v: integer); {value parameter}\n",
    "    var l: integer;        {local variable}\n",
    "    procedure qx(v: integer); {value parameter}\n",
    "      var l: integer;        {local variable}\n",
    "      procedure qxt(v: integer); {value parameter}\n",
    "        var l: integer;        {local variable}\n",
    "        begin\n",
    "          l := 9\n",
    "        end;\n",
    "      begin\n",
    "        l := 9;\n",
    "        q(l)\n",
    "      end;\n",
    "    procedure qc(v: integer); {value parameter}\n",
    "      var l: integer;        {local variable}\n",
    "      begin\n",
    "        l := 9;\n",
    "        q(l)\n",
    "      end;\n",
    "    begin\n",
    "      l := 9;\n",
    "      qx(l);\n",
    "      if l > v then\n",
    "         write(l)\n",
    "      else\n",
    "         write(g)\n",
    "    end;\n",
    "  procedure x(v: integer); {value parameter}\n",
    "    var l: integer;        {local variable}\n",
    "    begin\n",
    "      l := 9;\n",
    "      q(l)\n",
    "    end;\n",
    "  begin\n",
    "    g := 5;\n",
    "    q(7)\n",
    "  end\n",
    "\"\"\")"
   ]
  },
  {
   "cell_type": "code",
   "execution_count": null,
   "metadata": {
    "collapsed": false,
    "deletable": true,
    "editable": true
   },
   "outputs": [],
   "source": [
    "compareOutput(\"\"\"program p;\n",
    "  var g: integer;          {global variable}\n",
    "  procedure x(v: integer); {value parameter}\n",
    "    var l: integer;        {local variable}\n",
    "    procedure x2(v: integer); {value parameter}\n",
    "    var l: integer;        {local variable}\n",
    "    begin\n",
    "      l := 9;\n",
    "      x2(l)\n",
    "    end;\n",
    "    begin\n",
    "      l := 9;\n",
    "      x2(l)\n",
    "    end;\n",
    "  begin\n",
    "    g := 5;\n",
    "    x(g)\n",
    "  end\n",
    "\"\"\")"
   ]
  }
 ],
 "metadata": {
  "kernelspec": {
   "display_name": "Python 3",
   "language": "python",
   "name": "python3"
  },
  "language_info": {
   "codemirror_mode": {
    "name": "ipython",
    "version": 3
   },
   "file_extension": ".py",
   "mimetype": "text/x-python",
   "name": "python",
   "nbconvert_exporter": "python",
   "pygments_lexer": "ipython3",
   "version": "3.6.0"
  }
 },
 "nbformat": 4,
 "nbformat_minor": 2
}
