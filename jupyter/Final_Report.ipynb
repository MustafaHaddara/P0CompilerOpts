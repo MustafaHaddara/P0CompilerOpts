{
 "cells": [
  {
   "cell_type": "markdown",
   "metadata": {
    "deletable": true,
    "editable": true
   },
   "source": [
    "## P0 Test Suite\n",
    "#### Original Author: Emil Sekerinski, McMaster University, February 2017\n",
    "#### Modified by Dom DiPasquale, Patrick Jakubowski, and Mustafa Haddara"
   ]
  },
  {
   "cell_type": "code",
   "execution_count": null,
   "metadata": {
    "collapsed": false,
    "deletable": true,
    "editable": true,
    "scrolled": true
   },
   "outputs": [],
   "source": [
    "import nbimporter\n",
    "from Util import compareOutput"
   ]
  },
  {
   "cell_type": "markdown",
   "metadata": {
    "deletable": true,
    "editable": true
   },
   "source": [
    "## Introduction\n",
    "The compiler problem is generally solved; that is, the task of translating an input text based on a known grammar and rules describing the desired output has a generally accepted solution. However, due to the vagueness and abstractness of the grammar and rules, the resulting code may be unnecessarily complex or inefficient.\n",
    "\n",
    "The job of a compiler optimization is to make the resulting code more efficient, either in memory use or cpu time. In project we implement a few optimizations to the `P0` compiler used throughout the course and demonstrate the reductions in memory use or cpu time from the optimized code compared to the code produced by the original compiler.\n",
    "\n",
    "## Optimizations Implemented\n",
    "We implemented 4 optimizations. The first two remove unused code to reduce memory overhead, the second two simplify existing code for faster execution. \n",
    "1. Removing Unused Procedures\n",
    "1. Removing Unused Variables \n",
    "1. Dead Store Elimination\n",
    "1. Common Subexpression Elimination\n",
    "\n",
    "## Ordering\n",
    "We conduct our individual optimizations serially, in the order that we believed would eliminate the largest chunks of code first: procedures are generally larger than the effective \"lifetime\" of a variable, which in turn are larger than the sizes of the subexpressions we evaluate in Optimization #4. Thus, when moving down to a \"smaller\" chunk, we can be sure that this chunk is used by the surrounding code, rather than evaluating variables when the containing procedure is never used. Using this method, we can gaurantee that each sequential optimization has to iterate over the least amount code that we deem useful.\n",
    "\n",
    "## Examples"
   ]
  },
  {
   "cell_type": "markdown",
   "metadata": {
    "deletable": true,
    "editable": true
   },
   "source": [
    "### Unused Procedures Elimination\n",
    "\n",
    "The following example demonstrates unused procedures elimination. An \"unused procedure\" is when a procedure is defined, but that procedure is never used within the main program's function call graph.\n",
    "\n",
    "Notice in the example that although we define procedures b, c and e on lines 6, 22 and 42 respectively, we never call these procedures from the main program's function call graph. Notice in the example that procedure b is called within procedure c, but since procedure c is never called from the main program's function call graph, procedure b is also never called from the main program's function call graph. Notice in the example that procedure e is defined in procedure d and procedure d is called from the main program's function call graph, but procedure e is never called from the main program's function call graph.\n",
    "\n",
    "Future work includes implementing procedure inlining, which would save the overhead of procedure calls. This would eliminate even more defined procedures and as a result, reduce the amount of jal operations.\n",
    "Future work includes eliminating unused writes to registers, which would save instructions. However, since these writes are typically add or addi operations, the only savings we will see will be from fewer operations; add and addi operations are typically very quick instructions, especially compared to sw operations, which can take far longer."
   ]
  },
  {
   "cell_type": "code",
   "execution_count": null,
   "metadata": {
    "collapsed": false,
    "deletable": true,
    "editable": true
   },
   "outputs": [],
   "source": [
    "compareOutput(\"\"\"program p;\n",
    "    var a: integer;\n",
    "    procedure b(i: integer);\n",
    "        begin\n",
    "            a := a + i\n",
    "        end;\n",
    "    procedure c(i: integer);\n",
    "        begin\n",
    "            a := a + i;\n",
    "            b(1)\n",
    "        end;\n",
    "    procedure d(i: integer);\n",
    "        procedure e(i: integer);\n",
    "            begin\n",
    "                a := a + i\n",
    "            end;\n",
    "        begin\n",
    "            a := a + i\n",
    "        end;\n",
    "    begin\n",
    "        a := a + 1;\n",
    "        d(1)\n",
    "    end\n",
    "    \"\"\")"
   ]
  },
  {
   "cell_type": "markdown",
   "metadata": {
    "deletable": true,
    "editable": true
   },
   "source": [
    "### Dead Store Elimination\n",
    "The following example demonstrates dead store elimination. A \"dead store\" is a memory operation that stores a value to a memory location, but that memory location is never read from for the rest of the program. Thus, this store is unused or \"dead\".\n",
    "\n",
    "Notice in the example that although we store the value `5` to variable `b` on line 15, we never read that value from that variable. Thus the second `sw` operation to `b` is unneeded.\n",
    "\n",
    "Future work includes eliminating unused writes to registers, which would save instructions. However, since these writes are typically `add` or `addi` operations, the only savings we will see will be from fewer operations; `add` and `addi` operations are typically very quick instructions, especially compared to `sw` operations, which can take far longer."
   ]
  },
  {
   "cell_type": "code",
   "execution_count": null,
   "metadata": {
    "collapsed": false,
    "deletable": true,
    "editable": true
   },
   "outputs": [],
   "source": [
    "compareOutput(\"\"\"program p;\n",
    "    var a,b: integer;\n",
    "    begin\n",
    "        b := 4;\n",
    "        a := 10 + b;\n",
    "        b := 5;\n",
    "        write(a)\n",
    "    end\n",
    "    \"\"\")"
   ]
  },
  {
   "cell_type": "markdown",
   "metadata": {
    "deletable": true,
    "editable": true
   },
   "source": [
    "Procedures present an interesting complication; since the `$fp` and `$sp` registers are used across procedures, the stores and loads for each of these registers do not happen in the sequence of instructions. We mark these as special case registers, and any `sw` operations writing to these locations are never removed. Additionally, these registers are always used with relative addresses, and those relative addresses are not always consistent throughout the entire use.\n",
    "\n",
    "For instance, consider the following `P0` code. The `sw` at the beginning of the function block stores the value of `$fp` into the memory location `$sp - 8` (line 6). However, at the end of the function, the same memory location is refered to by the address `$fp - 4` (line 15). If we only considered exact memory locations, we would remove the first `sw` operations at the beginning of the function block, which would lead to incorrect code. "
   ]
  },
  {
   "cell_type": "code",
   "execution_count": null,
   "metadata": {
    "collapsed": false,
    "deletable": true,
    "editable": true
   },
   "outputs": [],
   "source": [
    "compareOutput(\"\"\"program p;\n",
    "    procedure f(i: integer);\n",
    "        begin\n",
    "        write(i)\n",
    "        end;\n",
    "    begin\n",
    "        f(2)\n",
    "    end\n",
    "    \"\"\")"
   ]
  },
  {
   "cell_type": "markdown",
   "metadata": {
    "deletable": true,
    "editable": true
   },
   "source": [
    "### Unused Variable Elimination\n",
    "The following example demonstrates unused variable elimination; we detect the variables never used and remove them from the program. Since we perform the dead store elimination before this optimization, we are able to detect that variable `b` is never used. Therefore, we are allowed to remove that memory declaration in addition to the declaration for  variable `c`, which is never used (read or written to) in the program.\n",
    "\n",
    "In the cases of unused variables within function calls, we are able to reduce the amount of stack space allocated by the function (line 12) and must also be careful to remap the used variables to their new memory addresses, ie. if we only allocate 16 bytes on the stack, we should not refer to the value at `$sp - 20`."
   ]
  },
  {
   "cell_type": "code",
   "execution_count": null,
   "metadata": {
    "collapsed": false,
    "deletable": true,
    "editable": true
   },
   "outputs": [],
   "source": [
    "compareOutput(\"\"\"program p;\n",
    "    var a,b,c: integer;\n",
    "    procedure f;\n",
    "        var m,n,o: integer;\n",
    "        begin\n",
    "        o := 1;\n",
    "        m := 2;\n",
    "        write(o)\n",
    "        end;\n",
    "    begin\n",
    "        b := 4;\n",
    "        a := 10;\n",
    "        b := 5;\n",
    "        f();\n",
    "        write(a)\n",
    "    end\n",
    "    \"\"\")"
   ]
  },
  {
   "cell_type": "markdown",
   "metadata": {
    "deletable": true,
    "editable": true
   },
   "source": [
    "#### Global Variables and Procedures\n",
    "Procedures introduce two problems. First and foremost, we must be careful to not remove a global variable which is used exclusively within procedures. Our intial approach consisted of scanning all \"blocks\", beginning with the main `program` block, looking for uses of variables. However, if a variable is used exclusively within a procedure, we do not detect that it is used, and therefore miss out on this declaration. The solution in this case is to scan the procedures _first_ and then scan the main `program` block.\n",
    "\n",
    "In the following example, note that although the global variable is never used in the main `program` block, it is used within the procedure `f`, and therefore is not removed. Since all variables are used in this example, the optimizations have no effect on the produced code."
   ]
  },
  {
   "cell_type": "code",
   "execution_count": null,
   "metadata": {
    "collapsed": false,
    "deletable": true,
    "editable": true
   },
   "outputs": [],
   "source": [
    "compareOutput(\"\"\"program p;\n",
    "    var a: integer;\n",
    "    procedure f(i: integer);\n",
    "        begin\n",
    "        a := i\n",
    "        end;\n",
    "    begin\n",
    "        f(2)\n",
    "    end\n",
    "    \"\"\")"
   ]
  },
  {
   "cell_type": "markdown",
   "metadata": {
    "deletable": true,
    "editable": true
   },
   "source": [
    "The second problem is a result of the `P0` language supporting _shadowing_. Shadowing describes the phenomenon where a local variable has the same name as a global variable, and there hides or \"shadows\" the global variable. In this case, we must detect that the variable being used is actually a local variable, not a global variable.\n",
    "\n",
    "The following example demonstrates an unused global variable being removed due to being shadowed."
   ]
  },
  {
   "cell_type": "code",
   "execution_count": null,
   "metadata": {
    "collapsed": false,
    "deletable": true,
    "editable": true
   },
   "outputs": [],
   "source": [
    "compareOutput(\"\"\"program p;\n",
    "    var a: integer;\n",
    "    procedure f(i: integer);\n",
    "        var a: integer;\n",
    "        begin\n",
    "        a := i + 1;\n",
    "        write(a)\n",
    "        end;\n",
    "    begin\n",
    "        f(2)\n",
    "    end\n",
    "    \"\"\")"
   ]
  },
  {
   "cell_type": "markdown",
   "metadata": {
    "deletable": true,
    "editable": true
   },
   "source": [
    "### TODO Pat fill in CSE"
   ]
  },
  {
   "cell_type": "markdown",
   "metadata": {
    "deletable": true,
    "editable": true
   },
   "source": [
    "The following examples demonstrate all of the optimizations working in conjunction."
   ]
  },
  {
   "cell_type": "code",
   "execution_count": null,
   "metadata": {
    "collapsed": false,
    "deletable": true,
    "editable": true
   },
   "outputs": [],
   "source": [
    "compareOutput(\"\"\"program p;\n",
    "      type T = record d,e,f:integer end;\n",
    "      type A = array[0..9] of integer;\n",
    "      var c: integer;\n",
    "      var b: boolean;\n",
    "      var w: A;\n",
    "      procedure q(var z: integer);\n",
    "            type T = record d,e:integer end;\n",
    "            type A = array[0..9] of integer;\n",
    "            var y: integer;\n",
    "            var m,n: boolean;\n",
    "            var w: T;\n",
    "            var wd, we: integer;\n",
    "\n",
    "            begin b:=true; w.d := 9; w.e := 5; w.d := 3 - 1 end;\n",
    "      begin \n",
    "      w[1] := 9; w[2] := 5;\n",
    "        c := 10;\n",
    "        c := c + 1;\n",
    "        write(c);\n",
    "        q(c)\n",
    "      end\n",
    "    \"\"\")"
   ]
  },
  {
   "cell_type": "code",
   "execution_count": null,
   "metadata": {
    "collapsed": false,
    "deletable": true,
    "editable": true
   },
   "outputs": [],
   "source": [
    "compareOutput(\"\"\"program p;\n",
    "  var g: integer;          {global variable}\n",
    "  procedure q(v: integer); {value parameter}\n",
    "    var l: integer;        {local variable}\n",
    "    procedure qx(v: integer); {value parameter}\n",
    "      var l: integer;        {local variable}\n",
    "      procedure qxt(v: integer); {value parameter}\n",
    "        var l: integer;        {local variable}\n",
    "        begin\n",
    "          l := 9\n",
    "        end;\n",
    "      begin\n",
    "        l := 9;\n",
    "        q(l)\n",
    "      end;\n",
    "    procedure qc(v: integer); {value parameter}\n",
    "      var l: integer;        {local variable}\n",
    "      begin\n",
    "        l := 9;\n",
    "        q(l)\n",
    "      end;\n",
    "    begin\n",
    "      l := 9;\n",
    "      qx(l);\n",
    "      if l > v then\n",
    "         write(l)\n",
    "      else\n",
    "         write(g)\n",
    "    end;\n",
    "  procedure x(v: integer); {value parameter}\n",
    "    var l: integer;        {local variable}\n",
    "    begin\n",
    "      l := 9;\n",
    "      q(l)\n",
    "    end;\n",
    "  begin\n",
    "    g := 5;\n",
    "    q(7)\n",
    "  end\n",
    "\"\"\")"
   ]
  },
  {
   "cell_type": "code",
   "execution_count": null,
   "metadata": {
    "collapsed": false,
    "deletable": true,
    "editable": true
   },
   "outputs": [],
   "source": [
    "compareOutput(\"\"\"program p;\n",
    "  var g: integer;          {global variable}\n",
    "  procedure x(v: integer); {value parameter}\n",
    "    var l: integer;        {local variable}\n",
    "    procedure x2(v: integer); {value parameter}\n",
    "    var l: integer;        {local variable}\n",
    "    begin\n",
    "      l := 9;\n",
    "      x2(l)\n",
    "    end;\n",
    "    begin\n",
    "      l := 9;\n",
    "      x2(l)\n",
    "    end;\n",
    "  begin\n",
    "    g := 5;\n",
    "    x(g)\n",
    "  end\n",
    "\"\"\")"
   ]
  }
 ],
 "metadata": {
  "kernelspec": {
   "display_name": "Python 3",
   "language": "python",
   "name": "python3"
  },
  "language_info": {
   "codemirror_mode": {
    "name": "ipython",
    "version": 3
   },
   "file_extension": ".py",
   "mimetype": "text/x-python",
   "name": "python",
   "nbconvert_exporter": "python",
   "pygments_lexer": "ipython3",
   "version": "3.5.1"
  }
 },
 "nbformat": 4,
 "nbformat_minor": 2
}
