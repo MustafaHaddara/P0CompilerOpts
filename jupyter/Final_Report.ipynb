{
 "cells": [
  {
   "cell_type": "markdown",
   "metadata": {
    "deletable": true,
    "editable": true
   },
   "source": [
    "## P0 Test Suite\n",
    "#### Original Author: Emil Sekerinski, McMaster University, February 2017\n",
    "#### Modified by Dom DiPasquale, Patrick Jakubowski, and Mustafa Haddara"
   ]
  },
  {
   "cell_type": "code",
   "execution_count": 2,
   "metadata": {
    "collapsed": false,
    "deletable": true,
    "editable": true,
    "scrolled": true
   },
   "outputs": [],
   "source": [
    "import os\n",
    "import nbimporter\n",
    "import P0"
   ]
  },
  {
   "cell_type": "markdown",
   "metadata": {
    "deletable": true,
    "editable": true
   },
   "source": [
    "## Introduction\n",
    "The compiler problem is generally solved; that is, the task of translating an input text based on a known grammar and rules describing the desired output has a generally accepted solution. However, due to the vagueness and abstractness of the grammar and rules, the resulting code may be unnecessarily complex or inefficient.\n",
    "\n",
    "The job of a compiler optimization is to make the resulting code more efficient, either in memory use or cpu time. In project we implement a few optimizations to the `P0` compiler used throughout the course and demonstrate the reductions in memory use or cpu time from the optimized code compared to the code produced by the original compiler.\n",
    "\n",
    "## Optimizations Implemented\n",
    "We implemented 4 optimizations. The first two remove unused code to reduce memory overhead, the second two simplify existing code for faster execution. \n",
    "1. Removing Unused Procedures\n",
    "1. Removing Unused Variables \n",
    "1. Dead Store Elimination\n",
    "1. Common Subexpression Elimination\n",
    "\n",
    "## Ordering\n",
    "We conduct the optimizations in order of size of the affected code: procedures are generally larger than the effective \"lifetime\" of a variable, which in turn are larger than the sizes of the subexpressions we evaluate in Optimization #4. Thus, when moving down to a \"smaller\" chunk, we can be sure that this chunk is used by the surrounding code. For instance, evaluating variable use is pointless when the containing procedure is never used. \n",
    "\n",
    "# TODO the line above may need to be phrased better?\n",
    "\n",
    "## Examples\n",
    "The following utility method compiles the provided source both with and without optimizations and renders the results nicely for comparison."
   ]
  },
  {
   "cell_type": "code",
   "execution_count": 3,
   "metadata": {
    "collapsed": false,
    "deletable": true,
    "editable": true
   },
   "outputs": [],
   "source": [
    "def compareOutput(src):\n",
    "    P0.compileString(src, 'reg', target='mips')\n",
    "    P0.compileString(src, 'opt', target='opt')\n",
    "    \n",
    "    with open('reg') as f, open('opt') as o:\n",
    "        reg = ['Orginal Compiler'] + f.read().split('\\n')\n",
    "        opt = ['Optimized Compiler'] + o.read().split('\\n')\n",
    "    os.remove('reg')\n",
    "    os.remove('opt')\n",
    "    \n",
    "    tabsize = 8\n",
    "    def rmtabs(s):\n",
    "        res = ''\n",
    "        for i in range(len(s)):\n",
    "            if s[i] == '\\t':\n",
    "                res = res + ' ' * (tabsize-(i%tabsize))\n",
    "            else:\n",
    "                res = res + s[i]\n",
    "        return res\n",
    "\n",
    "    maxlinelen = 30\n",
    "    def rightpad(s, n=maxlinelen, c=' '):\n",
    "        clean = rmtabs(s)\n",
    "        while len(clean) < n:\n",
    "            clean = clean + c\n",
    "        return clean\n",
    "    \n",
    "    for i in range(len(reg)):\n",
    "        ls = rightpad(reg[i]) + '| '\n",
    "        rs = opt[i] if i < len(opt) else ''\n",
    "        print(ls+rs)"
   ]
  },
  {
   "cell_type": "markdown",
   "metadata": {
    "deletable": true,
    "editable": true
   },
   "source": [
    "### TODO Dom fill in unused procedures"
   ]
  },
  {
   "cell_type": "markdown",
   "metadata": {
    "deletable": true,
    "editable": true
   },
   "source": [
    "### Dead Store Elimination\n",
    "The following example demonstrates dead store elimination. A \"dead store\" is a memory operation that stores a value to a memory location, but that memory location is never read from for the rest of the program. Thus, this store is unused or \"dead\".\n",
    "\n",
    "Notice in the example that although we store the value `5` to variable `b`, we never read that value from that variable. Thus the second `sw` operation to `b` is unneeded.\n",
    "\n",
    "Future work includes eliminating unused writes to registers, which would save instructions. However, since these writes are typically `add` or `addi` operations, the only savings we will see will be from fewer operations; `add` and `addi` operations are typically very quick instructions, especially compared to `sw` operations, which can take far longer."
   ]
  },
  {
   "cell_type": "code",
   "execution_count": 4,
   "metadata": {
    "collapsed": false,
    "deletable": true,
    "editable": true
   },
   "outputs": [
    {
     "name": "stdout",
     "output_type": "stream",
     "text": [
      "importing Jupyter notebook from CGmips.ipynb\n",
      "importing Jupyter notebook from CGopts.ipynb\n",
      "0 [('b_', 4), ('a_', 4)] {'b_': False, 'a_': False}\n",
      "b_ sw $t8, b_\n",
      "a_ sw $t5, a_\n",
      "0 [('b_', 4), ('a_', 4)] {'b_': True, 'a_': True}\n",
      "TODO\n",
      "Orginal Compiler              | Optimized Compiler\n",
      "        .data                 | \t.data\n",
      "b_:     .space 4              | b_:\t.space 4\n",
      "a_:     .space 4              | a_:\t.space 4\n",
      "        .text                 | \t.text\n",
      "        .globl main           | \t.globl main\n",
      "        .ent main             | \t.ent main\n",
      "main:                         | main:\t\n",
      "        addi $t8, $0, 4       | \taddi $t8, $0, 4\n",
      "        sw $t8, b_            | \tsw $t8, b_\n",
      "        addi $t5, $0, 10      | \taddi $t5, $0, 10\n",
      "        lw $t7, b_            | \tlw $t7, b_\n",
      "        add $t5, $t5, $t7     | \tadd $t5, $t5, $t7\n",
      "        sw $t5, a_            | \tsw $t5, a_\n",
      "        addi $t2, $0, 5       | \taddi $t2, $0, 5\n",
      "        sw $t2, b_            | \tlw $a0, a_\n",
      "        lw $a0, a_            | \tli $v0, 1\n",
      "        li $v0, 1             | \tsyscall\n",
      "        syscall               | \tli $v0, 10\n",
      "        li $v0, 10            | \tsyscall\n",
      "        syscall               | \t.end main\n",
      "        .end main             | \n"
     ]
    }
   ],
   "source": [
    "compareOutput(\"\"\"program p;\n",
    "    var a,b: integer;\n",
    "    begin\n",
    "        b := 4;\n",
    "        a := 10 + b;\n",
    "        b := 5;\n",
    "        write(a)\n",
    "    end\n",
    "    \"\"\")"
   ]
  },
  {
   "cell_type": "markdown",
   "metadata": {
    "deletable": true,
    "editable": true
   },
   "source": [
    "### Unused Variable Elimination\n",
    "The following example demonstrates unused variable elimination; we detect the variables never used and remove them from the program. Since we perform the dead store elimination before this optimization, we are able to detect that variable `b` is never used. Therefore, we are allowed to remove that memory declaration in addition to the declaration for  variable `c`, which is never used (read or written to) in the program."
   ]
  },
  {
   "cell_type": "code",
   "execution_count": 5,
   "metadata": {
    "collapsed": false,
    "deletable": true,
    "editable": true
   },
   "outputs": [
    {
     "name": "stdout",
     "output_type": "stream",
     "text": [
      "0 [('c_', 4), ('b_', 4), ('a_', 4)] {'c_': False, 'b_': False, 'a_': False}\n",
      "a_ sw $t5, a_\n",
      "0 [('a_', 4)] {'c_': False, 'b_': False, 'a_': True}\n",
      "TODO\n",
      "Orginal Compiler              | Optimized Compiler\n",
      "        .data                 | \t.data\n",
      "c_:     .space 4              | a_:\t.space 4\n",
      "b_:     .space 4              | \t.text\n",
      "a_:     .space 4              | \t.globl main\n",
      "        .text                 | \t.ent main\n",
      "        .globl main           | main:\t\n",
      "        .ent main             | \taddi $t8, $0, 4\n",
      "main:                         | \taddi $t5, $0, 10\n",
      "        addi $t8, $0, 4       | \tsw $t5, a_\n",
      "        sw $t8, b_            | \taddi $t7, $0, 5\n",
      "        addi $t5, $0, 10      | \tlw $a0, a_\n",
      "        sw $t5, a_            | \tli $v0, 1\n",
      "        addi $t7, $0, 5       | \tsyscall\n",
      "        sw $t7, b_            | \tli $v0, 10\n",
      "        lw $a0, a_            | \tsyscall\n",
      "        li $v0, 1             | \t.end main\n",
      "        syscall               | \n",
      "        li $v0, 10            | \n",
      "        syscall               | \n",
      "        .end main             | \n"
     ]
    }
   ],
   "source": [
    "compareOutput(\"\"\"program p;\n",
    "    var a,b,c: integer;\n",
    "    begin\n",
    "        b := 4;\n",
    "        a := 10;\n",
    "        b := 5;\n",
    "        write(a)\n",
    "    end\n",
    "    \"\"\")"
   ]
  },
  {
   "cell_type": "markdown",
   "metadata": {
    "deletable": true,
    "editable": true
   },
   "source": [
    "#### Global Variables and Procedures\n",
    "Procedures introduce two problems. First and foremost, we must be careful to not remove a global variable which is used exclusively within procedures. Our intial approach consisted of scanning all \"blocks\", beginning with the main `program` block, looking for uses of variables. However, if a variable is used exclusively within a procedure, we do not detect that it is used, and therefore miss out on this declaration. The solution in this case is to scan the procedures _first_ and then scan the main `program` block.\n",
    "# TODO this doesn't work yet fix it"
   ]
  },
  {
   "cell_type": "code",
   "execution_count": 6,
   "metadata": {
    "collapsed": false,
    "deletable": true,
    "editable": true
   },
   "outputs": [
    {
     "name": "stdout",
     "output_type": "stream",
     "text": [
      "1 [('a_', 4)] {'a_': False}\n",
      "a_ sw $t8, a_\n",
      "1 [('a_', 4)] {'a_': True}\n",
      "0 [('a_', 4)] {'a_': True}\n",
      "0 [] {'a_': True}\n",
      "TODO\n",
      "Orginal Compiler              | Optimized Compiler\n",
      "        .data                 | \t.data\n",
      "a_:     .space 4              | a_:\t.space 4\n",
      "        .text                 | \t.text\n",
      "        .globl f              | \t.globl f\n",
      "        .ent f                | \t.ent f\n",
      "f:                            | f:\t\n",
      "        sw $fp, -8($sp)       | \tsub $fp, $sp, 4\n",
      "        sw $ra, -12($sp)      | \tsub $sp, $fp, 8\n",
      "        sub $fp, $sp, 4       | \tlw $t8, 0($fp)\n",
      "        sub $sp, $fp, 8       | \tsw $t8, a_\n",
      "        lw $t8, 0($fp)        | \tadd $sp, $fp, 4\n",
      "        sw $t8, a_            | \tlw $ra, -8($fp)\n",
      "        add $sp, $fp, 4       | \tlw $fp, -4($fp)\n",
      "        lw $ra, -8($fp)       | \tjr $ra\n",
      "        lw $fp, -4($fp)       | \t.globl main\n",
      "        jr $ra                | \t.ent main\n",
      "        .text                 | main:\t\n",
      "        .globl main           | \taddi $t5, $0, 2\n",
      "        .ent main             | \tjal, f\n",
      "main:                         | \tli $v0, 10\n",
      "        addi $t5, $0, 2       | \tsyscall\n",
      "        sw $t5, -4($sp)       | \t.end main\n",
      "        jal, f                | \n",
      "        li $v0, 10            | \n",
      "        syscall               | \n",
      "        .end main             | \n"
     ]
    }
   ],
   "source": [
    "compareOutput(\"\"\"program p;\n",
    "    var a: integer;\n",
    "    procedure f(i: integer);\n",
    "        begin\n",
    "        a := i\n",
    "        end;\n",
    "    begin\n",
    "        f(2)\n",
    "    end\n",
    "    \"\"\")"
   ]
  },
  {
   "cell_type": "markdown",
   "metadata": {
    "deletable": true,
    "editable": true
   },
   "source": [
    "The second problem is a result of the `P0` language supporting _shadowing_. Shadowing describes the phenomenon where a local variable has the same name as a global variable, and there hides or \"shadows\" the global variable. In this case, we must detect that the variable being used is actually a local variable, not a global variable.\n",
    "\n",
    "The following example demonstrates an unused global variable being removed due to being shadowed."
   ]
  },
  {
   "cell_type": "code",
   "execution_count": 7,
   "metadata": {
    "collapsed": false,
    "deletable": true,
    "editable": true
   },
   "outputs": [
    {
     "name": "stdout",
     "output_type": "stream",
     "text": [
      "1 [('a_', 4)] {'a_': False}\n",
      "1 [('a_', 4)] {'a_': False}\n",
      "0 [('a_', 4)] {'a_': False}\n",
      "0 [] {'a_': False}\n",
      "TODO\n",
      "Orginal Compiler              | Optimized Compiler\n",
      "        .data                 | \t.data\n",
      "a_:     .space 4              | \t.text\n",
      "        .text                 | \t.globl f\n",
      "        .globl f              | \t.ent f\n",
      "        .ent f                | f:\t\n",
      "f:                            | \tsub $fp, $sp, 4\n",
      "        sw $fp, -8($sp)       | \tsub $sp, $fp, 12\n",
      "        sw $ra, -12($sp)      | \tlw $t8, 0($fp)\n",
      "        sub $fp, $sp, 4       | \tadd $t8, $t8, 1\n",
      "        sub $sp, $fp, 12      | \tsw $t8, -12($fp)\n",
      "        lw $t8, 0($fp)        | \tlw $a0, -12($fp)\n",
      "        add $t8, $t8, 1       | \tli $v0, 1\n",
      "        sw $t8, -12($fp)      | \tsyscall\n",
      "        lw $a0, -12($fp)      | \tadd $sp, $fp, 4\n",
      "        li $v0, 1             | \tlw $ra, -8($fp)\n",
      "        syscall               | \tlw $fp, -4($fp)\n",
      "        add $sp, $fp, 4       | \tjr $ra\n",
      "        lw $ra, -8($fp)       | \t.globl main\n",
      "        lw $fp, -4($fp)       | \t.ent main\n",
      "        jr $ra                | main:\t\n",
      "        .text                 | \taddi $t5, $0, 2\n",
      "        .globl main           | \tjal, f\n",
      "        .ent main             | \tli $v0, 10\n",
      "main:                         | \tsyscall\n",
      "        addi $t5, $0, 2       | \t.end main\n",
      "        sw $t5, -4($sp)       | \n",
      "        jal, f                | \n",
      "        li $v0, 10            | \n",
      "        syscall               | \n",
      "        .end main             | \n"
     ]
    }
   ],
   "source": [
    "compareOutput(\"\"\"program p;\n",
    "    var a: integer;\n",
    "    procedure f(i: integer);\n",
    "        var a: integer;\n",
    "        begin\n",
    "        a := i + 1;\n",
    "        write(a)\n",
    "        end;\n",
    "    begin\n",
    "        f(2)\n",
    "    end\n",
    "    \"\"\")"
   ]
  },
  {
   "cell_type": "markdown",
   "metadata": {
    "deletable": true,
    "editable": true
   },
   "source": [
    "### TODO Pat fill in CSE"
   ]
  },
  {
   "cell_type": "markdown",
   "metadata": {
    "deletable": true,
    "editable": true
   },
   "source": [
    "The following examples demonstrate all of the optimizations working in conjunction."
   ]
  },
  {
   "cell_type": "code",
   "execution_count": null,
   "metadata": {
    "collapsed": false,
    "deletable": true,
    "editable": true
   },
   "outputs": [],
   "source": [
    "compareOutput(\"\"\"program p;\n",
    "      type T = record d,e,f:integer end;\n",
    "      type A = array[0..9] of integer;\n",
    "      var c: integer;\n",
    "      var b: boolean;\n",
    "      var w: A;\n",
    "      procedure q(var z: integer);\n",
    "            type T = record d,e:integer end;\n",
    "            type A = array[0..9] of integer;\n",
    "            var y: integer;\n",
    "            var m,n: boolean;\n",
    "            var w: T;\n",
    "            var wd, we: integer;\n",
    "\n",
    "            begin b:=true; w.d := 9; w.e := 5; w.d := 3 - 1 end;\n",
    "      begin \n",
    "      w[1] := 9; w[2] := 5;\n",
    "        c := 10;\n",
    "        c := c + 1;\n",
    "        write(c);\n",
    "        q(c)\n",
    "      end\n",
    "    \"\"\")"
   ]
  },
  {
   "cell_type": "code",
   "execution_count": null,
   "metadata": {
    "collapsed": false,
    "deletable": true,
    "editable": true
   },
   "outputs": [],
   "source": [
    "compareOutput(\"\"\"program p;\n",
    "  var g: integer;          {global variable}\n",
    "  procedure q(v: integer); {value parameter}\n",
    "    var l: integer;        {local variable}\n",
    "    procedure qx(v: integer); {value parameter}\n",
    "      var l: integer;        {local variable}\n",
    "      procedure qxt(v: integer); {value parameter}\n",
    "        var l: integer;        {local variable}\n",
    "        begin\n",
    "          l := 9\n",
    "        end;\n",
    "      begin\n",
    "        l := 9;\n",
    "        q(l)\n",
    "      end;\n",
    "    procedure qc(v: integer); {value parameter}\n",
    "      var l: integer;        {local variable}\n",
    "      begin\n",
    "        l := 9;\n",
    "        q(l)\n",
    "      end;\n",
    "    begin\n",
    "      l := 9;\n",
    "      qx(l);\n",
    "      if l > v then\n",
    "         write(l)\n",
    "      else\n",
    "         write(g)\n",
    "    end;\n",
    "  procedure x(v: integer); {value parameter}\n",
    "    var l: integer;        {local variable}\n",
    "    begin\n",
    "      l := 9;\n",
    "      q(l)\n",
    "    end;\n",
    "  begin\n",
    "    g := 5;\n",
    "    q(7)\n",
    "  end\n",
    "\"\"\")"
   ]
  },
  {
   "cell_type": "code",
   "execution_count": null,
   "metadata": {
    "collapsed": false,
    "deletable": true,
    "editable": true
   },
   "outputs": [],
   "source": [
    "compareOutput(\"\"\"program p;\n",
    "  var g: integer;          {global variable}\n",
    "  procedure x(v: integer); {value parameter}\n",
    "    var l: integer;        {local variable}\n",
    "    procedure x2(v: integer); {value parameter}\n",
    "    var l: integer;        {local variable}\n",
    "    begin\n",
    "      l := 9;\n",
    "      x2(l)\n",
    "    end;\n",
    "    begin\n",
    "      l := 9;\n",
    "      x2(l)\n",
    "    end;\n",
    "  begin\n",
    "    g := 5;\n",
    "    x(g)\n",
    "  end\n",
    "\"\"\")"
   ]
  }
 ],
 "metadata": {
  "kernelspec": {
   "display_name": "Python 3",
   "language": "python",
   "name": "python3"
  },
  "language_info": {
   "codemirror_mode": {
    "name": "ipython",
    "version": 3
   },
   "file_extension": ".py",
   "mimetype": "text/x-python",
   "name": "python",
   "nbconvert_exporter": "python",
   "pygments_lexer": "ipython3",
   "version": "3.6.0"
  }
 },
 "nbformat": 4,
 "nbformat_minor": 2
}
