{
 "cells": [
  {
   "cell_type": "markdown",
   "metadata": {
    "deletable": true,
    "editable": true
   },
   "source": [
    "### P0 Code Generator for MIPS\n",
    "#### Emil Sekerinski, March 2017\n",
    "\n",
    "The generated code is kept in memory and all code generation procedures continuously append to that code: procedure `genProgStart` initializes the generator, then `gen`-prefixed procedures are to be called for P0 constructs as in order in which they are recognized by a recursive descent parser, and finally procedure `genProgExit` returns the generated code in assembly language as a string in a format that can be read in by the SPIM simulator. The generation procedures are:\n",
    "- `genBool`, `genInt`, `genRec`, `genArray`\n",
    "- `genProgStart`, `genGlobalVars`, `genProgEntry`, `genProgExit`\n",
    "- `genProcStart`, `genFormalParams`, `genLocalVars`, `genProcEntry`, `genProcExit`\n",
    "- `genSelect`, `genIndex`, `genVar`, `genConst`, `genUnaryOp`, `genBinaryOp`, `genRelation`\n",
    "- `genAssign`, `genActualPara`, `genCall`, `genRead`, `genWrite`, `genWriteln`\n",
    "- `genSeq`, `genCond`, `genIfThen`, `genThen`, `genIfElse`, `genTarget`, `genWhile`\n",
    "\n",
    "Errors in the code generator are reported by calling `mark` of the scanner. The data types of the symbol table are used to specify the P0 constructs for which code is to be generated."
   ]
  },
  {
   "cell_type": "code",
   "execution_count": null,
   "metadata": {
    "collapsed": true,
    "deletable": true,
    "editable": true
   },
   "outputs": [],
   "source": [
    "import nbimporter\n",
    "from SC import TIMES, DIV, MOD, AND, PLUS, MINUS, OR, EQ, NE, LT, GT, LE, \\\n",
    "     GE, NOT, mark\n",
    "from ST import Var, Ref, Const, Type, Proc, StdProc, Int, Bool"
   ]
  },
  {
   "cell_type": "markdown",
   "metadata": {
    "collapsed": true,
    "deletable": true,
    "editable": true
   },
   "source": [
    "Following variables determine the state of the code generator:\n",
    "\n",
    "- `curlev` is the current level of nesting of P0 procedures\n",
    "- `regs` is the set of available MIPS registers for expression evaluation\n",
    "- `label` is a counter for generating new labels\n",
    "- `declarations` is a list of list of declared variables (from the .data section). Each list is a list of declared variables per scope. Each inner list consists of name and size of the declared variable\n",
    "- `instructions` is a list of lists of triples; each list is a list of triples for the current scope. Each triple consists of three (possibly empty) strings\n",
    "   - a label\n",
    "   - an instruction, possibly with operands\n",
    "   - a target (for branch and jump instructions)\n",
    "- `compiledProcedures` is a list of post-optimization procedure mips instructions; these will be inserted into the program after we're done all of the optimizations\n",
    "- `fieldVars` is a list of dicts, with the keys being the names of fields in records, and the keys being their placeholder variable names. See [`genSelect()`](#gen-select) for more details.\n",
    "- `usedGlobalVars` is a single map of names of global variables to a boolean flag which is `True` if they are used and `False` otherwise."
   ]
  },
  {
   "cell_type": "markdown",
   "metadata": {
    "deletable": true,
    "editable": true
   },
   "source": [
    "Procedure `genProgStart()` initializes these variables. Registers `$t0` to `$t9` are used as general-purpose registers."
   ]
  },
  {
   "cell_type": "code",
   "execution_count": 9,
   "metadata": {
    "collapsed": true,
    "deletable": true,
    "editable": true
   },
   "outputs": [],
   "source": [
    "def genProgStart():\n",
    "    global declarations, instructions, compiledProcedures, procNames, fieldVars, usedGlobalVars\n",
    "    global curlev, label, vname, regs, writtenText\n",
    "    declarations = [ [] ]\n",
    "    instructions = [ [] ]\n",
    "    compiledProcedures = []\n",
    "    procNames = []\n",
    "    fieldVars = [ {} ]\n",
    "    usedGlobalVars  = {}\n",
    "    curlev = 0\n",
    "    label = 0\n",
    "    vname = 0\n",
    "    regs = {'$t0', '$t1', '$t2', '$t3', '$t4', '$t5', '$t6', '$t7', '$t8'}\n",
    "    writtenText = False\n",
    "    putInstr('.data')"
   ]
  },
  {
   "cell_type": "markdown",
   "metadata": {
    "deletable": true,
    "editable": true
   },
   "source": [
    "For each global variable, `genGlobalVars(sc, start)` adds the identifier to the list of global declarations and marks it as unused. The parameter `sc` contains the top scope  with all declarations parsed so far; only variable declarations from index `start` on in the top scope are considered. As MIPS instructions are not allowed to be identifiers, all variables get `_`  as suffix to avoid a name clash. We also insert an entry into the `usedGlobalVariables` map, flagging it as unused for now."
   ]
  },
  {
   "cell_type": "code",
   "execution_count": null,
   "metadata": {
    "collapsed": true,
    "deletable": true,
    "editable": true
   },
   "outputs": [],
   "source": [
    "def genGlobalVars(sc, start):\n",
    "    for i in range(len(sc) - 1, start - 1, - 1):\n",
    "        if type(sc[i]) == Var:\n",
    "            sc[i].adr = sc[i].name + '_'\n",
    "            declarations[curlev].append( (sc[i].adr, sc[i].tp.size) )\n",
    "            usedGlobalVars[sc[i].adr] = False"
   ]
  },
  {
   "cell_type": "markdown",
   "metadata": {
    "deletable": true,
    "editable": true
   },
   "source": [
    "Procedure `genProgEntry(ident)` takes the program's name as a parameter. Directives for marking the beginning of the main program are generated; the program's name is it not used. "
   ]
  },
  {
   "cell_type": "code",
   "execution_count": null,
   "metadata": {
    "collapsed": true,
    "deletable": true,
    "editable": true
   },
   "outputs": [],
   "source": [
    "def genProgEntry(ident):\n",
    "    putInstr('.globl main')\n",
    "    putInstr('.ent main')\n",
    "    putLab('main')"
   ]
  },
  {
   "cell_type": "markdown",
   "metadata": {
    "deletable": true,
    "editable": true
   },
   "source": [
    "Procedure `genProgExit(x)` takes parameter `x` with the result of previous `gen-` calls, generates code for exiting the program, directives for marking the end of the main program, runs all available optimizations, consolidates the various arrays used to store instructions (`declarations`, `compliedProcedures`, and `instructions`) and returns the complete assembly code."
   ]
  },
  {
   "cell_type": "code",
   "execution_count": 11,
   "metadata": {
    "collapsed": true,
    "deletable": true,
    "editable": true
   },
   "outputs": [],
   "source": [
    "def assembly(l, i, t):\n",
    "    \"\"\"Convert label l, instruction i, target t to assembly format\"\"\"\n",
    "    return (l + ':\\t' if l else '\\t') + i + (', ' + t if t else '')\n",
    "\n",
    "def genProgExit(x):\n",
    "    putInstr('li $v0, 10')\n",
    "    putInstr('syscall')\n",
    "    putInstr('.end main')\n",
    "    runOptimizations()\n",
    "    combineInstructions()\n",
    "    return '\\n'.join(assembly(l, i, t) for (l, i, t) in instructions[-1])"
   ]
  },
  {
   "cell_type": "markdown",
   "metadata": {
    "deletable": true,
    "editable": true
   },
   "source": [
    "Procedure `combineInstructions` consolidates the various arrays used to store instructions (`declarations`, `compliedProcedures`, and `instructions`) into the main `instructions` array."
   ]
  },
  {
   "cell_type": "code",
   "execution_count": null,
   "metadata": {
    "collapsed": true,
    "deletable": true,
    "editable": true
   },
   "outputs": [],
   "source": [
    "def combineInstructions():\n",
    "    prelude = [instructions[curlev][0]] + declarations[curlev] + [('', '.text', '')]\n",
    "    for proc in compiledProcedures:\n",
    "        prelude += proc\n",
    "    prelude += instructions[curlev][1:]\n",
    "    instructions[curlev] = prelude"
   ]
  },
  {
   "cell_type": "markdown",
   "metadata": {
    "deletable": true,
    "editable": true
   },
   "source": [
    "Running the available optimizations in the following order.\n",
    "1. First we eliminate unused procedures\n",
    "1. Then we eliminate dead stores; these `sw` instructions to memory addresses which are never read from\n",
    "1. Then we eliminate variabls that are never used"
   ]
  },
  {
   "cell_type": "code",
   "execution_count": 1,
   "metadata": {
    "collapsed": true,
    "deletable": true,
    "editable": true
   },
   "outputs": [],
   "source": [
    "def runOptimizations():\n",
    "    removeUnusedProcedures()\n",
    "    deadStoreElimination()\n",
    "    removeUnusedVariables(genDataDecl)"
   ]
  },
  {
   "cell_type": "markdown",
   "metadata": {},
   "source": [
    "The `removeUnusedProcedures` function process the global instruction block, looking for any subroutines. We do this by reading all of the instructions in order, looking for jump and links (`jal` instructions). If we find a `jal`, we know that the memory location of the linked procedure gets read and therefore, must be maintained.\n",
    "\n",
    "Due to the possibility of subroutines accessing other subroutines, as we find a `jal` in the global instruction block, we must also recursively search each nested procedure instructions for additional jump and links via the `recursiveProcedureSearch` function.\n",
    "\n",
    "Once we have finished processing the global instruction block, we can eliminate all procedures that are never accessed."
   ]
  },
  {
   "cell_type": "code",
   "execution_count": 2,
   "metadata": {
    "collapsed": true
   },
   "outputs": [],
   "source": [
    "def removeUnusedProcedures():\n",
    "    global instructions, compiledProcedures\n",
    "    currentInstructions = instructions[curlev]\n",
    "    procedureNames = []\n",
    "    temp = []\n",
    "    for i in range(len(currentInstructions)):\n",
    "        (l,ins,target) = currentInstructions[i]   \n",
    "        if (ins == 'jal'):\n",
    "            recursiveProcedureSearch(procedureNames, temp, target)\n",
    "    compiledProcedures = temp"
   ]
  },
  {
   "cell_type": "markdown",
   "metadata": {},
   "source": [
    "Similar to `removeUnusedProcedures`, the `recursiveProcedureSearch` function process the procedure instructions block, looking for any additional subroutines. We do this by reading all of the instructions of the current procedure in order, looking for jump and links (`jal` instructions). If we find a `jal`, we know that the memory location of the linked procedure also gets read and therefore, must be maintained.\n",
    "\n",
    "Due to the possibility of subroutines accessing other subroutines, as we find a `jal` in the global instruction block, we must also recursively search each nested procedure instructions for additional jump and links via the `recursiveProcedureSearch` function."
   ]
  },
  {
   "cell_type": "code",
   "execution_count": 3,
   "metadata": {
    "collapsed": true
   },
   "outputs": [],
   "source": [
    "def recursiveProcedureSearch(procedureNames, temp, target):\n",
    "    for procedure in range(len(compiledProcedures)):\n",
    "        searchCurrentProcedure = False\n",
    "        for line in range(len(compiledProcedures[procedure])):\n",
    "            if (line == 2 and compiledProcedures[procedure][line][0] == target):\n",
    "                if compiledProcedures[procedure][line][0] not in procedureNames:\n",
    "                    procedureNames.append(compiledProcedures[procedure][line][0])\n",
    "                    temp.append(compiledProcedures[procedure])\n",
    "                    searchCurrentProcedure = True\n",
    "            if (searchCurrentProcedure and compiledProcedures[procedure][line][1] == 'jal'):\n",
    "                recursiveProcedureSearch(procedureNames, temp, compiledProcedures[procedure][line][2])"
   ]
  },
  {
   "cell_type": "markdown",
   "metadata": {
    "deletable": true,
    "editable": true
   },
   "source": [
    "The `deadStoreElimination` function process the global instruction block and the instructions in a procedure, looking for stores to memory locations that are unused. We do this by reading all of the instructions in reverse order, looking for writes (`sw` instructions) which are not preceding a read (`lw` instructions). If, reading in reverse order, we find a `sw` without having found a `lw`, we know that the memory location being written to never gets read from, so we can eliminate that `sw` instruction.\n",
    "\n",
    "Due to the way this is detected, there is currently a significant problem that occur with respect to procedure calls: We cannot detect when a global variable is modified inside of one procedure and then read inside of another (or in the global scope)"
   ]
  },
  {
   "cell_type": "code",
   "execution_count": null,
   "metadata": {
    "collapsed": true,
    "deletable": true,
    "editable": true
   },
   "outputs": [],
   "source": [
    "def deadStoreElimination():\n",
    "    global compiledProcedures\n",
    "    instructions[curlev] = deadStoreEliminationFromBlock(instructions[curlev])\n",
    "    newCompiledProcedures = []\n",
    "    for compiledProc in compiledProcedures:\n",
    "        newCompiledProcedures.append(deadStoreEliminationFromBlock(compiledProc))\n",
    "    compiledProcedures = newCompiledProcedures"
   ]
  },
  {
   "cell_type": "markdown",
   "metadata": {
    "deletable": true,
    "editable": true
   },
   "source": [
    "Dead store elimination looks for `sw` instructions not followed by a `lw` instruction from the same reg. \n",
    "\n",
    "1. We go through all of the instructions in reverse order. \n",
    "1. If we have an instruction which is not a `sw` or `lw`, we keep it (add it to the `result` list). \n",
    "1. If it is a `lw` instruction, we determine the location being loaded from and store in the `readAddresses` dict\n",
    "1. If it is a `sw` instruction, we determine the location being stored to. \n",
    "    - Then we check to see if that location is in the `readAddresses` dict. \n",
    "    - If so, we have encountered a read from this address already, so we need to keep the instruction\n",
    "    - Otherwise, we can drop the instruction\n",
    "1. Finally, we reverse the `result` list and return it"
   ]
  },
  {
   "cell_type": "code",
   "execution_count": null,
   "metadata": {
    "collapsed": true,
    "deletable": true,
    "editable": true
   },
   "outputs": [],
   "source": [
    "def deadStoreEliminationFromBlock(block):\n",
    "    readAddresses = {}\n",
    "    result = []\n",
    "    for elem in block[::-1]:\n",
    "        (_,ins,_) = elem\n",
    "        # assuming all targets for branch/jump instructions are labels\n",
    "        if ins.startswith('lw'):\n",
    "            # this is a read\n",
    "            t,reg,loc = ins.split()\n",
    "            readAddresses[loc] = True\n",
    "            result.append(elem)\n",
    "        elif ins.startswith('sw'):\n",
    "            # this is a write\n",
    "            t,reg,loc = ins.split()\n",
    "            # if we're writing here and we've read from it before, keep the instruction\n",
    "            # otherwise we discard it\n",
    "            if loc in readAddresses and readAddresses[loc]:\n",
    "                result.append(elem)\n",
    "                readAddresses[loc] = False\n",
    "        else:\n",
    "            result.append(elem)\n",
    "    return result[::-1]"
   ]
  },
  {
   "cell_type": "markdown",
   "metadata": {
    "deletable": true,
    "editable": true
   },
   "source": [
    "The `removeUnusedVariables` function detects unused variables and removes their declarations from the declarations list. Every time we encounter a variable being used, we check if it is a global variable. If so, we mark that global variable as being used. If not, we add it to the list of used variable declarations for the current scope."
   ]
  },
  {
   "cell_type": "code",
   "execution_count": null,
   "metadata": {
    "collapsed": true,
    "deletable": true,
    "editable": true
   },
   "outputs": [],
   "source": [
    "def removeUnusedVariables(f):\n",
    "    global declarations, usedGlobalVars\n",
    "    currentInstructions = instructions[curlev]\n",
    "    temp = []\n",
    "    completed = []\n",
    "    realAddrs = {}\n",
    "    s = 0\n",
    "    for i in range(len(currentInstructions)):\n",
    "        (l,ins,target) = currentInstructions[i]    \n",
    "        for decl in declarations[curlev]:\n",
    "            name = decl[0]\n",
    "            size = decl[1]\n",
    "            if name in completed: continue\n",
    "            if name in usedGlobalVars or name in ins or (type(target) == str and name in target):\n",
    "                completed.append(name)\n",
    "                s = s + size\n",
    "                realAddrs[name] = -s - 8\n",
    "                if name not in usedGlobalVars:\n",
    "                    temp.append( f(decl) )\n",
    "                elif not usedGlobalVars[name]:\n",
    "                    usedGlobalVars[name] = True\n",
    "    declarations[curlev] = temp\n",
    "    return realAddrs,s"
   ]
  },
  {
   "cell_type": "markdown",
   "metadata": {
    "deletable": true,
    "editable": true
   },
   "source": [
    "The `genDataDecl` function takes a placeholder variable declaration consisting of a tuple of `(name, size)` and translates it into the appropriate `.space` directive to preceed the program.\n",
    "\n",
    "The `genProcDecl` function accepts the same placeholder declaration but does nothing with it. We process procedure declarations later."
   ]
  },
  {
   "cell_type": "code",
   "execution_count": null,
   "metadata": {
    "collapsed": true,
    "deletable": true,
    "editable": true
   },
   "outputs": [],
   "source": [
    "def genDataDecl(decl):\n",
    "    return (decl[0], '.space ' + str(decl[1]), '')\n",
    "\n",
    "def genProcDecl(decl):\n",
    "    return decl"
   ]
  },
  {
   "cell_type": "markdown",
   "metadata": {
    "deletable": true,
    "editable": true
   },
   "source": [
    "The `processProcInstructions` method accepts a dictionary with string keys and integer values. This dictionary contains an entry for each local variable used in the procedure, with the key being that variable's placeholder name, and the integer value being the amount of space that variable will occupy. \n",
    "\n",
    "The function also accepts an integer argument with the total size used by the local variables. \n",
    "\n",
    "With this information, we can replace the placeholder variable names with their exact stack addresses, as well as replacing the process name with the amount of stack space required for the local variables. We do this by parsing through all of the instructions for the procedure and basically executing a string replacement."
   ]
  },
  {
   "cell_type": "code",
   "execution_count": null,
   "metadata": {
    "collapsed": true,
    "deletable": true,
    "editable": true
   },
   "outputs": [],
   "source": [
    "def processProcInstructions(realAddrs, size):\n",
    "    global instructions, procNames\n",
    "    currentInstructions = instructions[curlev]\n",
    "    procName = '__LOCAL_' + procNames[-1]\n",
    "    localsize = str(size + 8)\n",
    "    for i in range(len(currentInstructions)):\n",
    "        (l,ins,target) = currentInstructions[i]\n",
    "        if procName in ins:\n",
    "            ins = ins.replace(procName, localsize)\n",
    "        for varAddr in realAddrs:\n",
    "            if type(varAddr) != str:\n",
    "                continue\n",
    "            varSize = str(realAddrs[varAddr])            \n",
    "            if varAddr in ins:\n",
    "                ins = ins.replace(varAddr, varSize)\n",
    "            if type(target) == str and varAddr in target:\n",
    "                target = target.replace(varAddr, varSize)\n",
    "        currentInstructions[i] = (l, ins, target)\n",
    "    instructions[curlev] = currentInstructions"
   ]
  },
  {
   "cell_type": "markdown",
   "metadata": {
    "deletable": true,
    "editable": true
   },
   "source": [
    "Procedure `newVarName()` generates a new unique variable placeholder name on each call."
   ]
  },
  {
   "cell_type": "code",
   "execution_count": null,
   "metadata": {
    "collapsed": true,
    "deletable": true,
    "editable": true
   },
   "outputs": [],
   "source": [
    "def newVarName():\n",
    "    global vname\n",
    "    vname += 1\n",
    "    return '__V' + str(vname)"
   ]
  },
  {
   "cell_type": "markdown",
   "metadata": {
    "deletable": true,
    "editable": true
   },
   "source": [
    "<a id=\"gen-select\"></a>"
   ]
  },
  {
   "cell_type": "markdown",
   "metadata": {
    "deletable": true,
    "editable": true
   },
   "source": [
    "Procedure `genSelect(x, f)` \"generates code\" for `x.f`, provided `f` is in `x.fields`. Only `x.adr` is updated, no code is generated. An updated item is returned.\n",
    "\n",
    "In essence, we treat `x.f` as an entirely different variable than any other field in `x`. In practice, two fields in `x` will typically end up next to each other in memory. However with these \"optimizations\" we don't guarantee that all fields in a record will occupy a contiguous memory space.\n",
    "\n",
    "We do this by giving every field a placeholder name (via `newVarName()`) and storing the field name -> placeholder name association in the `fieldVars` dict.\n",
    "\n",
    "Every time we enounter a field on an object, we perform a lookup for that field variable. If we can find that field variable in the dict, we have seen it before, and so we use the same placeholder name that was generated for that field. "
   ]
  },
  {
   "cell_type": "code",
   "execution_count": null,
   "metadata": {
    "collapsed": true,
    "deletable": true,
    "editable": true
   },
   "outputs": [],
   "source": [
    "def genSelect(x, f):\n",
    "    global fieldVars\n",
    "    x.tp = f.tp\n",
    "    if type(x.adr) == int:\n",
    "        x.adr = x.adr + f.offset\n",
    "    else:\n",
    "        # lookup the field name to see if we've already seen it\n",
    "        fieldName = '__' + str(x) + '.' + str(f)\n",
    "        if fieldName not in fieldVars[curlev]:\n",
    "            tempName = newVarName()\n",
    "            declarations[curlev].append( (tempName, f.tp.size) )\n",
    "            fieldVars[curlev][fieldName] = tempName\n",
    "            x.adr = tempName\n",
    "        else:\n",
    "            x.adr = fieldVars[curlev][fieldName]\n",
    "    return x"
   ]
  },
  {
   "cell_type": "markdown",
   "metadata": {
    "deletable": true,
    "editable": true
   },
   "source": [
    "Procedure `genIndex(x, y)` generates code for `x[y]`, assuming `x` is `Var` or `Ref`, `x.tp` is `Array`, and `y.tp` is `Int`. If `y` is `Const`, only `x.adr` is updated and no code is generated, otherwise code for array index calculation is generated.\n",
    "\n",
    "We do not do the same process as with the field variables, because with an array we have the guarantee that all items in an array are in a contiguous block of memory. If we violate this promise, then all pointer semantics with respect to arrays become meaningless, and we would risk breaking the input program. As such, the `genIndex` function has not been modified."
   ]
  },
  {
   "cell_type": "code",
   "execution_count": null,
   "metadata": {
    "collapsed": true,
    "deletable": true,
    "editable": true
   },
   "outputs": [],
   "source": [
    "def genIndex(x, y):\n",
    "    if type(y) == Const:\n",
    "        offset = (y.val - x.tp.lower) * x.tp.base.size\n",
    "        x.adr = x.adr + (offset if type(x.adr) == int else '+' + str(offset))\n",
    "    else:\n",
    "        if type(y) != Reg: y = loadItem(y)\n",
    "        putOp('sub', y.reg, y.reg, x.tp.lower)\n",
    "        putOp('mul', y.reg, y.reg, x.tp.base.size)\n",
    "        if x.reg != R0:\n",
    "            putOp('add', y.reg, x.reg, y.reg); releaseReg(x.reg)\n",
    "        x.reg = y.reg\n",
    "    x.tp = x.tp.base\n",
    "    return x"
   ]
  },
  {
   "cell_type": "markdown",
   "metadata": {
    "collapsed": true,
    "deletable": true,
    "editable": true
   },
   "source": [
    "For each local variable, `genLocalVars(sc, start)` updates the entry of the variable with the FP-relative address and returns their total size. The parameter `sc` contains the top scope with all local declarations parsed so far; only variable declarations from index `start` on in the top scope are considered."
   ]
  },
  {
   "cell_type": "code",
   "execution_count": null,
   "metadata": {
    "collapsed": true,
    "deletable": true,
    "editable": true
   },
   "outputs": [],
   "source": [
    "def genLocalVars(sc, start):\n",
    "    s = 0 # local block size\n",
    "    for i in range(start, len(sc)):\n",
    "        if type(sc[i]) == Var:\n",
    "            s = s + sc[i].tp.size\n",
    "            sc[i].adr = newVarName() # replace the address with a random name\n",
    "                                     # compute the real address at the end\n",
    "            name = str(sc[i].adr)\n",
    "            declarations[curlev].append( (name, sc[i].tp.size) )\n",
    "    return s"
   ]
  },
  {
   "cell_type": "markdown",
   "metadata": {
    "deletable": true,
    "editable": true
   },
   "source": [
    "Procedure `genProcStart()` adds a new scope to the declarations, instructions, global variables"
   ]
  },
  {
   "cell_type": "code",
   "execution_count": null,
   "metadata": {
    "collapsed": true,
    "deletable": true,
    "editable": true
   },
   "outputs": [],
   "source": [
    "def genProcStart():\n",
    "    global curlev, declarations, instructions\n",
    "    declarations.append( [] )\n",
    "    instructions.append( [] )\n",
    "    fieldVars.append( {} )\n",
    "    curlev = curlev + 1"
   ]
  },
  {
   "cell_type": "markdown",
   "metadata": {
    "deletable": true,
    "editable": true
   },
   "source": [
    "For the procedure prologue, we are supposed to allocate enough space for all of the local variables, but we do not yet know which of those local variables are actually used. So, we insert a placeholder which we will remove after we have processed the rest of the procedure."
   ]
  },
  {
   "cell_type": "code",
   "execution_count": null,
   "metadata": {
    "collapsed": true,
    "deletable": true,
    "editable": true
   },
   "outputs": [],
   "source": [
    "def genProcEntry(ident, parsize, localsize):\n",
    "    putInstr('.globl ' + ident)              # global declaration directive\n",
    "    putInstr('.ent ' + ident)                # entry point directive\n",
    "    putLab(ident)                            # procedure entry label\n",
    "    putMemOp('sw', FP, SP, - parsize - 4)    # push frame pointer\n",
    "    putMemOp('sw', LNK, SP, - parsize - 8)   # push return address\n",
    "    putOp('sub', FP, SP, parsize)            # set frame pointer\n",
    "    putOp('sub', SP, FP, '__LOCAL_' + ident) # set stack pointer to temp label, \n",
    "                                             # which we replace and compute at the end\n",
    "    procNames.append(ident)"
   ]
  },
  {
   "cell_type": "markdown",
   "metadata": {
    "deletable": true,
    "editable": true
   },
   "source": [
    "For the procedure epilogue, we: \n",
    "1. add the appropriate instructions to return from the function \n",
    "1. **TODO** remove dead stores\n",
    "1. parse the procedure for unused variables\n",
    "1. replace all placeholders with the actual addresses\n",
    "1. pop off from the `declarations`, `instructions`, `procNames`, and `fieldVars` arrays\n",
    "1. decrement `curlev`\n",
    "1. append the instructions for this procedure to the `compiledProcedures` list"
   ]
  },
  {
   "cell_type": "code",
   "execution_count": null,
   "metadata": {
    "collapsed": true,
    "deletable": true,
    "editable": true
   },
   "outputs": [],
   "source": [
    "def genProcExit(x, parsize, localsize):\n",
    "    global curlev, declarations, instructions, compiledProcedures\n",
    "    \n",
    "    putOp('add', SP, FP, parsize) # restore stack pointer\n",
    "    putMemOp('lw', LNK, FP, - 8)  # pop return address\n",
    "    putMemOp('lw', FP, FP, - 4)   # pop frame pointer\n",
    "    putInstr('jr $ra')            # return\n",
    "    \n",
    "    # apply optimizations\n",
    "    realAddresses,localsize = removeUnusedVariables(genProcDecl)\n",
    "    processProcInstructions(realAddresses, localsize)\n",
    "\n",
    "    # remove declarations, instructions for the procedure we're exiting\n",
    "    procDecl = declarations.pop()\n",
    "    procIns = instructions.pop()\n",
    "    procNames.pop()\n",
    "    fieldVars.pop()\n",
    "    curlev = curlev - 1\n",
    "    # store the compiled instructions in compiledProcedures\n",
    "    compiledProcedures.append(procIns)"
   ]
  },
  {
   "cell_type": "markdown",
   "metadata": {
    "deletable": true,
    "editable": true
   },
   "source": [
    "# `CGmips` code\n",
    "The rest of the code is taken verbatim from `CGmips.py`"
   ]
  },
  {
   "cell_type": "markdown",
   "metadata": {
    "deletable": true,
    "editable": true
   },
   "source": [
    "Reserved registers are `$0` for the constant `0`, `$fp` for the frame pointer, `$sp` for the stack pointer, and `$ra` for the return address (dynamic link)."
   ]
  },
  {
   "cell_type": "code",
   "execution_count": 10,
   "metadata": {
    "collapsed": true,
    "deletable": true,
    "editable": true
   },
   "outputs": [],
   "source": [
    "R0 = '$0'; FP = '$fp'; SP = '$sp'; LNK = '$ra'\n",
    "\n",
    "def obtainReg():\n",
    "    if len(regs) == 0: mark('out of registers'); return R0\n",
    "    else: return regs.pop()\n",
    "\n",
    "def releaseReg(r):\n",
    "    if r not in (R0, SP, FP, LNK): regs.add(r)"
   ]
  },
  {
   "cell_type": "code",
   "execution_count": null,
   "metadata": {
    "collapsed": true,
    "deletable": true,
    "editable": true
   },
   "outputs": [],
   "source": [
    "def putLab(lab, instr = ''):\n",
    "    \"\"\"Emit label lab with optional instruction; lab may be a single\n",
    "    label or a list of labels\"\"\"\n",
    "    if type(lab) == list:\n",
    "        for l in lab[:-1]: instructions[-1].append((l, '', ''))\n",
    "        instructions[-1].append((lab[-1], instr, ''))\n",
    "    else: instructions[-1].append((lab, instr, ''))\n",
    "\n",
    "def putInstr(instr, target = ''):\n",
    "    \"\"\"Emit an instruction\"\"\"\n",
    "    instructions[-1].append(('', instr, target))\n",
    "\n",
    "def putOp(op, a, b, c):\n",
    "    \"\"\"Emit instruction op with three operands, a, b, c; c can be register or immediate\"\"\"\n",
    "    putInstr(op + ' ' + a + ', ' + b + ', ' + str(c))\n",
    "\n",
    "def putBranchOp(op, a, b, c):\n",
    "    putInstr(op + ' ' + a + ', ' + b, str(c))\n",
    "\n",
    "def putMemOp(op, a, b, c):\n",
    "    \"\"\"Emit load/store instruction at location or register b + offset c\"\"\"\n",
    "    if b == R0: putInstr(op + ' ' + a + ', ' + str(c))\n",
    "    else: putInstr(op + ' ' + a + ', ' + str(c) + '(' + b + ')')"
   ]
  },
  {
   "cell_type": "markdown",
   "metadata": {
    "deletable": true,
    "editable": true
   },
   "source": [
    "Following procedures \"generate code\" for all P0 types by determining the size \n",
    "of objects and store in the `size` field.\n",
    "- Integers and booleans occupy 4 bytes\n",
    "- The size of a record is the sum of the sizes of its field; the offset of a \n",
    "  field is the sum of the size of the preceding fields\n",
    "- The size of an array is its length times the size of the base type."
   ]
  },
  {
   "cell_type": "code",
   "execution_count": null,
   "metadata": {
    "collapsed": true,
    "deletable": true,
    "editable": true
   },
   "outputs": [],
   "source": [
    "def genBool(b):\n",
    "    b.size = 4; return b\n",
    "\n",
    "def genInt(i):\n",
    "    i.size = 4; return i\n",
    "\n",
    "def genRec(r):\n",
    "    # r is Record\n",
    "    s = 0\n",
    "    for f in r.fields:\n",
    "        f.offset, s = s, s + f.tp.size\n",
    "    r.size = s\n",
    "    return r\n",
    "\n",
    "def genArray(a):\n",
    "    # a is Array\n",
    "    a.size = a.length * a.base.size\n",
    "    return a"
   ]
  },
  {
   "cell_type": "markdown",
   "metadata": {
    "deletable": true,
    "editable": true
   },
   "source": [
    "Procedure `newLabel()` generates a new unique label on each call."
   ]
  },
  {
   "cell_type": "code",
   "execution_count": null,
   "metadata": {
    "collapsed": true,
    "deletable": true,
    "editable": true
   },
   "outputs": [],
   "source": [
    "def newLabel():\n",
    "    global label\n",
    "    label += 1\n",
    "    return 'L' + str(label)"
   ]
  },
  {
   "cell_type": "markdown",
   "metadata": {
    "deletable": true,
    "editable": true
   },
   "source": [
    "The code generator _delays the generation of code_ until it is clear that no better code can be generated. For this, the not-yet-generated result of an expressions and the location of a variable is stored in _items_. In addition to the symbol table types `Var`, `Ref`, `Const`, the generator uses two more item types:\n",
    "- `Reg(tp, reg)` for integers or boolean values stored in a register; the register can be `$0` for constants `0` and `false`\n",
    "- `Cond(cond, left, right)` for short-circuited Boolean expressions with two branch targets. The relation `cond` must be one of `'EQ'`, `'NE'`, `'LT'`, `'GT'`, `'LE'`, `'GE'`. The operands `left`, `right` are either registers or constants, but one has to be a register. The result of the comparison is represented by two branch targets, stored as fields, where the evaluation continues if the result of the comparison is true or false. The branch targets are lists of unique labels, with targets in each list denoting the same location. If `right` is `$0`, then `'EQ'` and `'NE'` for `cond` can be used for branching depending on whether `left` is `true` or `false`."
   ]
  },
  {
   "cell_type": "code",
   "execution_count": null,
   "metadata": {
    "collapsed": true,
    "deletable": true,
    "editable": true
   },
   "outputs": [],
   "source": [
    "class Reg:\n",
    "    def __init__(self, tp, reg):\n",
    "        # tp is Bool or Int\n",
    "        self.tp, self.reg = tp, reg\n",
    "\n",
    "class Cond:\n",
    "    # labA, labB are lists of branch targets for when the result is true or false\n",
    "    def __init__(self, cond, left, right):\n",
    "        self.tp, self.cond, self.left, self.right = Bool, cond, left, right\n",
    "        self.labA, self.labB = [newLabel()], [newLabel()]"
   ]
  },
  {
   "cell_type": "markdown",
   "metadata": {
    "deletable": true,
    "editable": true
   },
   "source": [
    "Procedure `loadItemReg(x, r)` generates code for loading item `x` to register `r`, assuming `x` is `Var`, `Const`, or `Reg`. If a constant is too large to fit in 16 bits immediate addressing, an error message is generated."
   ]
  },
  {
   "cell_type": "code",
   "execution_count": 12,
   "metadata": {
    "collapsed": true,
    "deletable": true,
    "editable": true
   },
   "outputs": [],
   "source": [
    "def testRange(x):\n",
    "    if x.val >= 0x8000 or x.val < -0x8000: mark('value too large')\n",
    "\n",
    "def loadItemReg(x, r):\n",
    "    if type(x) == Var: \n",
    "        putMemOp('lw', r, x.reg, x.adr)\n",
    "        releaseReg(x.reg)\n",
    "    elif type(x) == Const:\n",
    "        testRange(x); putOp('addi', r, R0, x.val)\n",
    "    elif type(x) == Reg: # move to register r\n",
    "        putOp('add', r, x.reg, R0)\n",
    "    else: assert False"
   ]
  },
  {
   "cell_type": "markdown",
   "metadata": {
    "deletable": true,
    "editable": true
   },
   "source": [
    "Procedure `loadItem(x)` generates code for loading item `x`, which has to be `Var` or `Const`, into a new register and returns a `Reg` item; if `x` is `Const` and has value `0`, no code is generated and register `R0` is used instead. For procedure `loadBool(x)`, the type of item `x` has to be `Bool`; if `x` is not a constant, it is loaded into a register and a new `Cond` item is returned."
   ]
  },
  {
   "cell_type": "code",
   "execution_count": 13,
   "metadata": {
    "collapsed": true,
    "deletable": true,
    "editable": true
   },
   "outputs": [],
   "source": [
    "def loadItem(x):\n",
    "    if type(x) == Const and x.val == 0: r = R0 # use R0 for \"0\"\n",
    "    else: r = obtainReg(); loadItemReg(x, r)\n",
    "    return Reg(x.tp, r)\n",
    "\n",
    "def loadBool(x):\n",
    "    if type(x) == Const and x.val == 0: r = R0 # use R0 for \"false\"\n",
    "    else: r = obtainReg(); loadItemReg(x, r)\n",
    "    return Cond(NE, r, R0)"
   ]
  },
  {
   "cell_type": "markdown",
   "metadata": {
    "deletable": true,
    "editable": true
   },
   "source": [
    "Procedure `put(cd, x, y)` generates code for `x op y`, where `op` is an operation with mnemonic `cd`. Items `x`, `y` have to be `Var`, `Const`, `Reg`. An updated item `x` is returned."
   ]
  },
  {
   "cell_type": "code",
   "execution_count": null,
   "metadata": {
    "collapsed": true,
    "deletable": true,
    "editable": true
   },
   "outputs": [],
   "source": [
    "def put(cd, x, y):\n",
    "    if type(x) != Reg: x = loadItem(x)\n",
    "    if x.reg == R0: x.reg, r = obtainReg(), R0\n",
    "    else: r = x.reg # r is source, x.reg is destination\n",
    "    if type(y) == Const:\n",
    "        testRange(y); putOp(cd, r, x.reg, y.val)\n",
    "    else:\n",
    "        if type(y) != Reg: y = loadItem(y)\n",
    "        putOp(cd, x.reg, r, y.reg); releaseReg(y.reg)\n",
    "    return x"
   ]
  },
  {
   "cell_type": "markdown",
   "metadata": {
    "deletable": true,
    "editable": true
   },
   "source": [
    "Procedures `genVar`, `genConst`, `genUnaryOp`, `genBinaryOp`, `genRelation`, `genSelect`, and `genIndex` generate code for expressions (e.g. right hand side of assignments) and for  locations (e.g. left hand side of assignments).\n",
    "\n",
    "Procedure `genVar(x)` allows `x` to refer to a global variable, local variable, or procedure parameter: the assumption is that `x.reg` (which can be `R0`) and `x.adr` (which can be 0) refer to the variable. References to variables on intermediate level is not supported. For global variables, the reference is kept symbolic, to be resolved later by the assembler. Item `x` is `Var` or `Ref`; if it is `Ref`, the reference is loaded into a new register. A new `Var` item with the location is returned."
   ]
  },
  {
   "cell_type": "code",
   "execution_count": null,
   "metadata": {
    "collapsed": true,
    "deletable": true,
    "editable": true
   },
   "outputs": [],
   "source": [
    "def genVar(x):\n",
    "    if x.lev == 0: s = R0 # global variable at x.adr\n",
    "    elif x.lev == curlev: s = FP # local variable, FP relative\n",
    "    else: mark('level!'); s = R0\n",
    "    y = Var(x.tp); y.lev = x.lev\n",
    "    if type(x) == Ref: # reference is loaded into register\n",
    "        r = obtainReg(); putMemOp('lw', r, s, x.adr)\n",
    "        y.reg, y.adr = r, 0 # variable at (y.reg)\n",
    "    elif type(x) == Var:\n",
    "        y.reg, y.adr = s, x.adr\n",
    "    else: assert False\n",
    "    return y"
   ]
  },
  {
   "cell_type": "markdown",
   "metadata": {
    "deletable": true,
    "editable": true
   },
   "source": [
    "Procedure `genConst(x)` does not need to generate any code."
   ]
  },
  {
   "cell_type": "code",
   "execution_count": 1,
   "metadata": {
    "collapsed": true,
    "deletable": true,
    "editable": true
   },
   "outputs": [],
   "source": [
    "def genConst(x):\n",
    "    # x is Const\n",
    "    return x"
   ]
  },
  {
   "cell_type": "markdown",
   "metadata": {
    "deletable": true,
    "editable": true
   },
   "source": [
    "Procedure `genUnaryOp(op, x)` generates code for `op x` if `op` is `MINUS`, `NOT` and `x` is `Int`, `Bool`; if `op` is `AND`, `OR`, item `x` is the first operand. If it is not already a `Cond` item, it is made so which is loaded into a register. A branch instruction is generated for `OR` and a branch instruction with a negated condition for `AND`."
   ]
  },
  {
   "cell_type": "code",
   "execution_count": null,
   "metadata": {
    "collapsed": true,
    "deletable": true,
    "editable": true
   },
   "outputs": [],
   "source": [
    "def negate(cd):\n",
    "    return {EQ: NE, NE: EQ, LT: GE, LE: GT, GT: LE, GE: LT}[cd]\n",
    "\n",
    "def condOp(cd):\n",
    "    return {EQ: 'beq', NE: 'bne', LT: 'blt', LE: 'ble', GT: 'bgt', GE: 'bge'}[cd]\n",
    "\n",
    "def genUnaryOp(op, x):\n",
    "    if op == MINUS: # subtract from 0\n",
    "        if type(x) == Var: x = loadItem(x)\n",
    "        putOp('sub', x.reg, R0, x.reg)\n",
    "    elif op == TILDE: # `r nor s` means ~(r | s) so we use `r nor r` to get ~r\n",
    "        if type(x) == Var: x = loadItem(x)\n",
    "        putOp('nor', x.reg, x.reg, x.reg)\n",
    "    elif op == NOT: # switch condition and branch targets, no code\n",
    "        if type(x) != Cond: x = loadBool(x)\n",
    "        x.cond = negate(x.cond); x.labA, x.labB = x.labB, x.labA\n",
    "    elif op == AND: # load first operand into register and branch\n",
    "        if type(x) != Cond: x = loadBool(x)\n",
    "        putBranchOp(condOp(negate(x.cond)), x.left, x.right, x.labA[0])\n",
    "        releaseReg(x.left); releaseReg(x.right); putLab(x.labB)\n",
    "    elif op == OR: # load first operand into register and branch\n",
    "        if type(x) != Cond: x = loadBool(x)\n",
    "        putBranchOp(condOp(x.cond), x.left, x.right, x.labB[0])\n",
    "        releaseReg(x.left); releaseReg(x.right); putLab(x.labA)\n",
    "    else: assert False\n",
    "    return x"
   ]
  },
  {
   "cell_type": "markdown",
   "metadata": {
    "deletable": true,
    "editable": true
   },
   "source": [
    "Procedure `genBinaryOp(op, x, y)` generates code for `x op y` if `op` is `PLUS`, `MINUS`, `TIMES`, `DIV`, `MOD`. If `op` is `AND`, `OR`, operand `y` is made a `Cond` item it if is not so already and the branch targets are merged. "
   ]
  },
  {
   "cell_type": "code",
   "execution_count": null,
   "metadata": {
    "collapsed": true,
    "deletable": true,
    "editable": true
   },
   "outputs": [],
   "source": [
    "def genBinaryOp(op, x, y):\n",
    "    if op == PLUS: y = put('add', x, y)\n",
    "    elif op == MINUS: y = put('sub', x, y)\n",
    "    elif op == TIMES: y = put('mul', x, y)\n",
    "    elif op == DIV: y = put('div', x, y)\n",
    "    elif op == MOD: y = put('mod', x, y)\n",
    "    elif op == AND: # load second operand into register \n",
    "        if type(y) != Cond: y = loadBool(y)\n",
    "        y.labA += x.labA # update branch targets\n",
    "    elif op == OR: # load second operand into register\n",
    "        if type(y) != Cond: y = loadBool(y)\n",
    "        y.labB += x.labB # update branch targets\n",
    "    elif op == AMP: y = put('and', x, y)\n",
    "    elif op == BAR: y = put('or', x, y)\n",
    "    else: assert False\n",
    "    return y"
   ]
  },
  {
   "cell_type": "markdown",
   "metadata": {
    "deletable": true,
    "editable": true
   },
   "source": [
    "Procedure `genRelation(op, x, y)` generates code for `x op y` if `op` is `EQ`, `NE`, `LT`, `LE`, `GT`, `GE`. Items `x` and `y` cannot be both constants. A new `Cond` item is returned."
   ]
  },
  {
   "cell_type": "code",
   "execution_count": null,
   "metadata": {
    "collapsed": true,
    "deletable": true,
    "editable": true
   },
   "outputs": [],
   "source": [
    "def genRelation(op, x, y):\n",
    "    if type(x) != Reg: x = loadItem(x)\n",
    "    if type(y) != Reg: y = loadItem(y)\n",
    "    return Cond(op, x.reg, y.reg)"
   ]
  },
  {
   "cell_type": "markdown",
   "metadata": {
    "deletable": true,
    "editable": true
   },
   "source": [
    "Procedure `genAssign(x, y)` generates code for `x := y`, provided `x` is `Var`. Item `x` is loaded into a register if it is not already there; if `x` is `Cond`, then either `0` or `1` is loaded into a register."
   ]
  },
  {
   "cell_type": "code",
   "execution_count": null,
   "metadata": {
    "collapsed": true,
    "deletable": true,
    "editable": true
   },
   "outputs": [],
   "source": [
    "def genAssign(x, y):\n",
    "    \"\"\"Assume x is Var, generate x := y\"\"\"\n",
    "    if type(y) == Cond:\n",
    "        putBranchOp(condOp(negate(y.cond)), y.left, y.right, y.labA[0])\n",
    "        releaseReg(y.left); releaseReg(y.right); r = obtainReg()\n",
    "        putLab(y.labB); putOp('addi', r, R0, 1) # load true\n",
    "        lab = newLabel()\n",
    "        putInstr('b', lab)\n",
    "        putLab(y.labA); putOp('addi', r, R0, 0) # load false \n",
    "        putLab(lab)\n",
    "    elif type(y) != Reg: y = loadItem(y); r = y.reg\n",
    "    else: r = y.reg\n",
    "    putMemOp('sw', r, x.reg, x.adr); releaseReg(r)"
   ]
  },
  {
   "cell_type": "markdown",
   "metadata": {
    "deletable": true,
    "editable": true
   },
   "source": [
    "Procedure `genFormalParams(sc)` determines the FP-relative address of all parameters in the list `sc` of procedure parameters. Each parameter must be of type `Int` or `Bool` or must be a reference parameter."
   ]
  },
  {
   "cell_type": "code",
   "execution_count": 1,
   "metadata": {
    "collapsed": true,
    "deletable": true,
    "editable": true
   },
   "outputs": [],
   "source": [
    "def genFormalParams(sc):\n",
    "    s = 0 # parameter block size\n",
    "    for p in reversed(sc):\n",
    "        if p.tp == Int or p.tp == Bool or type(p) == Ref:\n",
    "            p.adr, s = s, s + 4\n",
    "        else: mark('no structured value parameters')\n",
    "    return s"
   ]
  },
  {
   "cell_type": "markdown",
   "metadata": {
    "deletable": true,
    "editable": true
   },
   "source": [
    "Procedure `genActualPara(ap, fp, n)` assume that `ap` is an item with the actual parameter, `fp` is the entry for the formal parameter, and `n` is the parameter number. The parameters are pushed SP-relative on the stack. The formal parameter is either `Var` or `Ref`."
   ]
  },
  {
   "cell_type": "code",
   "execution_count": null,
   "metadata": {
    "collapsed": true,
    "deletable": true,
    "editable": true
   },
   "outputs": [],
   "source": [
    "def genActualPara(ap, fp, n):\n",
    "    if type(fp) == Ref:  #  reference parameter, assume p is Var\n",
    "        if ap.adr != 0:  #  load address in register\n",
    "            r = obtainReg(); putMemOp('la', r, ap.reg, ap.adr)\n",
    "        else: r = ap.reg  #  address already in register\n",
    "        putMemOp('sw', r, SP, - 4 * (n + 1)); releaseReg(r)\n",
    "    else:  #  value parameter\n",
    "        if type(ap) != Cond:\n",
    "            if type(ap) != Reg: ap = loadItem(ap)\n",
    "            putMemOp('sw', ap.reg, SP, - 4 * (n + 1)); releaseReg(ap.reg)\n",
    "        else: mark('unsupported parameter type')"
   ]
  },
  {
   "cell_type": "markdown",
   "metadata": {
    "deletable": true,
    "editable": true
   },
   "source": [
    "Procedure `genCall(pr, ap)` assumes `pr` is `Proc` and `ap` is a list of actual parameters."
   ]
  },
  {
   "cell_type": "code",
   "execution_count": null,
   "metadata": {
    "collapsed": true,
    "deletable": true,
    "editable": true
   },
   "outputs": [],
   "source": [
    "def genCall(pr, ap):\n",
    "    putInstr('jal', pr.name)"
   ]
  },
  {
   "cell_type": "markdown",
   "metadata": {
    "deletable": true,
    "editable": true
   },
   "source": [
    "Procedures `genRead(x)`, `genWrite(x)`, `genWriteln()` generate code for SPIM-defined \"syscalls\"; `genRead(x)` and assumes that `x` is `Var` and `genWrite(x)` assumes that `x` is `Ref`, `Var`, `Reg`.  "
   ]
  },
  {
   "cell_type": "code",
   "execution_count": 2,
   "metadata": {
    "collapsed": true,
    "deletable": true,
    "editable": true
   },
   "outputs": [],
   "source": [
    "def genRead(x):\n",
    "    putInstr('li $v0, 5'); putInstr('syscall')\n",
    "    putMemOp('sw', '$v0', x.reg, x.adr)\n",
    "\n",
    "def genWrite(x):\n",
    "    loadItemReg(x, '$a0'); putInstr('li $v0, 1'); putInstr('syscall')\n",
    "\n",
    "def genWriteln():\n",
    "    putInstr('li $v0, 11'); putInstr(\"li $a0, '\\\\n'\"); putInstr('syscall')"
   ]
  },
  {
   "cell_type": "markdown",
   "metadata": {
    "deletable": true,
    "editable": true
   },
   "source": [
    "For control structures:\n",
    "- `genSeq(x, y)` generates `x ; y`, assuming `x`, `y` are statements\n",
    "- `genCond(x)` generates code for branching on `x`, assuming that `x` is of type `Bool`\n",
    "- `genIfThen(x, y)` generates code for `y` in `if x then y`\n",
    "- `genThen(x, y)` generates code for `y` in `if x then y else z`\n",
    "- `genIfElse(x, y, z)` generates code for `z` in `if x then y else z`\n",
    "- `genTarget()` generates and returns a target for backward branches\n",
    "- `genWhile(lab, x, y)` generates code for `y` in `while x do y`, assuming that target `lab` was generated before `x`."
   ]
  },
  {
   "cell_type": "code",
   "execution_count": null,
   "metadata": {
    "collapsed": true,
    "deletable": true,
    "editable": true
   },
   "outputs": [],
   "source": [
    "def genSeq(x, y):\n",
    "    pass\n",
    "\n",
    "def genCond(x):\n",
    "    if type(x) != Cond: x = loadBool(x)\n",
    "    putBranchOp(condOp(negate(x.cond)), x.left, x.right, x.labA[0])\n",
    "    releaseReg(x.left); releaseReg(x.right); putLab(x.labB)\n",
    "    return x\n",
    "\n",
    "def genIfThen(x, y):\n",
    "    putLab(x.labA)\n",
    "\n",
    "def genThen(x, y):\n",
    "    lab = newLabel()\n",
    "    putInstr('b', lab)\n",
    "    putLab(x.labA); \n",
    "    return lab\n",
    "\n",
    "def genIfElse(x, y, z):\n",
    "    putLab(y)\n",
    "\n",
    "def genTarget():\n",
    "    lab = newLabel()\n",
    "    putLab(lab)\n",
    "    return lab\n",
    "\n",
    "def genWhile(lab, x, y):\n",
    "    putInstr('b', lab)\n",
    "    putLab(x.labA); "
   ]
  }
 ],
 "metadata": {
  "kernelspec": {
   "display_name": "Python 3",
   "language": "python",
   "name": "python3"
  },
  "language_info": {
   "codemirror_mode": {
    "name": "ipython",
    "version": 3
   },
   "file_extension": ".py",
   "mimetype": "text/x-python",
   "name": "python",
   "nbconvert_exporter": "python",
   "pygments_lexer": "ipython3",
   "version": "3.5.1"
  }
 },
 "nbformat": 4,
 "nbformat_minor": 2
}
