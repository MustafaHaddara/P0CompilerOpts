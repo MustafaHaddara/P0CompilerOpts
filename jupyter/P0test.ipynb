{
 "cells": [
  {
   "cell_type": "markdown",
   "metadata": {},
   "source": [
    "## P0 Test Suite\n",
    "#### Original Author: Emil Sekerinski, McMaster University, February 2017"
   ]
  },
  {
   "cell_type": "code",
   "execution_count": 1,
   "metadata": {
    "collapsed": false
   },
   "outputs": [
    {
     "name": "stdout",
     "output_type": "stream",
     "text": [
      "importing Jupyter notebook from P0.ipynb\n",
      "importing Jupyter notebook from SC.ipynb\n"
     ]
    },
    {
     "data": {
      "text/html": [
       "<style>\n",
       "div.prompt {display:none}\n",
       "</style>"
      ],
      "text/plain": [
       "<IPython.core.display.HTML object>"
      ]
     },
     "metadata": {},
     "output_type": "display_data"
    },
    {
     "name": "stdout",
     "output_type": "stream",
     "text": [
      "importing Jupyter notebook from ST.ipynb\n"
     ]
    },
    {
     "data": {
      "text/html": [
       "<style>\n",
       "div.prompt {display:none}\n",
       "</style>"
      ],
      "text/plain": [
       "<IPython.core.display.HTML object>"
      ]
     },
     "metadata": {},
     "output_type": "display_data"
    }
   ],
   "source": [
    "import nbimporter\n",
    "from P0 import compileString\n",
    "from ST import printSymTab"
   ]
  },
  {
   "cell_type": "markdown",
   "metadata": {},
   "source": [
    "### Scanner Tests\n",
    "#### Error \"number too large\""
   ]
  },
  {
   "cell_type": "code",
   "execution_count": 2,
   "metadata": {
    "collapsed": false
   },
   "outputs": [
    {
     "name": "stdout",
     "output_type": "stream",
     "text": [
      "importing Jupyter notebook from CGmips.ipynb\n",
      "error: line 3 pos 32 number too large\n",
      "error: line 5 pos 33 number too large\n"
     ]
    }
   ],
   "source": [
    "compileString(\"\"\"\n",
    "program p;\n",
    "  const c = 12345678901234567890;\n",
    "  var x: integer;\n",
    "  begin x := 12345678901234567890 end\n",
    "\"\"\")"
   ]
  },
  {
   "cell_type": "markdown",
   "metadata": {},
   "source": [
    "#### Error \"illegal character\""
   ]
  },
  {
   "cell_type": "code",
   "execution_count": 3,
   "metadata": {
    "collapsed": false
   },
   "outputs": [
    {
     "name": "stdout",
     "output_type": "stream",
     "text": [
      "error: line 2 pos 9 illegal character\n",
      "error: line 2 pos 10 ; expected\n",
      "error: line 2 pos 11 'begin' or declaration expected\n",
      "error: line 3 pos 8 illegal character\n",
      "error: line 3 pos 9 statement expected\n"
     ]
    }
   ],
   "source": [
    "compileString(\"\"\"\n",
    "program p_;\n",
    "  begin @ writeln end\n",
    "\"\"\")"
   ]
  },
  {
   "cell_type": "markdown",
   "metadata": {},
   "source": [
    "### Syntax Checks\n",
    "#### Error \"] expected\""
   ]
  },
  {
   "cell_type": "code",
   "execution_count": 4,
   "metadata": {
    "collapsed": false
   },
   "outputs": [
    {
     "name": "stdout",
     "output_type": "stream",
     "text": [
      "error: line 5 pos 20 ] expected\n"
     ]
    }
   ],
   "source": [
    "compileString(\"\"\"\n",
    "program p;\n",
    "  var x: integer;\n",
    "  var a: array [1..10] of integer;\n",
    "  begin x := a[4 end\n",
    "\"\"\")"
   ]
  },
  {
   "cell_type": "markdown",
   "metadata": {},
   "source": [
    "#### Error \"expression expected\", \"incompatible assignment\""
   ]
  },
  {
   "cell_type": "code",
   "execution_count": 5,
   "metadata": {
    "collapsed": false,
    "scrolled": true
   },
   "outputs": [
    {
     "name": "stdout",
     "output_type": "stream",
     "text": [
      "error: line 4 pos 14 expression expected\n",
      "error: line 4 pos 18 incompatible assignment\n"
     ]
    }
   ],
   "source": [
    "compileString(\"\"\"\n",
    "program p;\n",
    "  var x: integer;\n",
    "  begin x := * end\n",
    "\"\"\")"
   ]
  },
  {
   "cell_type": "markdown",
   "metadata": {},
   "source": [
    "#### Error \") expected\""
   ]
  },
  {
   "cell_type": "code",
   "execution_count": 6,
   "metadata": {
    "collapsed": false,
    "scrolled": true
   },
   "outputs": [
    {
     "name": "stdout",
     "output_type": "stream",
     "text": [
      "error: line 4 pos 19 ) expected\n"
     ]
    }
   ],
   "source": [
    "compileString(\"\"\"\n",
    "program p;\n",
    "  var x: integer;\n",
    "  begin x := (5 end\n",
    "\"\"\")"
   ]
  },
  {
   "cell_type": "markdown",
   "metadata": {},
   "source": [
    "#### Error \"'begin' expected\""
   ]
  },
  {
   "cell_type": "code",
   "execution_count": 7,
   "metadata": {
    "collapsed": false
   },
   "outputs": [
    {
     "name": "stdout",
     "output_type": "stream",
     "text": [
      "error: line 4 pos 3 'begin' expected\n"
     ]
    }
   ],
   "source": [
    "compileString(\"\"\"\n",
    "program p;\n",
    "  var x: integer;\n",
    "  x := 3\n",
    "end\n",
    "\"\"\")"
   ]
  },
  {
   "cell_type": "markdown",
   "metadata": {},
   "source": [
    "#### Error \"; expected\""
   ]
  },
  {
   "cell_type": "code",
   "execution_count": 8,
   "metadata": {
    "collapsed": false,
    "scrolled": true
   },
   "outputs": [
    {
     "name": "stdout",
     "output_type": "stream",
     "text": [
      "error: line 5 pos 11 ; missing\n"
     ]
    }
   ],
   "source": [
    "compileString(\"\"\"\n",
    "program p;\n",
    "  begin\n",
    "    writeln\n",
    "    writeln()\n",
    "  end\n",
    "\"\"\")"
   ]
  },
  {
   "cell_type": "markdown",
   "metadata": {},
   "source": [
    "#### Error \"'end' expected\""
   ]
  },
  {
   "cell_type": "code",
   "execution_count": 9,
   "metadata": {
    "collapsed": false
   },
   "outputs": [
    {
     "name": "stdout",
     "output_type": "stream",
     "text": [
      "error: line 2 pos 26 'end' expected\n"
     ]
    }
   ],
   "source": [
    "compileString(\"\"\"\n",
    "program p; begin writeln()\n",
    "\"\"\")"
   ]
  },
  {
   "cell_type": "markdown",
   "metadata": {},
   "source": [
    "#### Error \"statement expected\""
   ]
  },
  {
   "cell_type": "code",
   "execution_count": 10,
   "metadata": {
    "collapsed": false
   },
   "outputs": [
    {
     "name": "stdout",
     "output_type": "stream",
     "text": [
      "error: line 3 pos 11 statement expected\n"
     ]
    }
   ],
   "source": [
    "compileString(\"\"\"\n",
    "program p;\n",
    "  begin var end\n",
    "\"\"\")"
   ]
  },
  {
   "cell_type": "markdown",
   "metadata": {},
   "source": [
    "#### Error \":= expected\""
   ]
  },
  {
   "cell_type": "code",
   "execution_count": 11,
   "metadata": {
    "collapsed": false
   },
   "outputs": [
    {
     "name": "stdout",
     "output_type": "stream",
     "text": [
      "error: line 4 pos 11 := expected\n"
     ]
    }
   ],
   "source": [
    "compileString(\"\"\"\n",
    "program p;\n",
    "  var x: integer;\n",
    "  begin x = 3 end\n",
    "\"\"\")"
   ]
  },
  {
   "cell_type": "markdown",
   "metadata": {},
   "source": [
    "#### Error \"')' expected\""
   ]
  },
  {
   "cell_type": "code",
   "execution_count": 12,
   "metadata": {
    "collapsed": false
   },
   "outputs": [
    {
     "name": "stdout",
     "output_type": "stream",
     "text": [
      "error: line 3 pos 19 ')' expected\n"
     ]
    }
   ],
   "source": [
    "compileString(\"\"\"\n",
    "program p;\n",
    "  begin write(3 end\n",
    "\"\"\")"
   ]
  },
  {
   "cell_type": "markdown",
   "metadata": {},
   "source": [
    "#### Error \"'then' expected\""
   ]
  },
  {
   "cell_type": "code",
   "execution_count": 13,
   "metadata": {
    "collapsed": false
   },
   "outputs": [
    {
     "name": "stdout",
     "output_type": "stream",
     "text": [
      "error: line 4 pos 17 'then' expected\n"
     ]
    }
   ],
   "source": [
    "compileString(\"\"\"\n",
    "program p;\n",
    "  begin\n",
    "    if true write(5)\n",
    "  end\n",
    "\"\"\")"
   ]
  },
  {
   "cell_type": "markdown",
   "metadata": {},
   "source": [
    "#### Error \"'do' expected\""
   ]
  },
  {
   "cell_type": "code",
   "execution_count": 14,
   "metadata": {
    "collapsed": false
   },
   "outputs": [
    {
     "name": "stdout",
     "output_type": "stream",
     "text": [
      "error: line 4 pos 22 'do' expected\n"
     ]
    }
   ],
   "source": [
    "compileString(\"\"\"\n",
    "program p;\n",
    "  begin\n",
    "    while true writeln\n",
    "  end\n",
    "\"\"\")"
   ]
  },
  {
   "cell_type": "markdown",
   "metadata": {},
   "source": [
    "#### Error '[' expected\", '.' expected, \"expression expected\", \"']' expected\", \"type expected\""
   ]
  },
  {
   "cell_type": "code",
   "execution_count": 15,
   "metadata": {
    "collapsed": false
   },
   "outputs": [
    {
     "name": "stdout",
     "output_type": "stream",
     "text": [
      "error: line 3 pos 18 '[' expected\n",
      "error: line 3 pos 21 '.' expected\n",
      "error: line 3 pos 29 expression expected\n",
      "error: line 3 pos 30 ']' expected\n",
      "error: line 4 pos 7 type expected\n"
     ]
    }
   ],
   "source": [
    "compileString(\"\"\"\n",
    "program p;\n",
    "  type T = array 5 of integer;\n",
    "  begin writeln end\n",
    "\"\"\")"
   ]
  },
  {
   "cell_type": "markdown",
   "metadata": {},
   "source": [
    "#### Error \"'end' expected\""
   ]
  },
  {
   "cell_type": "code",
   "execution_count": 16,
   "metadata": {
    "collapsed": false
   },
   "outputs": [
    {
     "name": "stdout",
     "output_type": "stream",
     "text": [
      "error: line 4 pos 7 'end' expected\n"
     ]
    }
   ],
   "source": [
    "compileString(\"\"\"\n",
    "program p;\n",
    "  type T = record x:integer\n",
    "  begin writeln end\n",
    "\"\"\")"
   ]
  },
  {
   "cell_type": "markdown",
   "metadata": {},
   "source": [
    "#### Error \"identifier expected\""
   ]
  },
  {
   "cell_type": "code",
   "execution_count": 17,
   "metadata": {
    "collapsed": false
   },
   "outputs": [
    {
     "name": "stdout",
     "output_type": "stream",
     "text": [
      "error: line 3 pos 21 identifier expected\n"
     ]
    }
   ],
   "source": [
    "compileString(\"\"\"\n",
    "program p;\n",
    "  type T = record end;\n",
    "  begin writeln end\n",
    "\"\"\")"
   ]
  },
  {
   "cell_type": "markdown",
   "metadata": {},
   "source": [
    "#### Error \"':' expected\""
   ]
  },
  {
   "cell_type": "code",
   "execution_count": 18,
   "metadata": {
    "collapsed": false
   },
   "outputs": [
    {
     "name": "stdout",
     "output_type": "stream",
     "text": [
      "error: line 3 pos 23 ':' expected\n"
     ]
    }
   ],
   "source": [
    "compileString(\"\"\"\n",
    "program p;\n",
    "  type T = record f end;\n",
    "  begin writeln end\n",
    "\"\"\")"
   ]
  },
  {
   "cell_type": "markdown",
   "metadata": {},
   "source": [
    "#### Error \"identifier expected\""
   ]
  },
  {
   "cell_type": "code",
   "execution_count": 19,
   "metadata": {
    "collapsed": false
   },
   "outputs": [
    {
     "name": "stdout",
     "output_type": "stream",
     "text": [
      "error: line 3 pos 24 identifier expected\n"
     ]
    }
   ],
   "source": [
    "compileString(\"\"\"\n",
    "program p;\n",
    "  type T = record f, end;\n",
    "  begin writeln end\n",
    "\"\"\")"
   ]
  },
  {
   "cell_type": "markdown",
   "metadata": {},
   "source": [
    "#### Error \"'begin' or declaration expected\""
   ]
  },
  {
   "cell_type": "code",
   "execution_count": 20,
   "metadata": {
    "collapsed": false,
    "scrolled": true
   },
   "outputs": [
    {
     "name": "stdout",
     "output_type": "stream",
     "text": [
      "error: line 3 pos 11 'begin' or declaration expected\n"
     ]
    }
   ],
   "source": [
    "compileString(\"\"\"\n",
    "program p;\n",
    "  integer x;\n",
    "  begin writeln end\n",
    "\"\"\")"
   ]
  },
  {
   "cell_type": "markdown",
   "metadata": {},
   "source": [
    "#### Error \"= expected\""
   ]
  },
  {
   "cell_type": "code",
   "execution_count": 21,
   "metadata": {
    "collapsed": false
   },
   "outputs": [
    {
     "name": "stdout",
     "output_type": "stream",
     "text": [
      "error: line 3 pos 10 = expected\n"
     ]
    }
   ],
   "source": [
    "compileString(\"\"\"\n",
    "program p;\n",
    "  const c: 5;\n",
    "  begin writeln end\n",
    "\"\"\")"
   ]
  },
  {
   "cell_type": "markdown",
   "metadata": {},
   "source": [
    "#### Error \"constant name expected\", \"'end' expected\""
   ]
  },
  {
   "cell_type": "code",
   "execution_count": 22,
   "metadata": {
    "collapsed": false
   },
   "outputs": [
    {
     "name": "stdout",
     "output_type": "stream",
     "text": [
      "error: line 3 pos 9 constant name expected\n",
      "error: line 4 pos 19 'end' expected\n"
     ]
    }
   ],
   "source": [
    "compileString(\"\"\"\n",
    "program p;\n",
    "  const 5 = 7;\n",
    "  begin writeln end\n",
    "\"\"\")"
   ]
  },
  {
   "cell_type": "markdown",
   "metadata": {},
   "source": [
    "#### Error \"; expected\""
   ]
  },
  {
   "cell_type": "code",
   "execution_count": 23,
   "metadata": {
    "collapsed": false
   },
   "outputs": [
    {
     "name": "stdout",
     "output_type": "stream",
     "text": [
      "error: line 4 pos 7 ; expected\n"
     ]
    }
   ],
   "source": [
    "compileString(\"\"\"\n",
    "program p;\n",
    "  const c = 5\n",
    "  begin writeln end\n",
    "\"\"\")"
   ]
  },
  {
   "cell_type": "markdown",
   "metadata": {},
   "source": [
    "#### Error \"= expected\", \"type expected\""
   ]
  },
  {
   "cell_type": "code",
   "execution_count": 24,
   "metadata": {
    "collapsed": false
   },
   "outputs": [
    {
     "name": "stdout",
     "output_type": "stream",
     "text": [
      "error: line 3 pos 9 = expected\n",
      "error: line 3 pos 17 type expected\n"
     ]
    }
   ],
   "source": [
    "compileString(\"\"\"\n",
    "program p;\n",
    "  type T: integer;\n",
    "  begin writeln end\n",
    "\"\"\")"
   ]
  },
  {
   "cell_type": "markdown",
   "metadata": {},
   "source": [
    "#### Error \"; expected\""
   ]
  },
  {
   "cell_type": "code",
   "execution_count": 25,
   "metadata": {
    "collapsed": false
   },
   "outputs": [
    {
     "name": "stdout",
     "output_type": "stream",
     "text": [
      "error: line 4 pos 7 ; expected\n"
     ]
    }
   ],
   "source": [
    "compileString(\"\"\"\n",
    "program p;\n",
    "  type T = integer\n",
    "  begin writeln end\n",
    "\"\"\")"
   ]
  },
  {
   "cell_type": "markdown",
   "metadata": {},
   "source": [
    "#### Error \"type name expected\", \"variable or procedure expected\", \"'end' expected\""
   ]
  },
  {
   "cell_type": "code",
   "execution_count": 26,
   "metadata": {
    "collapsed": false
   },
   "outputs": [
    {
     "name": "stdout",
     "output_type": "stream",
     "text": [
      "error: line 3 pos 8 type name expected\n",
      "error: line 3 pos 19 variable or procedure expected\n",
      "error: line 4 pos 19 'end' expected\n"
     ]
    }
   ],
   "source": [
    "compileString(\"\"\"\n",
    "program p;\n",
    "  type 5 = integer;\n",
    "  begin writeln end\n",
    "\"\"\")"
   ]
  },
  {
   "cell_type": "markdown",
   "metadata": {},
   "source": [
    "#### Error \"; expected\""
   ]
  },
  {
   "cell_type": "code",
   "execution_count": 27,
   "metadata": {
    "collapsed": false
   },
   "outputs": [
    {
     "name": "stdout",
     "output_type": "stream",
     "text": [
      "error: line 4 pos 7 ; expected\n"
     ]
    }
   ],
   "source": [
    "compileString(\"\"\"\n",
    "program p;\n",
    "  var v: integer\n",
    "  begin writeln end\n",
    "\"\"\")"
   ]
  },
  {
   "cell_type": "markdown",
   "metadata": {},
   "source": [
    "#### Error  \"procedure name expected\""
   ]
  },
  {
   "cell_type": "code",
   "execution_count": 28,
   "metadata": {
    "collapsed": false
   },
   "outputs": [
    {
     "name": "stdout",
     "output_type": "stream",
     "text": [
      "error: line 3 pos 12 procedure name expected\n"
     ]
    }
   ],
   "source": [
    "compileString(\"\"\"\n",
    "program p;\n",
    "  procedure;\n",
    "    begin writeln end;\n",
    "  begin writeln end\n",
    "\"\"\")"
   ]
  },
  {
   "cell_type": "markdown",
   "metadata": {},
   "source": [
    "#### Error \"formal parameters expected\""
   ]
  },
  {
   "cell_type": "code",
   "execution_count": 29,
   "metadata": {
    "collapsed": false
   },
   "outputs": [
    {
     "name": "stdout",
     "output_type": "stream",
     "text": [
      "error: line 3 pos 15 formal parameters expected\n"
     ]
    }
   ],
   "source": [
    "compileString(\"\"\"\n",
    "program p;\n",
    "  procedure q();\n",
    "    begin writeln end;\n",
    "  begin writeln end\n",
    "\"\"\")"
   ]
  },
  {
   "cell_type": "markdown",
   "metadata": {},
   "source": [
    "#### Error \") expected\""
   ]
  },
  {
   "cell_type": "code",
   "execution_count": 30,
   "metadata": {
    "collapsed": false
   },
   "outputs": [
    {
     "name": "stdout",
     "output_type": "stream",
     "text": [
      "error: line 4 pos 9 ) expected\n"
     ]
    }
   ],
   "source": [
    "compileString(\"\"\"\n",
    "program p;\n",
    "  procedure q(x: integer\n",
    "    begin writeln end;\n",
    "  begin writeln end\n",
    "\"\"\")"
   ]
  },
  {
   "cell_type": "markdown",
   "metadata": {},
   "source": [
    "#### Error \"; expected\""
   ]
  },
  {
   "cell_type": "code",
   "execution_count": 31,
   "metadata": {
    "collapsed": false
   },
   "outputs": [
    {
     "name": "stdout",
     "output_type": "stream",
     "text": [
      "error: line 4 pos 9 ; expected\n"
     ]
    }
   ],
   "source": [
    "compileString(\"\"\"\n",
    "program p;\n",
    "  procedure q\n",
    "    begin writeln end;\n",
    "  begin writeln end\n",
    "\"\"\")"
   ]
  },
  {
   "cell_type": "markdown",
   "metadata": {},
   "source": [
    "#### Error \"; expected\""
   ]
  },
  {
   "cell_type": "code",
   "execution_count": 32,
   "metadata": {
    "collapsed": false
   },
   "outputs": [
    {
     "name": "stdout",
     "output_type": "stream",
     "text": [
      "error: line 5 pos 7 ; expected\n"
     ]
    }
   ],
   "source": [
    "compileString(\"\"\"\n",
    "program p;\n",
    "  procedure q;\n",
    "    begin writeln end\n",
    "  begin writeln end\n",
    "\"\"\")"
   ]
  },
  {
   "cell_type": "markdown",
   "metadata": {},
   "source": [
    "#### Error \"'program' expected'\""
   ]
  },
  {
   "cell_type": "code",
   "execution_count": 33,
   "metadata": {
    "collapsed": false
   },
   "outputs": [
    {
     "name": "stdout",
     "output_type": "stream",
     "text": [
      "error: line 2 pos 1 'program' expected\n"
     ]
    }
   ],
   "source": [
    "compileString(\"\"\"\n",
    "p; begin writeln end\n",
    "\"\"\")"
   ]
  },
  {
   "cell_type": "markdown",
   "metadata": {},
   "source": [
    "#### Error \"program name expected\""
   ]
  },
  {
   "cell_type": "code",
   "execution_count": 34,
   "metadata": {
    "collapsed": false
   },
   "outputs": [
    {
     "name": "stdout",
     "output_type": "stream",
     "text": [
      "error: line 2 pos 13 program name expected\n"
     ]
    }
   ],
   "source": [
    "compileString(\"\"\"\n",
    "program begin writeln end\n",
    "\"\"\")"
   ]
  },
  {
   "cell_type": "markdown",
   "metadata": {},
   "source": [
    "#### Error \"; expected\""
   ]
  },
  {
   "cell_type": "code",
   "execution_count": 35,
   "metadata": {
    "collapsed": false
   },
   "outputs": [
    {
     "name": "stdout",
     "output_type": "stream",
     "text": [
      "error: line 2 pos 15 ; expected\n"
     ]
    }
   ],
   "source": [
    "compileString(\"\"\"\n",
    "program p begin writeln end\n",
    "\"\"\")"
   ]
  },
  {
   "cell_type": "markdown",
   "metadata": {},
   "source": [
    "#### Error \"type expected\""
   ]
  },
  {
   "cell_type": "code",
   "execution_count": 36,
   "metadata": {
    "collapsed": false
   },
   "outputs": [
    {
     "name": "stdout",
     "output_type": "stream",
     "text": [
      "error: line 3 pos 17 type expected\n"
     ]
    }
   ],
   "source": [
    "compileString(\"\"\"\n",
    "program p;\n",
    "  type T = while;\n",
    "  begin writeln end\n",
    "\"\"\")"
   ]
  },
  {
   "cell_type": "markdown",
   "metadata": {},
   "source": [
    "### Symbol Table Tests\n",
    "#### Error \"undefined identifier\", \"not a type\", \"variable or procedure expected\""
   ]
  },
  {
   "cell_type": "code",
   "execution_count": 37,
   "metadata": {
    "collapsed": false
   },
   "outputs": [
    {
     "name": "stdout",
     "output_type": "stream",
     "text": [
      "error: line 3 pos 10 undefined identifier U\n",
      "error: line 3 pos 11 not a type\n",
      "error: line 4 pos 9 undefined identifier y\n",
      "error: line 4 pos 12 variable or procedure expected\n"
     ]
    }
   ],
   "source": [
    "compileString(\"\"\"\n",
    "program p;\n",
    "  var y: U;\n",
    "  begin y := true\n",
    "  end\n",
    "\"\"\")"
   ]
  },
  {
   "cell_type": "markdown",
   "metadata": {},
   "source": [
    "#### Error \"undefined identifier\", \"bad upper bound\", \"not a type\""
   ]
  },
  {
   "cell_type": "code",
   "execution_count": 38,
   "metadata": {
    "collapsed": false
   },
   "outputs": [
    {
     "name": "stdout",
     "output_type": "stream",
     "text": [
      "error: line 3 pos 24 undefined identifier N\n",
      "error: line 3 pos 37 bad upper bound\n"
     ]
    }
   ],
   "source": [
    "compileString(\"\"\"\n",
    "program p;\n",
    "  type T = array [7 .. N] of integer;\n",
    "  var x: T;\n",
    "  begin writeln()\n",
    "  end\n",
    "\"\"\")"
   ]
  },
  {
   "cell_type": "markdown",
   "metadata": {},
   "source": [
    "#### Error \"multiple definition\", \"variable or procedure expected\""
   ]
  },
  {
   "cell_type": "code",
   "execution_count": 39,
   "metadata": {
    "collapsed": false
   },
   "outputs": [
    {
     "name": "stdout",
     "output_type": "stream",
     "text": [
      "error: line 4 pos 18 multiple definition\n",
      "error: line 5 pos 12 variable or procedure expected\n"
     ]
    }
   ],
   "source": [
    "compileString(\"\"\"\n",
    "program p;\n",
    "  const x = 9;\n",
    "  var x : integer;\n",
    "  begin x := 7\n",
    "  end\n",
    "\"\"\")"
   ]
  },
  {
   "cell_type": "markdown",
   "metadata": {},
   "source": [
    "#### Error: \"multiple definition\""
   ]
  },
  {
   "cell_type": "code",
   "execution_count": 40,
   "metadata": {
    "collapsed": false
   },
   "outputs": [
    {
     "name": "stdout",
     "output_type": "stream",
     "text": [
      "error: line 5 pos 9 multiple definition\n"
     ]
    }
   ],
   "source": [
    "compileString(\"\"\"\n",
    "program p;\n",
    "  procedure q(var z: boolean);\n",
    "    var z: integer\n",
    "    begin z := true end;\n",
    "  begin writeln()\n",
    "  end\n",
    "\"\"\")"
   ]
  },
  {
   "cell_type": "markdown",
   "metadata": {},
   "source": [
    "#### Symbol Table Dump\n",
    "    type boolean  <class 'ST.Bool'>\n",
    "    type integer  <class 'ST.Int'>\n",
    "    const true: <class 'ST.Bool'> = 1\n",
    "    const false: <class 'ST.Bool'> = 0\n",
    "    stdproc read lev 0 par\n",
    "      [\"ref  lev : <class 'ST.Int'>\"]\n",
    "    stdproc write lev 0 par\n",
    "      [\"var  lev :\\n  <class 'ST.Int'>\"]\n",
    "    stdproc writeln lev 0 par\n",
    "      []\n",
    "    const N: <class 'ST.Int'> = 10\n",
    "    type T  array lower 1 length 10 base\n",
    "        <class 'ST.Int'>\n",
    "    var x lev 0:\n",
    "      array lower 1 length 10 base\n",
    "        <class 'ST.Int'>\n",
    "    var y lev 0:\n",
    "      <class 'ST.Bool'>\n",
    "    var z lev 0:\n",
    "      record\n",
    "        var f lev 1:\n",
    "          <class 'ST.Int'>\n",
    "        var g lev 1:\n",
    "          <class 'ST.Bool'>\n",
    "    proc q lev 0([\"ref z lev 1: <class 'ST.Bool'>\"])"
   ]
  },
  {
   "cell_type": "code",
   "execution_count": 41,
   "metadata": {
    "collapsed": false,
    "scrolled": true
   },
   "outputs": [
    {
     "name": "stdout",
     "output_type": "stream",
     "text": [
      "type boolean  <class 'ST.Bool'>\n",
      "type integer  <class 'ST.Int'>\n",
      "const true: <class 'ST.Bool'> = 1\n",
      "const false: <class 'ST.Bool'> = 0\n",
      "stdproc read lev 0 par\n",
      "  [\"ref  lev : <class 'ST.Int'>\"]\n",
      "stdproc write lev 0 par\n",
      "  [\"var  lev :\\n  <class 'ST.Int'>\"]\n",
      "stdproc writeln lev 0 par\n",
      "  []\n",
      "const N: <class 'ST.Int'> = 10\n",
      "type T  array lower 1 length 10 base\n",
      "    <class 'ST.Int'>\n",
      "var x lev 0:\n",
      "  array lower 1 length 10 base\n",
      "    <class 'ST.Int'>\n",
      "var y lev 0:\n",
      "  <class 'ST.Bool'>\n",
      "var z lev 0:\n",
      "  record\n",
      "    var f lev 1:\n",
      "      <class 'ST.Int'>\n",
      "    var g lev 1:\n",
      "      <class 'ST.Bool'>\n",
      "proc q lev 0([\"ref z lev 1: <class 'ST.Bool'>\"])\n",
      "\n"
     ]
    }
   ],
   "source": [
    "compileString(\"\"\"\n",
    "program p;\n",
    "  const N = 10;\n",
    "  type T = array [1 .. N] of integer;\n",
    "  var x: T;\n",
    "  var y: boolean;\n",
    "  var z: record f: integer; g: boolean end;\n",
    "  procedure q(var z: boolean);\n",
    "    begin z := false end;\n",
    "  begin y := true\n",
    "  end\n",
    "\"\"\", \"/dev/null\") # discard target code\n",
    "printSymTab()"
   ]
  },
  {
   "cell_type": "markdown",
   "metadata": {},
   "source": [
    "### Type Checking Tests\n",
    "#### Error \"not a field\", \"incompatible assignment\""
   ]
  },
  {
   "cell_type": "code",
   "execution_count": 42,
   "metadata": {
    "collapsed": false
   },
   "outputs": [
    {
     "name": "stdout",
     "output_type": "stream",
     "text": [
      "error: line 4 pos 11 not a field\n",
      "error: line 5 pos 5 incompatible assignment\n"
     ]
    }
   ],
   "source": [
    "compileString(\"\"\"\n",
    "program p;\n",
    "  var v: record f: integer end;\n",
    "  begin v.g := 4\n",
    "  end\n",
    "\"\"\")"
   ]
  },
  {
   "cell_type": "markdown",
   "metadata": {},
   "source": [
    "#### Error \"not a record\", \"variable or procedure expected\""
   ]
  },
  {
   "cell_type": "code",
   "execution_count": 43,
   "metadata": {
    "collapsed": false
   },
   "outputs": [
    {
     "name": "stdout",
     "output_type": "stream",
     "text": [
      "error: line 4 pos 11 not a record\n",
      "error: line 4 pos 14 variable or procedure expected\n"
     ]
    }
   ],
   "source": [
    "compileString(\"\"\"\n",
    "program p;\n",
    "  var v: integer;\n",
    "  begin v.g := 4\n",
    "  end\n",
    "\"\"\")"
   ]
  },
  {
   "cell_type": "markdown",
   "metadata": {},
   "source": [
    "#### Error \"identifier expected\""
   ]
  },
  {
   "cell_type": "code",
   "execution_count": 44,
   "metadata": {
    "collapsed": false
   },
   "outputs": [
    {
     "name": "stdout",
     "output_type": "stream",
     "text": [
      "error: line 4 pos 11 identifier expected\n"
     ]
    }
   ],
   "source": [
    "compileString(\"\"\"\n",
    "program p;\n",
    "  var v: record f: integer end;\n",
    "  begin v.3 := 4\n",
    "  end\n",
    "\"\"\")"
   ]
  },
  {
   "cell_type": "markdown",
   "metadata": {},
   "source": [
    "#### Error \"index out of bounds\", \"incompatible assignment\""
   ]
  },
  {
   "cell_type": "code",
   "execution_count": 45,
   "metadata": {
    "collapsed": false
   },
   "outputs": [
    {
     "name": "stdout",
     "output_type": "stream",
     "text": [
      "error: line 4 pos 12 index out of bounds\n",
      "error: line 5 pos 5 incompatible assignment\n"
     ]
    }
   ],
   "source": [
    "compileString(\"\"\"\n",
    "program p;\n",
    "  var x: array [5 .. 7] of integer;\n",
    "  begin x[4] := 3\n",
    "  end\n",
    "\"\"\")"
   ]
  },
  {
   "cell_type": "markdown",
   "metadata": {},
   "source": [
    "#### Error \"index out of bounds\", \"incompatible assignment\""
   ]
  },
  {
   "cell_type": "code",
   "execution_count": 46,
   "metadata": {
    "collapsed": false
   },
   "outputs": [
    {
     "name": "stdout",
     "output_type": "stream",
     "text": [
      "error: line 4 pos 12 index out of bounds\n",
      "error: line 5 pos 5 incompatible assignment\n"
     ]
    }
   ],
   "source": [
    "compileString(\"\"\"\n",
    "program p;\n",
    "  var x: array [5 .. 7] of integer;\n",
    "  begin x[8] := 3\n",
    "  end\n",
    "\"\"\")"
   ]
  },
  {
   "cell_type": "markdown",
   "metadata": {},
   "source": [
    "#### Error \"index not integer\", \"incompatible assignment\""
   ]
  },
  {
   "cell_type": "code",
   "execution_count": 47,
   "metadata": {
    "collapsed": false
   },
   "outputs": [
    {
     "name": "stdout",
     "output_type": "stream",
     "text": [
      "error: line 4 pos 12 index not integer\n",
      "error: line 5 pos 5 incompatible assignment\n"
     ]
    }
   ],
   "source": [
    "compileString(\"\"\"\n",
    "program p;\n",
    "  var x: array [5 .. 7] of integer;\n",
    "  begin x[x] := 3\n",
    "  end\n",
    "\"\"\")"
   ]
  },
  {
   "cell_type": "markdown",
   "metadata": {},
   "source": [
    "#### Error \"not an array\""
   ]
  },
  {
   "cell_type": "code",
   "execution_count": 48,
   "metadata": {
    "collapsed": false
   },
   "outputs": [
    {
     "name": "stdout",
     "output_type": "stream",
     "text": [
      "error: line 4 pos 12 not an array\n"
     ]
    }
   ],
   "source": [
    "compileString(\"\"\"\n",
    "program p;\n",
    "  var x: integer;\n",
    "  begin x[9] := 3\n",
    "  end\n",
    "\"\"\")"
   ]
  },
  {
   "cell_type": "markdown",
   "metadata": {},
   "source": [
    "#### Error \"expression expected\", \"incompatible assignment\""
   ]
  },
  {
   "cell_type": "code",
   "execution_count": 49,
   "metadata": {
    "collapsed": false
   },
   "outputs": [
    {
     "name": "stdout",
     "output_type": "stream",
     "text": [
      "error: line 4 pos 20 expression expected\n",
      "error: line 5 pos 5 incompatible assignment\n"
     ]
    }
   ],
   "source": [
    "compileString(\"\"\"\n",
    "program p;\n",
    "  var x: integer;\n",
    "  begin x := integer\n",
    "  end\n",
    "\"\"\")"
   ]
  },
  {
   "cell_type": "markdown",
   "metadata": {},
   "source": [
    "#### Error \"incompatible assignment\", \"incompatible assignment\""
   ]
  },
  {
   "cell_type": "code",
   "execution_count": 50,
   "metadata": {
    "collapsed": false
   },
   "outputs": [
    {
     "name": "stdout",
     "output_type": "stream",
     "text": [
      "error: line 7 pos 7 incompatible assignment\n",
      "error: line 9 pos 5 incompatible assignment\n"
     ]
    }
   ],
   "source": [
    "compileString(\"\"\"\n",
    "program p;\n",
    "  var x: boolean;\n",
    "  procedure q;\n",
    "    var x: integer;\n",
    "    begin x := true\n",
    "    end;\n",
    "  begin x := 3\n",
    "  end\n",
    "\"\"\")"
   ]
  },
  {
   "cell_type": "markdown",
   "metadata": {},
   "source": [
    "#### Error \"illegal parameter mode\", \"too few parameters\""
   ]
  },
  {
   "cell_type": "code",
   "execution_count": 51,
   "metadata": {
    "collapsed": false
   },
   "outputs": [
    {
     "name": "stdout",
     "output_type": "stream",
     "text": [
      "error: line 6 pos 15 illegal parameter mode\n"
     ]
    }
   ],
   "source": [
    "compileString(\"\"\"\n",
    "program p;\n",
    "  procedure q(a: integer);\n",
    "    begin a := 7\n",
    "    end;\n",
    "  begin q(true)\n",
    "  end\n",
    "\"\"\")"
   ]
  },
  {
   "cell_type": "markdown",
   "metadata": {},
   "source": [
    "#### Error \"illegal parameter mode\", \"too few parameters\""
   ]
  },
  {
   "cell_type": "code",
   "execution_count": 52,
   "metadata": {
    "collapsed": false
   },
   "outputs": [
    {
     "name": "stdout",
     "output_type": "stream",
     "text": [
      "error: line 6 pos 12 illegal parameter mode\n"
     ]
    }
   ],
   "source": [
    "compileString(\"\"\"\n",
    "program p;\n",
    "  procedure q(var a: integer);\n",
    "    begin a := 7\n",
    "    end;\n",
    "  begin q(5)\n",
    "  end\n",
    "\"\"\")"
   ]
  },
  {
   "cell_type": "markdown",
   "metadata": {},
   "source": [
    "#### Error \"extra parameter\""
   ]
  },
  {
   "cell_type": "code",
   "execution_count": 53,
   "metadata": {
    "collapsed": false
   },
   "outputs": [
    {
     "name": "stdout",
     "output_type": "stream",
     "text": [
      "error: line 7 pos 12 extra parameter\n"
     ]
    }
   ],
   "source": [
    "compileString(\"\"\"\n",
    "program p;\n",
    "  var x: integer;\n",
    "  procedure q;\n",
    "    begin x := 7\n",
    "    end;\n",
    "  begin q(x)\n",
    "  end\n",
    "\"\"\")"
   ]
  },
  {
   "cell_type": "markdown",
   "metadata": {},
   "source": [
    "#### Error \"too few parameters\""
   ]
  },
  {
   "cell_type": "code",
   "execution_count": 54,
   "metadata": {
    "collapsed": false
   },
   "outputs": [
    {
     "name": "stdout",
     "output_type": "stream",
     "text": [
      "error: line 7 pos 5 too few parameters\n"
     ]
    }
   ],
   "source": [
    "compileString(\"\"\"\n",
    "program p;\n",
    "  procedure q(a: integer);\n",
    "    begin a := 7\n",
    "    end;\n",
    "  begin q()\n",
    "  end\n",
    "\"\"\")"
   ]
  },
  {
   "cell_type": "markdown",
   "metadata": {},
   "source": [
    "#### Error \"variable or procedure expected\""
   ]
  },
  {
   "cell_type": "code",
   "execution_count": 55,
   "metadata": {
    "collapsed": false
   },
   "outputs": [
    {
     "name": "stdout",
     "output_type": "stream",
     "text": [
      "error: line 4 pos 12 variable or procedure expected\n"
     ]
    }
   ],
   "source": [
    "compileString(\"\"\"\n",
    "program p;\n",
    "  const c = 7;\n",
    "  begin c := 4\n",
    "  end\n",
    "\"\"\")"
   ]
  },
  {
   "cell_type": "markdown",
   "metadata": {},
   "source": [
    "#### Error \"boolean expected\""
   ]
  },
  {
   "cell_type": "code",
   "execution_count": 56,
   "metadata": {
    "collapsed": false
   },
   "outputs": [
    {
     "name": "stdout",
     "output_type": "stream",
     "text": [
      "error: line 4 pos 14 boolean expected\n"
     ]
    }
   ],
   "source": [
    "compileString(\"\"\"\n",
    "program p;\n",
    "  begin\n",
    "    while 5 do writeln\n",
    "  end\n",
    "\"\"\")"
   ]
  },
  {
   "cell_type": "markdown",
   "metadata": {},
   "source": [
    "#### Error \"boolean expected\""
   ]
  },
  {
   "cell_type": "code",
   "execution_count": 57,
   "metadata": {
    "collapsed": false
   },
   "outputs": [
    {
     "name": "stdout",
     "output_type": "stream",
     "text": [
      "error: line 4 pos 13 boolean expected\n"
     ]
    }
   ],
   "source": [
    "compileString(\"\"\"\n",
    "program p;\n",
    "  begin\n",
    "    if 5 then writeln\n",
    "  end\n",
    "\"\"\")"
   ]
  },
  {
   "cell_type": "markdown",
   "metadata": {},
   "source": [
    "#### Error \"not a type\""
   ]
  },
  {
   "cell_type": "code",
   "execution_count": 58,
   "metadata": {
    "collapsed": false
   },
   "outputs": [
    {
     "name": "stdout",
     "output_type": "stream",
     "text": [
      "error: line 4 pos 13 not a type\n"
     ]
    }
   ],
   "source": [
    "compileString(\"\"\"\n",
    "program p;\n",
    "  const c = 3;\n",
    "  type T = c;\n",
    "  begin writeln end\n",
    "\"\"\")"
   ]
  },
  {
   "cell_type": "markdown",
   "metadata": {},
   "source": [
    "#### Error \"bad lower bound\""
   ]
  },
  {
   "cell_type": "code",
   "execution_count": 59,
   "metadata": {
    "collapsed": false
   },
   "outputs": [
    {
     "name": "stdout",
     "output_type": "stream",
     "text": [
      "error: line 3 pos 35 bad lower bound\n"
     ]
    }
   ],
   "source": [
    "compileString(\"\"\"\n",
    "program p;\n",
    "  var v: array[-1 .. 5] of integer;\n",
    "  begin writeln end\n",
    "\"\"\")"
   ]
  },
  {
   "cell_type": "markdown",
   "metadata": {},
   "source": [
    "#### Error \"bad upper bound\""
   ]
  },
  {
   "cell_type": "code",
   "execution_count": 60,
   "metadata": {
    "collapsed": false
   },
   "outputs": [
    {
     "name": "stdout",
     "output_type": "stream",
     "text": [
      "error: line 3 pos 34 bad upper bound\n"
     ]
    }
   ],
   "source": [
    "compileString(\"\"\"\n",
    "program p;\n",
    "  var v: array[5 .. 3] of integer;\n",
    "  begin writeln end\n",
    "\"\"\")"
   ]
  },
  {
   "cell_type": "markdown",
   "metadata": {},
   "source": [
    "#### Error \"expression not constant\""
   ]
  },
  {
   "cell_type": "code",
   "execution_count": 61,
   "metadata": {
    "collapsed": false
   },
   "outputs": [
    {
     "name": "stdout",
     "output_type": "stream",
     "text": [
      "error: line 5 pos 16 expression not constant\n"
     ]
    }
   ],
   "source": [
    "compileString(\"\"\"\n",
    "program p;\n",
    "  var v: integer;\n",
    "  procedure q;\n",
    "    const c = v;\n",
    "    begin writeln end;\n",
    "  begin writeln end\n",
    "\"\"\")"
   ]
  },
  {
   "cell_type": "markdown",
   "metadata": {},
   "source": [
    "### MIPS Code Generator Tests\n",
    "#### Error \"value too large\""
   ]
  },
  {
   "cell_type": "code",
   "execution_count": 62,
   "metadata": {
    "collapsed": false
   },
   "outputs": [
    {
     "name": "stdout",
     "output_type": "stream",
     "text": [
      "error: line 6 pos 5 value too large\n"
     ]
    }
   ],
   "source": [
    "compileString(\"\"\"\n",
    "program p;\n",
    "  const c = 100000;\n",
    "  var x: integer;\n",
    "  begin x := c\n",
    "  end\n",
    "\"\"\")"
   ]
  },
  {
   "cell_type": "markdown",
   "metadata": {},
   "source": [
    "#### Error \"no structured value parameters\", \"variable or procedure expected\""
   ]
  },
  {
   "cell_type": "code",
   "execution_count": 63,
   "metadata": {
    "collapsed": false
   },
   "outputs": [
    {
     "name": "stdout",
     "output_type": "stream",
     "text": [
      "error: line 4 pos 20 no structured value parameters\n",
      "error: line 5 pos 14 variable or procedure expected\n"
     ]
    }
   ],
   "source": [
    "compileString(\"\"\"\n",
    "program p;\n",
    "  type a = array [1..10] of integer;\n",
    "  procedure q(f: a);\n",
    "    begin a := 4\n",
    "    end\n",
    "  begin a(5)\n",
    "  end\n",
    "\"\"\")"
   ]
  },
  {
   "cell_type": "markdown",
   "metadata": {},
   "source": [
    "#### Error \"out of registers\""
   ]
  },
  {
   "cell_type": "code",
   "execution_count": 64,
   "metadata": {
    "collapsed": false
   },
   "outputs": [
    {
     "name": "stdout",
     "output_type": "stream",
     "text": [
      "error: line 5 pos 69 out of registers\n"
     ]
    }
   ],
   "source": [
    "compileString(\"\"\"\n",
    "program p;\n",
    "  var x: integer;\n",
    "  begin\n",
    "    x := 0*x + (1*x + (2*x + (3*x + (4*x + (5*x + (6*x + (7*x + (8*x))))))))\n",
    "  end\n",
    "\"\"\")"
   ]
  },
  {
   "cell_type": "markdown",
   "metadata": {},
   "source": [
    "#### Error \"level!\", \"undefined identifier\", \"variable or procedure expected\""
   ]
  },
  {
   "cell_type": "code",
   "execution_count": 65,
   "metadata": {
    "collapsed": false
   },
   "outputs": [
    {
     "name": "stdout",
     "output_type": "stream",
     "text": [
      "error: line 6 pos 16 level!\n",
      "error: line 10 pos 9 undefined identifier x\n",
      "error: line 10 pos 12 variable or procedure expected\n"
     ]
    }
   ],
   "source": [
    "compileString(\"\"\"\n",
    "program p;\n",
    "  procedure q;\n",
    "    var x: integer;\n",
    "    procedure r;\n",
    "      begin x := 5\n",
    "      end;\n",
    "    begin x := 3\n",
    "    end;\n",
    "  begin x := 7\n",
    "  end\n",
    "\"\"\")"
   ]
  },
  {
   "cell_type": "markdown",
   "metadata": {},
   "source": [
    "#### Error \"unsupported parameter type\""
   ]
  },
  {
   "cell_type": "code",
   "execution_count": 66,
   "metadata": {
    "collapsed": false
   },
   "outputs": [
    {
     "name": "stdout",
     "output_type": "stream",
     "text": [
      "error: line 7 pos 16 unsupported parameter type\n"
     ]
    }
   ],
   "source": [
    "compileString(\"\"\"\n",
    "program p;\n",
    "  var x: integer;\n",
    "  procedure q(b: boolean);\n",
    "    begin b := false\n",
    "    end;\n",
    "  begin q(x > 7)\n",
    "  end\n",
    "\"\"\")"
   ]
  },
  {
   "cell_type": "markdown",
   "metadata": {},
   "source": [
    "#### Input & Output\n",
    "```\n",
    "    \t.data\n",
    "    x_: .space 4\n",
    "        .text\n",
    "        .globl main\n",
    "        .ent main\n",
    "    main:\t\n",
    "        li $v0, 5\n",
    "        syscall\n",
    "        sw $v0, x_\n",
    "        addi $t0, $0, 3\n",
    "        lw $t4, x_\n",
    "        mul $t0, $t0, $t4\n",
    "        sw $t0, x_\n",
    "        lw $a0, x_\n",
    "        li $v0, 1\n",
    "        syscall\n",
    "        li $v0, 11\n",
    "        li $a0, '\\n'\n",
    "        syscall\n",
    "        li $v0, 11\n",
    "        li $a0, '\\n'\n",
    "        syscall\n",
    "        lw $t2, x_\n",
    "        mul $t2, $t2, 5\n",
    "        add $a0, $t2, $0\n",
    "        li $v0, 1\n",
    "        syscall\n",
    "        li $v0, 10\n",
    "        syscall\n",
    "        .end main\n",
    "```"
   ]
  },
  {
   "cell_type": "code",
   "execution_count": 67,
   "metadata": {
    "collapsed": false
   },
   "outputs": [
    {
     "name": "stdout",
     "output_type": "stream",
     "text": [
      "\t.data\n",
      "x_:\t.space 4\n",
      "\t.text\n",
      "\t.globl main\n",
      "\t.ent main\n",
      "main:\t\n",
      "\tli $v0, 5\n",
      "\tsyscall\n",
      "\tsw $v0, x_\n",
      "\taddi $t3, $0, 3\n",
      "\tlw $t1, x_\n",
      "\tmul $t3, $t3, $t1\n",
      "\tsw $t3, x_\n",
      "\tlw $a0, x_\n",
      "\tli $v0, 1\n",
      "\tsyscall\n",
      "\tli $v0, 11\n",
      "\tli $a0, '\\n'\n",
      "\tsyscall\n",
      "\tli $v0, 11\n",
      "\tli $a0, '\\n'\n",
      "\tsyscall\n",
      "\tlw $t7, x_\n",
      "\tmul $t7, $t7, 5\n",
      "\tadd $a0, $t7, $0\n",
      "\tli $v0, 1\n",
      "\tsyscall\n",
      "\tli $v0, 10\n",
      "\tsyscall\n",
      "\t.end main\n"
     ]
    }
   ],
   "source": [
    "compileString(\"\"\"\n",
    "program p;\n",
    "  var x: integer;\n",
    "  begin read(x);\n",
    "    x := 3 * x;\n",
    "    write(x);\n",
    "    writeln();\n",
    "    writeln();\n",
    "    write(x * 5)\n",
    "  end\n",
    "\"\"\")"
   ]
  },
  {
   "cell_type": "markdown",
   "metadata": {},
   "source": [
    "#### Parameter Passing\n",
    "```\n",
    "        .data\n",
    "    z_: .space 40\n",
    "    x_: .space 4\n",
    "        .text\n",
    "        .globl q\n",
    "        .ent q\n",
    "    q:  \n",
    "        sw $fp, -12($sp)\n",
    "        sw $ra, -16($sp)\n",
    "        sub $fp, $sp, 8\n",
    "        sub $sp, $fp, 12\n",
    "        lw $t0, 4($fp)\n",
    "        sw $t0, -12($fp)\n",
    "        lw $a0, -12($fp)\n",
    "        li $v0, 1\n",
    "        syscall\n",
    "        li $v0, 11\n",
    "        li $a0, '\\n'\n",
    "        syscall\n",
    "        lw $t4, 0($fp)\n",
    "        lw $t2, 0($t4)\n",
    "        sw $t2, 4($fp)\n",
    "        lw $a0, x_\n",
    "        li $v0, 1\n",
    "        syscall\n",
    "        lw $a0, 4($fp)\n",
    "        li $v0, 1\n",
    "        syscall\n",
    "        li $v0, 11\n",
    "        li $a0, '\\n'\n",
    "        syscall\n",
    "        lw $t6, 0($fp)\n",
    "        lw $t3, -12($fp)\n",
    "        sw $t3, 0($t6)\n",
    "        lw $t8, 0($fp)\n",
    "        lw $a0, 0($t8)\n",
    "        li $v0, 1\n",
    "        syscall\n",
    "        lw $a0, x_\n",
    "        li $v0, 1\n",
    "        syscall\n",
    "        li $v0, 11\n",
    "        li $a0, '\\n'\n",
    "        syscall\n",
    "        lw $a0, 4($fp)\n",
    "        li $v0, 1\n",
    "        syscall\n",
    "        lw $a0, -12($fp)\n",
    "        li $v0, 1\n",
    "        syscall\n",
    "        li $v0, 11\n",
    "        li $a0, '\\n'\n",
    "        syscall\n",
    "        lw $a0, z_+12\n",
    "        li $v0, 1\n",
    "        syscall\n",
    "        add $sp, $fp, 8\n",
    "        lw $ra, -8($fp)\n",
    "        lw $fp, -4($fp)\n",
    "        jr $ra\n",
    "        .text\n",
    "        .globl r\n",
    "        .ent r\n",
    "    r:  \n",
    "        sw $fp, -8($sp)\n",
    "        sw $ra, -12($sp)\n",
    "        sub $fp, $sp, 4\n",
    "        sub $sp, $fp, 8\n",
    "        lw $t5, 0($fp)\n",
    "        lw $t7, x_\n",
    "        sub $t7, $t7, 1\n",
    "        mul $t7, $t7, 4\n",
    "        add $t7, $t5, $t7\n",
    "        lw $t1, x_\n",
    "        sw $t1, 0($t7)\n",
    "        addi $t0, $0, 7\n",
    "        sw $t0, -4($sp)\n",
    "        lw $t4, 0($fp)\n",
    "        lw $t2, x_\n",
    "        sub $t2, $t2, 1\n",
    "        mul $t2, $t2, 4\n",
    "        add $t2, $t4, $t2\n",
    "        sw $t2, -8($sp)\n",
    "        jal, q\n",
    "        lw $a0, x_\n",
    "        li $v0, 1\n",
    "        syscall\n",
    "        add $sp, $fp, 4\n",
    "        lw $ra, -8($fp)\n",
    "        lw $fp, -4($fp)\n",
    "        jr $ra\n",
    "        .text\n",
    "        .globl main\n",
    "        .ent main\n",
    "    main:   \n",
    "        addi $t3, $0, 5\n",
    "        sw $t3, x_\n",
    "        la $t8, z_\n",
    "        sw $t8, -4($sp)\n",
    "        jal, r\n",
    "        li $v0, 10\n",
    "        syscall\n",
    "        .end main\n",
    "```"
   ]
  },
  {
   "cell_type": "code",
   "execution_count": 68,
   "metadata": {
    "collapsed": false
   },
   "outputs": [
    {
     "name": "stdout",
     "output_type": "stream",
     "text": [
      "\t.data\n",
      "z_:\t.space 40\n",
      "x_:\t.space 4\n",
      "\t.text\n",
      "\t.globl q\n",
      "\t.ent q\n",
      "q:\t\n",
      "\tsw $fp, -4($sp)\n",
      "\tsw $ra, -8($sp)\n",
      "\tsub $fp, $sp, 0\n",
      "\tsub $sp, $fp, 12\n",
      "\tsw $a0, -12($fp)\n",
      "\tlw $a0, -12($fp)\n",
      "\tli $v0, 1\n",
      "\tsyscall\n",
      "\tli $v0, 11\n",
      "\tli $a0, '\\n'\n",
      "\tsyscall\n",
      "\tlw $a0, 0($a1)\n",
      "\tlw $a0, x_\n",
      "\tli $v0, 1\n",
      "\tsyscall\n",
      "\tadd $a0, $a0, $0\n",
      "\tli $v0, 1\n",
      "\tsyscall\n",
      "\tli $v0, 11\n",
      "\tli $a0, '\\n'\n",
      "\tsyscall\n",
      "\tlw $t3, -12($fp)\n",
      "\tsw $t3, 0($a1)\n",
      "\tlw $a0, 0($a1)\n",
      "\tli $v0, 1\n",
      "\tsyscall\n",
      "\tlw $a0, x_\n",
      "\tli $v0, 1\n",
      "\tsyscall\n",
      "\tli $v0, 11\n",
      "\tli $a0, '\\n'\n",
      "\tsyscall\n",
      "\tadd $a0, $a0, $0\n",
      "\tli $v0, 1\n",
      "\tsyscall\n",
      "\tlw $a0, -12($fp)\n",
      "\tli $v0, 1\n",
      "\tsyscall\n",
      "\tli $v0, 11\n",
      "\tli $a0, '\\n'\n",
      "\tsyscall\n",
      "\tlw $a0, z_+12\n",
      "\tli $v0, 1\n",
      "\tsyscall\n",
      "\tadd $sp, $fp, 0\n",
      "\tlw $ra, -8($fp)\n",
      "\tlw $fp, -4($fp)\n",
      "\tjr $ra\n",
      "\t.globl r\n",
      "\t.ent r\n",
      "r:\t\n",
      "\tsw $fp, -4($sp)\n",
      "\tsw $ra, -8($sp)\n",
      "\tsub $fp, $sp, 0\n",
      "\tsub $sp, $fp, 8\n",
      "\tlw $t1, x_\n",
      "\tsub $t1, $t1, 1\n",
      "\tmul $t1, $t1, 4\n",
      "\tadd $t1, $a0, $t1\n",
      "\tlw $t7, x_\n",
      "\tsw $t7, 0($t1)\n",
      "\taddi $a0, $0, 7\n",
      "\tlw $t8, x_\n",
      "\tsub $t8, $t8, 1\n",
      "\tmul $t8, $t8, 4\n",
      "\tadd $t8, $a0, $t8\n",
      "\tadd $a1, $t8, $0\n",
      "\tjal, q\n",
      "\tlw $a0, x_\n",
      "\tli $v0, 1\n",
      "\tsyscall\n",
      "\tadd $sp, $fp, 0\n",
      "\tlw $ra, -8($fp)\n",
      "\tlw $fp, -4($fp)\n",
      "\tjr $ra\n",
      "\t.globl main\n",
      "\t.ent main\n",
      "main:\t\n",
      "\taddi $t2, $0, 5\n",
      "\tsw $t2, x_\n",
      "\tla $a0, z_\n",
      "\tjal, r\n",
      "\tli $v0, 10\n",
      "\tsyscall\n",
      "\t.end main\n"
     ]
    }
   ],
   "source": [
    "compileString(\"\"\"\n",
    "program p;\n",
    "  type T = array [1..10] of integer;\n",
    "  var x: integer;\n",
    "  var z: T;\n",
    "  procedure q({-4($sp)}a: integer {4($fp)}; {-8($sp)}var b: integer {($fp)});\n",
    "    var y: integer;{-12($fp)}\n",
    "    begin y := a; write(y); writeln(); {writes 7}\n",
    "      a := b; write(x); write(a); writeln(); {writes 5, 5}\n",
    "      b := y; write(b); write(x); writeln(); {writes 7, 7}\n",
    "      write(a); write(y); writeln(); {writes 5, 7}\n",
    "      write(z[4]) {writes 7}\n",
    "    end;\n",
    "  procedure r(var c: T);\n",
    "    begin c[x] := x; q(7, c[x]); write(x) {writes 7}\n",
    "    end;\n",
    "  begin x := 5; r(z)\n",
    "  end\n",
    "\"\"\")"
   ]
  },
  {
   "cell_type": "markdown",
   "metadata": {},
   "source": [
    "#### Nested Procedures\n",
    "```\n",
    "        .data\n",
    "i_:     .space 4\n",
    "b_:     .space 4\n",
    "        .text\n",
    "        .globl p\n",
    "        .ent p\n",
    "p:      \n",
    "        sw $fp, -4($sp)\n",
    "        sw $ra, -8($sp)\n",
    "        sub $fp, $sp, 0\n",
    "        sub $sp, $fp, 8\n",
    "        sw $0, b_\n",
    "        lw $t3, 0($a0)\n",
    "        add $t3, $t3, 1\n",
    "        sw $t3, 0($a0)\n",
    "        add $sp, $fp, 0\n",
    "        lw $ra, -8($fp)\n",
    "        lw $fp, -4($fp)\n",
    "        jr $ra\n",
    "        .globl q\n",
    "        .ent q\n",
    "q:      \n",
    "        sw $fp, -4($sp)\n",
    "        sw $ra, -8($sp)\n",
    "        sub $fp, $sp, 0\n",
    "        sub $sp, $fp, 12\n",
    "        addi $t1, $0, 1\n",
    "        sw $t1, 0($a0)\n",
    "        addi $t7, $0, 4\n",
    "        sw $t7, -12($fp)\n",
    "        la $a0, i_\n",
    "        jal, p\n",
    "        add $sp, $fp, 0\n",
    "        lw $ra, -8($fp)\n",
    "        lw $fp, -4($fp)\n",
    "        jr $ra\n",
    "        .globl main\n",
    "        .ent main\n",
    "main:   \n",
    "        la $a0, b_\n",
    "        jal, q\n",
    "        li $v0, 10\n",
    "        syscall\n",
    "        .end main\n",
    "```"
   ]
  },
  {
   "cell_type": "code",
   "execution_count": 82,
   "metadata": {
    "collapsed": false
   },
   "outputs": [
    {
     "name": "stdout",
     "output_type": "stream",
     "text": [
      "\t.data\n",
      "i_:\t.space 4\n",
      "b_:\t.space 4\n",
      "\t.text\n",
      "\t.globl p\n",
      "\t.ent p\n",
      "p:\t\n",
      "\tsw $fp, -4($sp)\n",
      "\tsw $ra, -8($sp)\n",
      "\tsub $fp, $sp, 0\n",
      "\tsub $sp, $fp, 8\n",
      "\tsw $0, b_\n",
      "\tlw $t3, 0($a0)\n",
      "\tadd $t3, $t3, 1\n",
      "\tsw $t3, 0($a0)\n",
      "\tadd $sp, $fp, 0\n",
      "\tlw $ra, -8($fp)\n",
      "\tlw $fp, -4($fp)\n",
      "\tjr $ra\n",
      "\t.globl q\n",
      "\t.ent q\n",
      "q:\t\n",
      "\tsw $fp, -4($sp)\n",
      "\tsw $ra, -8($sp)\n",
      "\tsub $fp, $sp, 0\n",
      "\tsub $sp, $fp, 12\n",
      "\taddi $t1, $0, 1\n",
      "\tsw $t1, 0($a0)\n",
      "\taddi $t7, $0, 4\n",
      "\tsw $t7, -12($fp)\n",
      "\tla $a0, i_\n",
      "\tjal, p\n",
      "\tadd $sp, $fp, 0\n",
      "\tlw $ra, -8($fp)\n",
      "\tlw $fp, -4($fp)\n",
      "\tjr $ra\n",
      "\t.globl main\n",
      "\t.ent main\n",
      "main:\t\n",
      "\tla $a0, b_\n",
      "\tjal, q\n",
      "\tli $v0, 10\n",
      "\tsyscall\n",
      "\t.end main\n"
     ]
    }
   ],
   "source": [
    "compileString(\"\"\"\n",
    "program p;\n",
    "  var b: boolean;\n",
    "  var i: integer;\n",
    "  procedure q(var z: boolean);\n",
    "    var y: integer;\n",
    "    procedure p(var x: integer);\n",
    "      begin b := false; x := x + 1\n",
    "      end;\n",
    "    begin z := true; y := 4; p(i)\n",
    "    end;\n",
    "  begin q(b)\n",
    "  end\n",
    "\"\"\")"
   ]
  },
  {
   "cell_type": "markdown",
   "metadata": {},
   "source": [
    "#### Arrays and Records\n",
    "```\n",
    "        .data\n",
    "    x_: .space 4\n",
    "    w_: .space 36\n",
    "    v_: .space 28\n",
    "        .text\n",
    "        .globl q\n",
    "        .ent q\n",
    "    q:  \n",
    "        sw $fp, -12($sp)\n",
    "        sw $ra, -16($sp)\n",
    "        sub $fp, $sp, 8\n",
    "        sub $sp, $fp, 12\n",
    "        addi $t0, $0, 3\n",
    "        sw $t0, -12($fp)\n",
    "        lw $t4, 0($fp)\n",
    "        lw $a0, 32($t4)\n",
    "        li $v0, 1\n",
    "        syscall\n",
    "        lw $t2, 4($fp)\n",
    "        lw $a0, 0($t2)\n",
    "        li $v0, 1\n",
    "        syscall\n",
    "        lw $t6, 0($fp)\n",
    "        lw $t3, -12($fp)\n",
    "        sub $t3, $t3, 1\n",
    "        mul $t3, $t3, 4\n",
    "        add $t3, $t6, $t3\n",
    "        lw $a0, 4($t3)\n",
    "        li $v0, 1\n",
    "        syscall\n",
    "        li $v0, 11\n",
    "        li $a0, '\\n'\n",
    "        syscall\n",
    "        lw $t8, 4($fp)\n",
    "        addi $t5, $0, 7\n",
    "        sw $t5, 24($t8)\n",
    "        lw $t7, 4($fp)\n",
    "        lw $t1, -12($fp)\n",
    "        add $t1, $t1, 4\n",
    "        sub $t1, $t1, 1\n",
    "        mul $t1, $t1, 4\n",
    "        add $t1, $t7, $t1\n",
    "        lw $a0, 0($t1)\n",
    "        li $v0, 1\n",
    "        syscall\n",
    "        lw $t0, 0($fp)\n",
    "        lw $t4, -12($fp)\n",
    "        mul $t4, $t4, 2\n",
    "        sub $t4, $t4, 1\n",
    "        mul $t4, $t4, 4\n",
    "        add $t4, $t0, $t4\n",
    "        addi $t2, $0, 7\n",
    "        sw $t2, 4($t4)\n",
    "        lw $t6, 0($fp)\n",
    "        lw $a0, 24($t6)\n",
    "        li $v0, 1\n",
    "        syscall\n",
    "        add $sp, $fp, 8\n",
    "        lw $ra, -8($fp)\n",
    "        lw $fp, -4($fp)\n",
    "        jr $ra\n",
    "        .text\n",
    "        .globl main\n",
    "        .ent main\n",
    "    main:   \n",
    "        addi $t3, $0, 9\n",
    "        sw $t3, x_\n",
    "        addi $t5, $0, 5\n",
    "        sw $t5, w_+32\n",
    "        lw $a0, w_+32\n",
    "        li $v0, 1\n",
    "        syscall\n",
    "        addi $t7, $0, 3\n",
    "        sw $t7, v_+0\n",
    "        lw $t1, x_\n",
    "        sub $t1, $t1, 8\n",
    "        sub $t1, $t1, 1\n",
    "        mul $t1, $t1, 4\n",
    "        lw $a0, v_($t1)\n",
    "        li $v0, 1\n",
    "        syscall\n",
    "        lw $t0, x_\n",
    "        div $t0, $t0, 3\n",
    "        sub $t0, $t0, 1\n",
    "        mul $t0, $t0, 4\n",
    "        addi $t2, $0, 9\n",
    "        sw $t2, w_+4($t0)\n",
    "        lw $a0, w_+4+8\n",
    "        li $v0, 1\n",
    "        syscall\n",
    "        li $v0, 11\n",
    "        li $a0, '\\n'\n",
    "        syscall\n",
    "        la $t6, v_\n",
    "        sw $t6, -4($sp)\n",
    "        la $t3, w_\n",
    "        sw $t3, -8($sp)\n",
    "        jal, q\n",
    "        li $v0, 11\n",
    "        li $a0, '\\n'\n",
    "        syscall\n",
    "        lw $a0, v_+24\n",
    "        li $v0, 1\n",
    "        syscall\n",
    "        lw $a0, w_+4+20\n",
    "        li $v0, 1\n",
    "        syscall\n",
    "        li $v0, 10\n",
    "        syscall\n",
    "        .end main\n",
    "```"
   ]
  },
  {
   "cell_type": "code",
   "execution_count": 70,
   "metadata": {
    "collapsed": false
   },
   "outputs": [
    {
     "name": "stdout",
     "output_type": "stream",
     "text": [
      "\t.data\n",
      "x_:\t.space 4\n",
      "w_:\t.space 36\n",
      "v_:\t.space 28\n",
      "\t.text\n",
      "\t.globl q\n",
      "\t.ent q\n",
      "q:\t\n",
      "\tsw $fp, -4($sp)\n",
      "\tsw $ra, -8($sp)\n",
      "\tsub $fp, $sp, 0\n",
      "\tsub $sp, $fp, 12\n",
      "\taddi $t3, $0, 3\n",
      "\tsw $t3, -12($fp)\n",
      "\tlw $a0, 32($a1)\n",
      "\tli $v0, 1\n",
      "\tsyscall\n",
      "\tlw $a0, 0($a0)\n",
      "\tli $v0, 1\n",
      "\tsyscall\n",
      "\tlw $t1, -12($fp)\n",
      "\tsub $t1, $t1, 1\n",
      "\tmul $t1, $t1, 4\n",
      "\tadd $t1, $a1, $t1\n",
      "\tlw $a0, 4($t1)\n",
      "\tli $v0, 1\n",
      "\tsyscall\n",
      "\tli $v0, 11\n",
      "\tli $a0, '\\n'\n",
      "\tsyscall\n",
      "\taddi $t7, $0, 7\n",
      "\tsw $t7, 24($a0)\n",
      "\tlw $t8, -12($fp)\n",
      "\tadd $t8, $t8, 4\n",
      "\tsub $t8, $t8, 1\n",
      "\tmul $t8, $t8, 4\n",
      "\tadd $t8, $a0, $t8\n",
      "\tlw $a0, 0($t8)\n",
      "\tli $v0, 1\n",
      "\tsyscall\n",
      "\tlw $t2, -12($fp)\n",
      "\tmul $t2, $t2, 2\n",
      "\tsub $t2, $t2, 1\n",
      "\tmul $t2, $t2, 4\n",
      "\tadd $t2, $a1, $t2\n",
      "\taddi $t0, $0, 7\n",
      "\tsw $t0, 4($t2)\n",
      "\tlw $a0, 24($a1)\n",
      "\tli $v0, 1\n",
      "\tsyscall\n",
      "\tadd $sp, $fp, 0\n",
      "\tlw $ra, -8($fp)\n",
      "\tlw $fp, -4($fp)\n",
      "\tjr $ra\n",
      "\t.globl main\n",
      "\t.ent main\n",
      "main:\t\n",
      "\taddi $t5, $0, 9\n",
      "\tsw $t5, x_\n",
      "\taddi $t6, $0, 5\n",
      "\tsw $t6, w_+32\n",
      "\tlw $a0, w_+32\n",
      "\tli $v0, 1\n",
      "\tsyscall\n",
      "\taddi $t4, $0, 3\n",
      "\tsw $t4, v_+0\n",
      "\tlw $t3, x_\n",
      "\tsub $t3, $t3, 8\n",
      "\tsub $t3, $t3, 1\n",
      "\tmul $t3, $t3, 4\n",
      "\tlw $a0, v_($t3)\n",
      "\tli $v0, 1\n",
      "\tsyscall\n",
      "\tlw $t1, x_\n",
      "\tdiv $t1, $t1, 3\n",
      "\tsub $t1, $t1, 1\n",
      "\tmul $t1, $t1, 4\n",
      "\taddi $t7, $0, 9\n",
      "\tsw $t7, w_+4($t1)\n",
      "\tlw $a0, w_+4+8\n",
      "\tli $v0, 1\n",
      "\tsyscall\n",
      "\tli $v0, 11\n",
      "\tli $a0, '\\n'\n",
      "\tsyscall\n",
      "\tla $a0, v_\n",
      "\tla $a1, w_\n",
      "\tjal, q\n",
      "\tli $v0, 11\n",
      "\tli $a0, '\\n'\n",
      "\tsyscall\n",
      "\tlw $a0, v_+24\n",
      "\tli $v0, 1\n",
      "\tsyscall\n",
      "\tlw $a0, w_+4+20\n",
      "\tli $v0, 1\n",
      "\tsyscall\n",
      "\tli $v0, 10\n",
      "\tsyscall\n",
      "\t.end main\n"
     ]
    }
   ],
   "source": [
    "compileString(\"\"\"\n",
    "program p;\n",
    "  type a = array [1 .. 7] of integer;\n",
    "  type r = record f: integer; g: a; h: integer end;\n",
    "  var v: a;\n",
    "  var w: r;\n",
    "  var x: integer;\n",
    "  procedure q(var c: a; var d: r);\n",
    "    var y: integer;\n",
    "    begin y := 3;\n",
    "      write(d.h); write(c[1]); write(d.g[y]); {writes 5, 3, 9}\n",
    "      writeln(); c[7] := 7; write(c[y+4]); {writes 7}\n",
    "      d.g[y*2] := 7; write(d.g[6]) {writes 7}\n",
    "    end;\n",
    "  begin x := 9;\n",
    "    w.h := 12 - 7; write(w.h); {writes 5}\n",
    "    v[1] := 3; write(v[x-8]); {writes 3}\n",
    "    w.g[x div 3] := 9; write(w.g[3]); {writes 9}\n",
    "    writeln(); q(v, w); writeln();\n",
    "    write(v[7]); write(w.g[6]) {writes 7, 7}\n",
    "  end\n",
    "\"\"\")"
   ]
  },
  {
   "cell_type": "markdown",
   "metadata": {},
   "source": [
    "#### Booleans and Conditions"
   ]
  },
  {
   "cell_type": "code",
   "execution_count": 71,
   "metadata": {
    "collapsed": false
   },
   "outputs": [
    {
     "name": "stdout",
     "output_type": "stream",
     "text": [
      "\t.data\n",
      "f_:\t.space 4\n",
      "t_:\t.space 4\n",
      "b_:\t.space 4\n",
      "z_:\t.space 4\n",
      "y_:\t.space 4\n",
      "x_:\t.space 4\n",
      "\t.text\n",
      "\t.globl main\n",
      "\t.ent main\n",
      "main:\t\n",
      "\taddi $t3, $0, 7\n",
      "\tsw $t3, x_\n",
      "\taddi $t1, $0, 9\n",
      "\tsw $t1, y_\n",
      "\taddi $t7, $0, 11\n",
      "\tsw $t7, z_\n",
      "\taddi $t8, $0, 1\n",
      "\tsw $t8, t_\n",
      "\tsw $0, f_\n",
      "\taddi $t2, $0, 1\n",
      "\tbeq $t2, $0, L1\n",
      "L2:\t\n",
      "\taddi $a0, $0, 7\n",
      "\tli $v0, 1\n",
      "\tsyscall\n",
      "\tb, L3\n",
      "L1:\t\n",
      "\taddi $a0, $0, 9\n",
      "\tli $v0, 1\n",
      "\tsyscall\n",
      "L3:\t\n",
      "\tbeq $0, $0, L4\n",
      "L5:\t\n",
      "\taddi $a0, $0, 7\n",
      "\tli $v0, 1\n",
      "\tsyscall\n",
      "\tb, L6\n",
      "L4:\t\n",
      "\taddi $a0, $0, 9\n",
      "\tli $v0, 1\n",
      "\tsyscall\n",
      "L6:\t\n",
      "\tlw $t0, t_\n",
      "\tbeq $t0, $0, L7\n",
      "L8:\t\n",
      "\taddi $a0, $0, 7\n",
      "\tli $v0, 1\n",
      "\tsyscall\n",
      "\tb, L9\n",
      "L7:\t\n",
      "\taddi $a0, $0, 9\n",
      "\tli $v0, 1\n",
      "\tsyscall\n",
      "L9:\t\n",
      "\tlw $t5, f_\n",
      "\tbeq $t5, $0, L10\n",
      "L11:\t\n",
      "\taddi $a0, $0, 7\n",
      "\tli $v0, 1\n",
      "\tsyscall\n",
      "\tb, L12\n",
      "L10:\t\n",
      "\taddi $a0, $0, 9\n",
      "\tli $v0, 1\n",
      "\tsyscall\n",
      "L12:\t\n",
      "\tlw $t6, t_\n",
      "\tbne $t6, $0, L14\n",
      "L13:\t\n",
      "\taddi $a0, $0, 7\n",
      "\tli $v0, 1\n",
      "\tsyscall\n",
      "\tb, L15\n",
      "L14:\t\n",
      "\taddi $a0, $0, 9\n",
      "\tli $v0, 1\n",
      "\tsyscall\n",
      "L15:\t\n",
      "\tlw $t4, f_\n",
      "\tbne $t4, $0, L17\n",
      "L16:\t\n",
      "\taddi $a0, $0, 7\n",
      "\tli $v0, 1\n",
      "\tsyscall\n",
      "\tb, L18\n",
      "L17:\t\n",
      "\taddi $a0, $0, 9\n",
      "\tli $v0, 1\n",
      "\tsyscall\n",
      "L18:\t\n",
      "\tlw $t3, t_\n",
      "\tbne $t3, $0, L20\n",
      "L19:\t\n",
      "\tlw $t1, t_\n",
      "\tbeq $t1, $0, L21\n",
      "L22:\t\n",
      "L20:\t\n",
      "\taddi $a0, $0, 7\n",
      "\tli $v0, 1\n",
      "\tsyscall\n",
      "\tb, L23\n",
      "L21:\t\n",
      "\taddi $a0, $0, 9\n",
      "\tli $v0, 1\n",
      "\tsyscall\n",
      "L23:\t\n",
      "\tlw $t7, t_\n",
      "\tbne $t7, $0, L25\n",
      "L24:\t\n",
      "\tlw $t8, f_\n",
      "\tbeq $t8, $0, L26\n",
      "L27:\t\n",
      "L25:\t\n",
      "\taddi $a0, $0, 7\n",
      "\tli $v0, 1\n",
      "\tsyscall\n",
      "\tb, L28\n",
      "L26:\t\n",
      "\taddi $a0, $0, 9\n",
      "\tli $v0, 1\n",
      "\tsyscall\n",
      "L28:\t\n",
      "\tlw $t2, f_\n",
      "\tbne $t2, $0, L30\n",
      "L29:\t\n",
      "\tlw $t0, t_\n",
      "\tbeq $t0, $0, L31\n",
      "L32:\t\n",
      "L30:\t\n",
      "\taddi $a0, $0, 7\n",
      "\tli $v0, 1\n",
      "\tsyscall\n",
      "\tb, L33\n",
      "L31:\t\n",
      "\taddi $a0, $0, 9\n",
      "\tli $v0, 1\n",
      "\tsyscall\n",
      "L33:\t\n",
      "\tlw $t5, f_\n",
      "\tbne $t5, $0, L35\n",
      "L34:\t\n",
      "\tlw $t6, f_\n",
      "\tbeq $t6, $0, L36\n",
      "L37:\t\n",
      "L35:\t\n",
      "\taddi $a0, $0, 7\n",
      "\tli $v0, 1\n",
      "\tsyscall\n",
      "\tb, L38\n",
      "L36:\t\n",
      "\taddi $a0, $0, 9\n",
      "\tli $v0, 1\n",
      "\tsyscall\n",
      "L38:\t\n",
      "\tlw $t4, t_\n",
      "\tbeq $t4, $0, L39\n",
      "L40:\t\n",
      "\tlw $t3, t_\n",
      "\tbeq $t3, $0, L41\n",
      "L42:\t\n",
      "\taddi $a0, $0, 7\n",
      "\tli $v0, 1\n",
      "\tsyscall\n",
      "\tb, L43\n",
      "L41:\t\n",
      "L39:\t\n",
      "\taddi $a0, $0, 9\n",
      "\tli $v0, 1\n",
      "\tsyscall\n",
      "L43:\t\n",
      "\tlw $t1, t_\n",
      "\tbeq $t1, $0, L44\n",
      "L45:\t\n",
      "\tlw $t7, f_\n",
      "\tbeq $t7, $0, L46\n",
      "L47:\t\n",
      "\taddi $a0, $0, 7\n",
      "\tli $v0, 1\n",
      "\tsyscall\n",
      "\tb, L48\n",
      "L46:\t\n",
      "L44:\t\n",
      "\taddi $a0, $0, 9\n",
      "\tli $v0, 1\n",
      "\tsyscall\n",
      "L48:\t\n",
      "\tlw $t8, f_\n",
      "\tbeq $t8, $0, L49\n",
      "L50:\t\n",
      "\tlw $t2, t_\n",
      "\tbeq $t2, $0, L51\n",
      "L52:\t\n",
      "\taddi $a0, $0, 7\n",
      "\tli $v0, 1\n",
      "\tsyscall\n",
      "\tb, L53\n",
      "L51:\t\n",
      "L49:\t\n",
      "\taddi $a0, $0, 9\n",
      "\tli $v0, 1\n",
      "\tsyscall\n",
      "L53:\t\n",
      "\tlw $t0, f_\n",
      "\tbeq $t0, $0, L54\n",
      "L55:\t\n",
      "\tlw $t5, f_\n",
      "\tbeq $t5, $0, L56\n",
      "L57:\t\n",
      "\taddi $a0, $0, 7\n",
      "\tli $v0, 1\n",
      "\tsyscall\n",
      "\tb, L58\n",
      "L56:\t\n",
      "L54:\t\n",
      "\taddi $a0, $0, 9\n",
      "\tli $v0, 1\n",
      "\tsyscall\n",
      "L58:\t\n",
      "\tli $v0, 11\n",
      "\tli $a0, '\\n'\n",
      "\tsyscall\n",
      "\taddi $t6, $0, 1\n",
      "\tsw $t6, b_\n",
      "\tlw $t4, b_\n",
      "\tbeq $t4, $0, L59\n",
      "L60:\t\n",
      "\taddi $a0, $0, 3\n",
      "\tli $v0, 1\n",
      "\tsyscall\n",
      "\tb, L61\n",
      "L59:\t\n",
      "\taddi $a0, $0, 5\n",
      "\tli $v0, 1\n",
      "\tsyscall\n",
      "L61:\t\n",
      "\tsw $0, b_\n",
      "\tlw $t3, b_\n",
      "\tbeq $t3, $0, L62\n",
      "L63:\t\n",
      "\taddi $a0, $0, 3\n",
      "\tli $v0, 1\n",
      "\tsyscall\n",
      "\tb, L64\n",
      "L62:\t\n",
      "\taddi $a0, $0, 5\n",
      "\tli $v0, 1\n",
      "\tsyscall\n",
      "L64:\t\n",
      "\tlw $t1, x_\n",
      "\tlw $t7, y_\n",
      "\tbge $t1, $t7, L65\n",
      "L66:\t\n",
      "\taddi $t8, $0, 1\n",
      "\tb, L67\n",
      "L65:\t\n",
      "\taddi $t8, $0, 0\n",
      "L67:\t\n",
      "\tsw $t8, b_\n",
      "\tlw $t2, b_\n",
      "\tbeq $t2, $0, L68\n",
      "L69:\t\n",
      "\tlw $a0, x_\n",
      "\tli $v0, 1\n",
      "\tsyscall\n",
      "\tb, L70\n",
      "L68:\t\n",
      "\tlw $a0, y_\n",
      "\tli $v0, 1\n",
      "\tsyscall\n",
      "L70:\t\n",
      "\tlw $t0, x_\n",
      "\tlw $t5, y_\n",
      "\tbgt $t0, $t5, L72\n",
      "L71:\t\n",
      "\tlw $t6, t_\n",
      "\tbeq $t6, $0, L73\n",
      "L74:\t\n",
      "L72:\t\n",
      "\taddi $t4, $0, 1\n",
      "\tb, L75\n",
      "L73:\t\n",
      "\taddi $t4, $0, 0\n",
      "L75:\t\n",
      "\tsw $t4, b_\n",
      "\tlw $t3, b_\n",
      "\tbeq $t3, $0, L76\n",
      "L77:\t\n",
      "\taddi $a0, $0, 3\n",
      "\tli $v0, 1\n",
      "\tsyscall\n",
      "\tb, L78\n",
      "L76:\t\n",
      "\taddi $a0, $0, 5\n",
      "\tli $v0, 1\n",
      "\tsyscall\n",
      "L78:\t\n",
      "\tlw $t1, x_\n",
      "\tlw $t7, y_\n",
      "\tbgt $t1, $t7, L80\n",
      "L79:\t\n",
      "\tlw $t8, f_\n",
      "\tbeq $t8, $0, L81\n",
      "L82:\t\n",
      "L80:\t\n",
      "\taddi $t2, $0, 1\n",
      "\tb, L83\n",
      "L81:\t\n",
      "\taddi $t2, $0, 0\n",
      "L83:\t\n",
      "\tsw $t2, b_\n",
      "\tlw $t0, b_\n",
      "\tbeq $t0, $0, L84\n",
      "L85:\t\n",
      "\taddi $a0, $0, 3\n",
      "\tli $v0, 1\n",
      "\tsyscall\n",
      "\tb, L86\n",
      "L84:\t\n",
      "\taddi $a0, $0, 5\n",
      "\tli $v0, 1\n",
      "\tsyscall\n",
      "L86:\t\n",
      "\tlw $t5, x_\n",
      "\tlw $t6, y_\n",
      "\tbeq $t5, $t6, L88\n",
      "L87:\t\n",
      "\tlw $t4, x_\n",
      "\tlw $t3, y_\n",
      "\tble $t4, $t3, L89\n",
      "L90:\t\n",
      "L88:\t\n",
      "\taddi $t1, $0, 1\n",
      "\tb, L91\n",
      "L89:\t\n",
      "\taddi $t1, $0, 0\n",
      "L91:\t\n",
      "\tsw $t1, b_\n",
      "\tlw $t7, b_\n",
      "\tbeq $t7, $0, L92\n",
      "L93:\t\n",
      "\taddi $a0, $0, 3\n",
      "\tli $v0, 1\n",
      "\tsyscall\n",
      "\tb, L94\n",
      "L92:\t\n",
      "\taddi $a0, $0, 5\n",
      "\tli $v0, 1\n",
      "\tsyscall\n",
      "L94:\t\n",
      "\tlw $t8, x_\n",
      "\tlw $t2, y_\n",
      "\tbeq $t8, $t2, L96\n",
      "L95:\t\n",
      "\tlw $t0, x_\n",
      "\tlw $t5, y_\n",
      "\tbge $t0, $t5, L97\n",
      "L98:\t\n",
      "L96:\t\n",
      "\taddi $t6, $0, 1\n",
      "\tb, L99\n",
      "L97:\t\n",
      "\taddi $t6, $0, 0\n",
      "L99:\t\n",
      "\tsw $t6, b_\n",
      "\tlw $t4, b_\n",
      "\tbeq $t4, $0, L100\n",
      "L101:\t\n",
      "\taddi $a0, $0, 3\n",
      "\tli $v0, 1\n",
      "\tsyscall\n",
      "\tb, L102\n",
      "L100:\t\n",
      "\taddi $a0, $0, 5\n",
      "\tli $v0, 1\n",
      "\tsyscall\n",
      "L102:\t\n",
      "\tlw $t3, f_\n",
      "\tbeq $t3, $0, L103\n",
      "L104:\t\n",
      "\tlw $t1, x_\n",
      "\tlw $t7, y_\n",
      "\tblt $t1, $t7, L105\n",
      "L106:\t\n",
      "\taddi $t8, $0, 1\n",
      "\tb, L107\n",
      "L105:\t\n",
      "L103:\t\n",
      "\taddi $t8, $0, 0\n",
      "L107:\t\n",
      "\tsw $t8, b_\n",
      "\tlw $t2, b_\n",
      "\tbeq $t2, $0, L108\n",
      "L109:\t\n",
      "\taddi $a0, $0, 3\n",
      "\tli $v0, 1\n",
      "\tsyscall\n",
      "\tb, L110\n",
      "L108:\t\n",
      "\taddi $a0, $0, 5\n",
      "\tli $v0, 1\n",
      "\tsyscall\n",
      "L110:\t\n",
      "\tli $v0, 11\n",
      "\tli $a0, '\\n'\n",
      "\tsyscall\n",
      "L111:\t\n",
      "\tlw $t0, y_\n",
      "\taddi $t5, $0, 3\n",
      "\tble $t0, $t5, L112\n",
      "L113:\t\n",
      "\tlw $a0, y_\n",
      "\tli $v0, 1\n",
      "\tsyscall\n",
      "\tlw $t6, y_\n",
      "\tsub $t6, $t6, 1\n",
      "\tsw $t6, y_\n",
      "\tb, L111\n",
      "L112:\t\n",
      "\tlw $a0, y_\n",
      "\tli $v0, 1\n",
      "\tsyscall\n",
      "\tli $v0, 11\n",
      "\tli $a0, '\\n'\n",
      "\tsyscall\n",
      "\tlw $t4, x_\n",
      "\tlw $t3, y_\n",
      "\tblt $t4, $t3, L115\n",
      "L114:\t\n",
      "\tlw $t1, t_\n",
      "\tbeq $t1, $0, L116\n",
      "L117:\t\n",
      "\tlw $a0, x_\n",
      "\tli $v0, 1\n",
      "\tsyscall\n",
      "L116:\t\n",
      "L115:\t\n",
      "\tli $v0, 10\n",
      "\tsyscall\n",
      "\t.end main\n"
     ]
    }
   ],
   "source": [
    "compileString(\"\"\"\n",
    "program p;\n",
    "  const five = 5;\n",
    "  const seven = 7;\n",
    "  const always = true;\n",
    "  const never = false;\n",
    "  var x, y, z: integer;\n",
    "  var b, t, f: boolean;\n",
    "  begin x := seven; y := 9; z := 11; t := true; f := false;\n",
    "    if true then write(7) else write(9);    {writes 7}\n",
    "    if false then write(7) else write(9);   {writes 9}\n",
    "    if t then write(7) else write(9);       {writes 7}\n",
    "    if f then write(7) else write(9);       {writes 9}\n",
    "    if not t then write(7) else write(9);   {writes 9}\n",
    "    if not f then write(7) else write(9);   {writes 7}\n",
    "    if t or t then write(7) else write(9);  {writes 7}\n",
    "    if t or f then write(7) else write(9);  {writes 7}\n",
    "    if f or t then write(7) else write(9);  {writes 7}\n",
    "    if f or f then write(7) else write(9);  {writes 9}\n",
    "    if t and t then write(7) else write(9); {writes 7}\n",
    "    if t and f then write(7) else write(9); {writes 9}\n",
    "    if f and t then write(7) else write(9); {writes 9}\n",
    "    if f and f then write(7) else write(9); {writes 9}\n",
    "    writeln();\n",
    "    b := true;\n",
    "    if b then write(3) else write(5); {writes 3}\n",
    "    b := false;\n",
    "    if b then write(3) else write(5); {writes 5}\n",
    "    b := x < y;\n",
    "    if b then write(x) else write(y); {writes 7}\n",
    "    b := (x > y) or t;\n",
    "    if b then write(3) else write(5); {writes 3}\n",
    "    b := (x > y) or f;\n",
    "    if b then write(3) else write(5); {writes 5}\n",
    "    b := (x = y) or (x > y);\n",
    "    if b then write(3) else write(5); {writes 5}\n",
    "    b := (x = y) or (x < y);\n",
    "    if b then write(3) else write(5); {writes 3}\n",
    "    b := f and (x >= y);\n",
    "    if b then write(3) else write(5); {writes 5}\n",
    "    writeln();\n",
    "    while y > 3 do                    {writes 9, 8, 7, 6, 5, 4}\n",
    "      begin write(y); y := y - 1 end;\n",
    "    write(y); writeln();              {writes 3}\n",
    "    if not(x < y) and t then          {writes 7}\n",
    "      write(x)\n",
    "  end\n",
    "\"\"\")"
   ]
  },
  {
   "cell_type": "markdown",
   "metadata": {},
   "source": [
    "#### Constant Folding, Local & Global Variables"
   ]
  },
  {
   "cell_type": "code",
   "execution_count": 72,
   "metadata": {
    "collapsed": false
   },
   "outputs": [
    {
     "name": "stdout",
     "output_type": "stream",
     "text": [
      "\t.data\n",
      "y_:\t.space 4\n",
      "x_:\t.space 4\n",
      "\t.text\n",
      "\t.globl q\n",
      "\t.ent q\n",
      "q:\t\n",
      "\tsw $fp, -4($sp)\n",
      "\tsw $ra, -8($sp)\n",
      "\tsub $fp, $sp, 0\n",
      "\tsub $sp, $fp, 12\n",
      "\taddi $t3, $0, 3\n",
      "\tsw $t3, -12($fp)\n",
      "\taddi $t1, $0, 1\n",
      "\tbeq $t1, $0, L1\n",
      "L2:\t\n",
      "\tlw $t7, -12($fp)\n",
      "\tsw $t7, y_\n",
      "\tb, L3\n",
      "L1:\t\n",
      "\taddi $t8, $0, 7\n",
      "\tsw $t8, y_\n",
      "L3:\t\n",
      "\tlw $a0, y_\n",
      "\tli $v0, 1\n",
      "\tsyscall\n",
      "\tbeq $0, $0, L4\n",
      "L5:\t\n",
      "\tlw $t2, -12($fp)\n",
      "\tsw $t2, y_\n",
      "\tb, L6\n",
      "L4:\t\n",
      "\taddi $t0, $0, 7\n",
      "\tsw $t0, y_\n",
      "L6:\t\n",
      "\tlw $a0, y_\n",
      "\tli $v0, 1\n",
      "\tsyscall\n",
      "\taddi $t5, $0, 1\n",
      "\tbeq $t5, $0, L7\n",
      "L8:\t\n",
      "\tlw $t6, -12($fp)\n",
      "\tsw $t6, y_\n",
      "\tb, L9\n",
      "L7:\t\n",
      "\taddi $t4, $0, 7\n",
      "\tsw $t4, y_\n",
      "L9:\t\n",
      "\tlw $a0, y_\n",
      "\tli $v0, 1\n",
      "\tsyscall\n",
      "\tbeq $0, $0, L10\n",
      "L11:\t\n",
      "\tlw $t3, -12($fp)\n",
      "\tsw $t3, y_\n",
      "\tb, L12\n",
      "L10:\t\n",
      "\taddi $t1, $0, 7\n",
      "\tsw $t1, y_\n",
      "L12:\t\n",
      "\tlw $a0, y_\n",
      "\tli $v0, 1\n",
      "\tsyscall\n",
      "\tbeq $0, $0, L13\n",
      "L14:\t\n",
      "\taddi $a0, $0, 5\n",
      "\tli $v0, 1\n",
      "\tsyscall\n",
      "\tb, L15\n",
      "L13:\t\n",
      "\taddi $a0, $0, 9\n",
      "\tli $v0, 1\n",
      "\tsyscall\n",
      "L15:\t\n",
      "\tadd $sp, $fp, 0\n",
      "\tlw $ra, -8($fp)\n",
      "\tlw $fp, -4($fp)\n",
      "\tjr $ra\n",
      "\t.globl main\n",
      "\t.ent main\n",
      "main:\t\n",
      "\taddi $t7, $0, 7\n",
      "\tsw $t7, x_\n",
      "\tjal, q\n",
      "\tlw $a0, x_\n",
      "\tli $v0, 1\n",
      "\tsyscall\n",
      "\tli $v0, 10\n",
      "\tsyscall\n",
      "\t.end main\n"
     ]
    }
   ],
   "source": [
    "compileString(\"\"\"\n",
    "program p;\n",
    "  const seven = (9 mod 3 + 5 * 3) div 2;\n",
    "  type int = integer;\n",
    "  var x, y: integer;\n",
    "  procedure q;\n",
    "    const sotrue = true and true;\n",
    "    const sofalse = false and true;\n",
    "    const alsotrue = false or true;\n",
    "    const alsofalse = false or false;\n",
    "    var x: int;\n",
    "    begin x := 3;\n",
    "      if sotrue then y := x else y := seven;\n",
    "      write(y); {writes 3}\n",
    "      if sofalse then y := x else y := seven;\n",
    "      write(y); {writes 7}\n",
    "      if alsotrue then y := x else y := seven;\n",
    "      write(y); {writes 3}\n",
    "      if alsofalse then y := x else y := seven;\n",
    "      write(y); {writes 7}\n",
    "      if not(true or false) then write(5) else write(9)\n",
    "    end;\n",
    "  begin x := 7; q(); write(x) {writes 7}\n",
    "  end\n",
    "\"\"\")"
   ]
  },
  {
   "cell_type": "markdown",
   "metadata": {},
   "source": [
    "#### Procedures\n",
    "```\n",
    "    .data\n",
    "g_: .space 4\n",
    "    .text\n",
    "    .globl q\n",
    "    .ent q\n",
    "q:  \n",
    "    sw $fp, -8($sp)\n",
    "    sw $ra, -12($sp)\n",
    "    sub $fp, $sp, 4\n",
    "    sub $sp, $fp, 12\n",
    "    addi $t4, $0, 9\n",
    "    sw $t4, -12($fp)\n",
    "    lw $t2, -12($fp)\n",
    "    lw $t7, 0($fp)\n",
    "    ble $t2, $t7, L1\n",
    "L2: \n",
    "    lw $a0, -12($fp)\n",
    "    li $v0, 1\n",
    "    syscall\n",
    "    b, L3\n",
    "L1: \n",
    "    lw $a0, g_\n",
    "    li $v0, 1\n",
    "    syscall\n",
    "L3: \n",
    "    add $sp, $fp, 4\n",
    "    lw $ra, -8($fp)\n",
    "    lw $fp, -4($fp)\n",
    "    jr $ra\n",
    "    .text\n",
    "    .globl main\n",
    "    .ent main\n",
    "main:   \n",
    "    addi $t0, $0, 5\n",
    "    sw $t0, g_\n",
    "    addi $t8, $0, 7\n",
    "    sw $t8, -4($sp)\n",
    "    jal, q\n",
    "    li $v0, 10\n",
    "    syscall\n",
    "    .end main\n",
    "```"
   ]
  },
  {
   "cell_type": "code",
   "execution_count": 73,
   "metadata": {
    "collapsed": false
   },
   "outputs": [
    {
     "name": "stdout",
     "output_type": "stream",
     "text": [
      "\t.data\n",
      "g_:\t.space 4\n",
      "\t.text\n",
      "\t.globl q\n",
      "\t.ent q\n",
      "q:\t\n",
      "\tsw $fp, -4($sp)\n",
      "\tsw $ra, -8($sp)\n",
      "\tsub $fp, $sp, 0\n",
      "\tsub $sp, $fp, 12\n",
      "\taddi $t3, $0, 9\n",
      "\tsw $t3, -12($fp)\n",
      "\tlw $t1, -12($fp)\n",
      "\tble $t1, $a0, L1\n",
      "L2:\t\n",
      "\tlw $a0, -12($fp)\n",
      "\tli $v0, 1\n",
      "\tsyscall\n",
      "\tb, L3\n",
      "L1:\t\n",
      "\tlw $a0, g_\n",
      "\tli $v0, 1\n",
      "\tsyscall\n",
      "L3:\t\n",
      "\tadd $sp, $fp, 0\n",
      "\tlw $ra, -8($fp)\n",
      "\tlw $fp, -4($fp)\n",
      "\tjr $ra\n",
      "\t.globl main\n",
      "\t.ent main\n",
      "main:\t\n",
      "\taddi $t7, $0, 5\n",
      "\tsw $t7, g_\n",
      "\taddi $a0, $0, 7\n",
      "\tjal, q\n",
      "\tli $v0, 10\n",
      "\tsyscall\n",
      "\t.end main\n"
     ]
    }
   ],
   "source": [
    "compileString(\"\"\"\n",
    "program p;\n",
    "  var g: integer;          {global variable}\n",
    "  procedure q(v: integer); {value parameter}\n",
    "    var l: integer;        {local variable}\n",
    "    begin\n",
    "      l := 9;\n",
    "      if l > v then\n",
    "         write(l)\n",
    "      else\n",
    "         write(g)\n",
    "    end;\n",
    "  begin\n",
    "    g := 5;\n",
    "    q(7)\n",
    "  end\n",
    "\"\"\")"
   ]
  },
  {
   "cell_type": "markdown",
   "metadata": {},
   "source": [
    "#### Illustrating Lack of Optimization\n",
    "```\n",
    "        .data\n",
    "    x_: .space 4\n",
    "        .text\n",
    "        .globl main\n",
    "        .ent main\n",
    "    main:   \n",
    "        addi $t4, $0, 5\n",
    "        sw $t4, x_\n",
    "        lw $t6, x_\n",
    "        add $t6, $t6, 0\n",
    "        sw $t6, x_\n",
    "        lw $t7, x_\n",
    "        add $t8, $0, $t7\n",
    "        sw $t8, x_\n",
    "        lw $t3, x_\n",
    "        mul $t3, $t3, 1\n",
    "        sw $t3, x_\n",
    "        addi $t2, $0, 1\n",
    "        lw $t1, x_\n",
    "        mul $t2, $t2, $t1\n",
    "        sw $t2, x_\n",
    "        lw $t5, x_\n",
    "        add $t5, $t5, 3\n",
    "        sw $t5, x_\n",
    "        addi $t0, $0, 3\n",
    "        lw $t4, x_\n",
    "        add $t0, $t0, $t4\n",
    "        sw $t0, x_\n",
    "        li $v0, 10\n",
    "        syscall\n",
    "        .end main\n",
    "```"
   ]
  },
  {
   "cell_type": "code",
   "execution_count": 74,
   "metadata": {
    "collapsed": false,
    "scrolled": true
   },
   "outputs": [
    {
     "name": "stdout",
     "output_type": "stream",
     "text": [
      "\t.data\n",
      "x_:\t.space 4\n",
      "\t.text\n",
      "\t.globl main\n",
      "\t.ent main\n",
      "main:\t\n",
      "\taddi $t3, $0, 5\n",
      "\tsw $t3, x_\n",
      "\tlw $t1, x_\n",
      "\tadd $t1, $t1, 0\n",
      "\tsw $t1, x_\n",
      "\tlw $t8, x_\n",
      "\tadd $t7, $0, $t8\n",
      "\tsw $t7, x_\n",
      "\tlw $t2, x_\n",
      "\tmul $t2, $t2, 1\n",
      "\tsw $t2, x_\n",
      "\taddi $t0, $0, 1\n",
      "\tlw $t5, x_\n",
      "\tmul $t0, $t0, $t5\n",
      "\tsw $t0, x_\n",
      "\tlw $t6, x_\n",
      "\tadd $t6, $t6, 3\n",
      "\tsw $t6, x_\n",
      "\taddi $t4, $0, 3\n",
      "\tlw $t3, x_\n",
      "\tadd $t4, $t4, $t3\n",
      "\tsw $t4, x_\n",
      "\tli $v0, 10\n",
      "\tsyscall\n",
      "\t.end main\n"
     ]
    }
   ],
   "source": [
    "compileString(\"\"\"\n",
    "program p;\n",
    "  var x: integer;\n",
    "  begin x := 5;\n",
    "    x := x + 0;\n",
    "    x := 0 + x;\n",
    "    x := x * 1;\n",
    "    x := 1 * x;\n",
    "    x := x + 3;\n",
    "    x := 3 + x\n",
    "  end\n",
    "\"\"\")"
   ]
  },
  {
   "cell_type": "markdown",
   "metadata": {},
   "source": [
    "#### Record and Array Access\n",
    "```\n",
    "    .data\n",
    "y_: .space 4          # size(y) = size(integer) = 4\n",
    "x_: .space 32         # size(T) = (9-3+1)*size(integer) = 7*4=28\n",
    "                      # size(U) = size(integer)+size(T) = 32\n",
    "                      # size(x) = size(U) = 32\n",
    "                      # offset(f) = 0\n",
    "                      # offset(g) = size(f) = 4\n",
    "    .text\n",
    "    .globl main\n",
    "    .ent main\n",
    "main:   \n",
    "    lw $t3, y_        # $t3 := y\n",
    "    add $t3, $t3, 3   # $t3 := $t3 + 3\n",
    "    sw $t3, y_        # y := $t3\n",
    "    addi $t1, $0, 1   # $t1 := 1\n",
    "    sw $t1, x_+0      # M[x+offset(f)] = x.f := $t1\n",
    "    lw $t0, y_        # $t0 := y\n",
    "    sub $t0, $t0, 3   # $t0 := $t0 - 3\n",
    "    mul $t0, $t0, 4   # $t0 := $t0 * size(integer)\n",
    "    addi $t8, $0, 5   # $t8 := 5\n",
    "    sw $t8, x_+4($t0) # M[(x+offset(g)+adr(g[y]))] = x.g[5] := $t8\n",
    "    li $v0, 10\n",
    "    syscall\n",
    "    .end main\n",
    "```"
   ]
  },
  {
   "cell_type": "code",
   "execution_count": 75,
   "metadata": {
    "code_folding": [],
    "collapsed": false
   },
   "outputs": [
    {
     "name": "stdout",
     "output_type": "stream",
     "text": [
      "\t.data\n",
      "y_:\t.space 4\n",
      "x_:\t.space 32\n",
      "\t.text\n",
      "\t.globl main\n",
      "\t.ent main\n",
      "main:\t\n",
      "\tlw $t3, y_\n",
      "\tadd $t3, $t3, 3\n",
      "\tsw $t3, y_\n",
      "\taddi $t1, $0, 1\n",
      "\tsw $t1, x_+0\n",
      "\tlw $t7, y_\n",
      "\tsub $t7, $t7, 3\n",
      "\tmul $t7, $t7, 4\n",
      "\taddi $t8, $0, 5\n",
      "\tsw $t8, x_+4($t7)\n",
      "\tli $v0, 10\n",
      "\tsyscall\n",
      "\t.end main\n"
     ]
    }
   ],
   "source": [
    "compileString(\"\"\"\n",
    "program p;\n",
    "  type T = array [3..9] of integer;\n",
    "  type U = record f: boolean; g: T end;\n",
    "  var x: U;\n",
    "  var y: integer;\n",
    "  begin\n",
    "    y := y + 3;\n",
    "    x.f := true;\n",
    "    x.g[y] := 5\n",
    "  end\n",
    "\"\"\")"
   ]
  },
  {
   "cell_type": "markdown",
   "metadata": {},
   "source": [
    "#### Two-dimensional Array\n",
    "```\n",
    "    .data\n",
    "y_: .space 4\n",
    "x_: .space 616\n",
    "    .text\n",
    "    .globl main\n",
    "    .ent main\n",
    "main:   \n",
    "    lw $t0, y_\n",
    "    sub $t0, $t0, 3\n",
    "    mul $t0, $t0, 88\n",
    "    sw $0, x_+32+4($t0)\n",
    "    lw $t4, y_\n",
    "    sub $t4, $t4, 3\n",
    "    mul $t4, $t4, 88\n",
    "    lw $t2, y_\n",
    "    add $t2, $t2, 1\n",
    "    sub $t2, $t2, 1\n",
    "    mul $t2, $t2, 8\n",
    "    add $t2, $t4, $t2\n",
    "    addi $t6, $0, 1\n",
    "    sw $t6, x_+0($t2)\n",
    "    li $v0, 10\n",
    "    syscall\n",
    "    .end main\n",
    "```"
   ]
  },
  {
   "cell_type": "code",
   "execution_count": 76,
   "metadata": {
    "collapsed": false
   },
   "outputs": [
    {
     "name": "stdout",
     "output_type": "stream",
     "text": [
      "\t.data\n",
      "y_:\t.space 4\n",
      "x_:\t.space 616\n",
      "\t.text\n",
      "\t.globl main\n",
      "\t.ent main\n",
      "main:\t\n",
      "\tlw $t3, y_\n",
      "\tsub $t3, $t3, 3\n",
      "\tmul $t3, $t3, 88\n",
      "\tsw $0, x_+32+4($t3)\n",
      "\tlw $t1, y_\n",
      "\tsub $t1, $t1, 3\n",
      "\tmul $t1, $t1, 88\n",
      "\tlw $t7, y_\n",
      "\tadd $t7, $t7, 1\n",
      "\tsub $t7, $t7, 1\n",
      "\tmul $t7, $t7, 8\n",
      "\tadd $t7, $t1, $t7\n",
      "\taddi $t8, $0, 1\n",
      "\tsw $t8, x_+0($t7)\n",
      "\tli $v0, 10\n",
      "\tsyscall\n",
      "\t.end main\n"
     ]
    }
   ],
   "source": [
    "compileString(\"\"\"\n",
    "program p;\n",
    "  type R = record f, g: boolean end;\n",
    "  type S = array [1..11] of R;\n",
    "  type T = array [3..9] of S;\n",
    "  var x: T; \n",
    "  var y: integer;\n",
    "  begin\n",
    "    x[y][5].g := false;\n",
    "    x[y][y + 1].f := true\n",
    "  end\n",
    "\"\"\")"
   ]
  },
  {
   "cell_type": "markdown",
   "metadata": {},
   "source": [
    "#### Assignments\n",
    "```\n",
    "    .data\n",
    "z_: .space 4\n",
    "y_: .space 4\n",
    "x_: .space 4\n",
    "    .text\n",
    "    .globl main\n",
    "    .ent main\n",
    "main:   \n",
    "    addi $t0, $0, 3\n",
    "    sw $t0, z_\n",
    "    lw $t4, y_\n",
    "    mul $t4, $t4, 7\n",
    "    lw $t2, x_\n",
    "    add $t2, $t2, $t4\n",
    "    sw $t2, z_\n",
    "    sw $0, z_\n",
    "    li $v0, 10\n",
    "    syscall\n",
    "    .end main\n",
    "```"
   ]
  },
  {
   "cell_type": "code",
   "execution_count": 77,
   "metadata": {
    "collapsed": false
   },
   "outputs": [
    {
     "name": "stdout",
     "output_type": "stream",
     "text": [
      "\t.data\n",
      "z_:\t.space 4\n",
      "y_:\t.space 4\n",
      "x_:\t.space 4\n",
      "\t.text\n",
      "\t.globl main\n",
      "\t.ent main\n",
      "main:\t\n",
      "\taddi $t3, $0, 3\n",
      "\tsw $t3, z_\n",
      "\tlw $t1, y_\n",
      "\tmul $t1, $t1, 7\n",
      "\tlw $t7, x_\n",
      "\tadd $t7, $t7, $t1\n",
      "\tsw $t7, z_\n",
      "\tsw $0, z_\n",
      "\tli $v0, 10\n",
      "\tsyscall\n",
      "\t.end main\n"
     ]
    }
   ],
   "source": [
    "compileString(\"\"\"\n",
    "program p;\n",
    "  var x, y, z: integer;\n",
    "  begin\n",
    "    z := 3;\n",
    "    z := x + y * 7;\n",
    "    z := 0\n",
    "  end\n",
    "\"\"\")"
   ]
  },
  {
   "cell_type": "markdown",
   "metadata": {},
   "source": [
    "#### Relations\n",
    "```\n",
    "    .data\n",
    "y_: .space 4\n",
    "x_: .space 4\n",
    "    .text\n",
    "    .globl main\n",
    "    .ent main\n",
    "main:   \n",
    "    lw $t4, x_\n",
    "    lw $t2, y_\n",
    "    ble $t4, $t2, L1\n",
    "L2: \n",
    "    sw $0, x_\n",
    "L1: \n",
    "    li $v0, 10\n",
    "    syscall\n",
    "    .end main\n",
    "```"
   ]
  },
  {
   "cell_type": "code",
   "execution_count": 78,
   "metadata": {
    "collapsed": false
   },
   "outputs": [
    {
     "name": "stdout",
     "output_type": "stream",
     "text": [
      "\t.data\n",
      "y_:\t.space 4\n",
      "x_:\t.space 4\n",
      "\t.text\n",
      "\t.globl main\n",
      "\t.ent main\n",
      "main:\t\n",
      "\tlw $t3, x_\n",
      "\tlw $t1, y_\n",
      "\tble $t3, $t1, L1\n",
      "L2:\t\n",
      "\tsw $0, x_\n",
      "L1:\t\n",
      "\tli $v0, 10\n",
      "\tsyscall\n",
      "\t.end main\n"
     ]
    }
   ],
   "source": [
    "compileString(\"\"\"\n",
    "program p;\n",
    "  var x, y: integer;\n",
    "  begin\n",
    "    if x > y then x := 0\n",
    "  end\n",
    "\"\"\")"
   ]
  },
  {
   "cell_type": "markdown",
   "metadata": {},
   "source": [
    "### AST Demos\n",
    "#### Control Structures\n",
    "```\n",
    "seq\n",
    "  seq\n",
    "    call read\n",
    "      var x lev 0:\n",
    "        <class 'ST.Int'>\n",
    "    ifelse\n",
    "      >\n",
    "        var x lev 0:\n",
    "          <class 'ST.Int'>\n",
    "        const : <class 'ST.Int'> = 0\n",
    "      while\n",
    "        <\n",
    "          var y lev 0:\n",
    "            array lower 1 length 10 base\n",
    "              <class 'ST.Int'>[]\n",
    "             var x lev 0:\n",
    "              <class 'ST.Int'>\n",
    "          const : <class 'ST.Int'> = 7\n",
    "        :=\n",
    "          var x lev 0:\n",
    "            <class 'ST.Int'>\n",
    "          +\n",
    "            var x lev 0:\n",
    "              <class 'ST.Int'>\n",
    "            const : <class 'ST.Int'> = 1\n",
    "      call write\n",
    "        var x lev 0:\n",
    "          <class 'ST.Int'>\n",
    "  call writeln\n",
    "\n",
    "type boolean  <class 'ST.Bool'>\n",
    "type integer  <class 'ST.Int'>\n",
    "const true: <class 'ST.Bool'> = 1\n",
    "const false: <class 'ST.Bool'> = 0\n",
    "stdproc read lev 0 par\n",
    "  [\"ref  lev : <class 'ST.Int'>\"]\n",
    "stdproc write lev 0 par\n",
    "  [\"var  lev :\\n  <class 'ST.Int'>\"]\n",
    "stdproc writeln lev 0 par\n",
    "  []\n",
    "var x lev 0:\n",
    "  <class 'ST.Int'>\n",
    "var y lev 0:\n",
    "  array lower 1 length 10 base\n",
    "    <class 'ST.Int'>\n",
    "```"
   ]
  },
  {
   "cell_type": "code",
   "execution_count": 79,
   "metadata": {
    "collapsed": false
   },
   "outputs": [
    {
     "name": "stdout",
     "output_type": "stream",
     "text": [
      "importing Jupyter notebook from CGast.ipynb\n",
      "seq\n",
      "  seq\n",
      "    call read\n",
      "      var x lev 0:\n",
      "        <class 'ST.Int'>\n",
      "    ifelse\n",
      "      >\n",
      "        var x lev 0:\n",
      "          <class 'ST.Int'>\n",
      "        const : <class 'ST.Int'> = 0\n",
      "      while\n",
      "        <\n",
      "          var y lev 0:\n",
      "            array lower 1 length 10 base\n",
      "              <class 'ST.Int'>[]\n",
      "             var x lev 0:\n",
      "              <class 'ST.Int'>\n",
      "          const : <class 'ST.Int'> = 7\n",
      "        :=\n",
      "          var x lev 0:\n",
      "            <class 'ST.Int'>\n",
      "          +\n",
      "            var x lev 0:\n",
      "              <class 'ST.Int'>\n",
      "            const : <class 'ST.Int'> = 1\n",
      "      call write\n",
      "        var x lev 0:\n",
      "          <class 'ST.Int'>\n",
      "  call writeln\n",
      "\n",
      "type boolean  <class 'ST.Bool'>\n",
      "type integer  <class 'ST.Int'>\n",
      "const true: <class 'ST.Bool'> = 1\n",
      "const false: <class 'ST.Bool'> = 0\n",
      "stdproc read lev 0 par\n",
      "  [\"ref  lev : <class 'ST.Int'>\"]\n",
      "stdproc write lev 0 par\n",
      "  [\"var  lev :\\n  <class 'ST.Int'>\"]\n",
      "stdproc writeln lev 0 par\n",
      "  []\n",
      "var x lev 0:\n",
      "  <class 'ST.Int'>\n",
      "var y lev 0:\n",
      "  array lower 1 length 10 base\n",
      "    <class 'ST.Int'>\n",
      "\n"
     ]
    }
   ],
   "source": [
    "compileString(\"\"\"\n",
    "program p;\n",
    "  var x: integer;\n",
    "  var y: array [1..10] of integer;\n",
    "  begin\n",
    "    read(x);\n",
    "    if x > 0 then\n",
    "      while y[x] < 7 do\n",
    "        x := x + 1\n",
    "    else write(x);\n",
    "    writeln\n",
    "  end\n",
    "\"\"\", target='ast')\n",
    "printSymTab()"
   ]
  },
  {
   "cell_type": "markdown",
   "metadata": {},
   "source": [
    "#### Records\n",
    "```\n",
    "seq\n",
    "  seq\n",
    "    seq\n",
    "      :=\n",
    "        var a lev 0:\n",
    "          <class 'ST.Int'>\n",
    "        const : <class 'ST.Int'> = 7\n",
    "      :=\n",
    "        var b lev 0:\n",
    "          <class 'ST.Int'>\n",
    "        const : <class 'ST.Int'> = 9\n",
    "    :=\n",
    "      var x lev 0:\n",
    "        record\n",
    "          var f lev 1:\n",
    "            <class 'ST.Int'>\n",
    "          var g lev 1:\n",
    "            <class 'ST.Int'>.var g lev 1:\n",
    "        <class 'ST.Int'>\n",
    "      const : <class 'ST.Int'> = 3\n",
    "  :=\n",
    "    var x lev 0:\n",
    "      record\n",
    "        var f lev 1:\n",
    "          <class 'ST.Int'>\n",
    "        var g lev 1:\n",
    "          <class 'ST.Int'>.var f lev 1:\n",
    "      <class 'ST.Int'>\n",
    "    const : <class 'ST.Int'> = 5\n",
    "```"
   ]
  },
  {
   "cell_type": "code",
   "execution_count": 80,
   "metadata": {
    "collapsed": false
   },
   "outputs": [
    {
     "name": "stdout",
     "output_type": "stream",
     "text": [
      "seq\n",
      "  seq\n",
      "    seq\n",
      "      :=\n",
      "        var a lev 0:\n",
      "          <class 'ST.Int'>\n",
      "        const : <class 'ST.Int'> = 7\n",
      "      :=\n",
      "        var b lev 0:\n",
      "          <class 'ST.Int'>\n",
      "        const : <class 'ST.Int'> = 9\n",
      "    :=\n",
      "      var x lev 0:\n",
      "        record\n",
      "          var f lev 1:\n",
      "            <class 'ST.Int'>\n",
      "          var g lev 1:\n",
      "            <class 'ST.Int'>.var g lev 1:\n",
      "        <class 'ST.Int'>\n",
      "      const : <class 'ST.Int'> = 3\n",
      "  :=\n",
      "    var x lev 0:\n",
      "      record\n",
      "        var f lev 1:\n",
      "          <class 'ST.Int'>\n",
      "        var g lev 1:\n",
      "          <class 'ST.Int'>.var f lev 1:\n",
      "      <class 'ST.Int'>\n",
      "    const : <class 'ST.Int'> = 5\n"
     ]
    }
   ],
   "source": [
    "compileString(\"\"\"\n",
    "program p;\n",
    "  var a: integer;\n",
    "  var b: integer;\n",
    "  var x: record f, g: integer end;\n",
    "  begin\n",
    "    a := 7;\n",
    "    b := 9;\n",
    "    x.g := 3;\n",
    "    x.f := 5\n",
    "  end\n",
    "\"\"\", target='ast')"
   ]
  },
  {
   "cell_type": "markdown",
   "metadata": {},
   "source": [
    "#### Arrays\n",
    "```\n",
    "seq\n",
    "  seq\n",
    "    :=\n",
    "      var x lev 0:\n",
    "        array lower 1 length 10 base\n",
    "          <class 'ST.Int'>[]\n",
    "         const : <class 'ST.Int'> = 5\n",
    "      const : <class 'ST.Int'> = 3\n",
    "    :=\n",
    "      var x lev 0:\n",
    "        array lower 1 length 10 base\n",
    "          <class 'ST.Int'>[]\n",
    "         var i lev 0:\n",
    "          <class 'ST.Int'>\n",
    "      const : <class 'ST.Int'> = 5\n",
    "  :=\n",
    "    var x lev 0:\n",
    "      array lower 1 length 10 base\n",
    "        <class 'ST.Int'>[]\n",
    "       +\n",
    "        var i lev 0:\n",
    "          <class 'ST.Int'>\n",
    "        const : <class 'ST.Int'> = 7\n",
    "    +\n",
    "      var i lev 0:\n",
    "        <class 'ST.Int'>\n",
    "      const : <class 'ST.Int'> = 9\n",
    "```"
   ]
  },
  {
   "cell_type": "code",
   "execution_count": 81,
   "metadata": {
    "collapsed": false
   },
   "outputs": [
    {
     "name": "stdout",
     "output_type": "stream",
     "text": [
      "seq\n",
      "  seq\n",
      "    :=\n",
      "      var x lev 0:\n",
      "        array lower 1 length 10 base\n",
      "          <class 'ST.Int'>[]\n",
      "         const : <class 'ST.Int'> = 5\n",
      "      const : <class 'ST.Int'> = 3\n",
      "    :=\n",
      "      var x lev 0:\n",
      "        array lower 1 length 10 base\n",
      "          <class 'ST.Int'>[]\n",
      "         var i lev 0:\n",
      "          <class 'ST.Int'>\n",
      "      const : <class 'ST.Int'> = 5\n",
      "  :=\n",
      "    var x lev 0:\n",
      "      array lower 1 length 10 base\n",
      "        <class 'ST.Int'>[]\n",
      "       +\n",
      "        var i lev 0:\n",
      "          <class 'ST.Int'>\n",
      "        const : <class 'ST.Int'> = 7\n",
      "    +\n",
      "      var i lev 0:\n",
      "        <class 'ST.Int'>\n",
      "      const : <class 'ST.Int'> = 9\n"
     ]
    }
   ],
   "source": [
    "compileString(\"\"\"\n",
    "program p;\n",
    "  var i: integer;\n",
    "  var x: array [1..10] of integer;\n",
    "  begin\n",
    "    x[5] := 3;\n",
    "    x[i] := 5;\n",
    "    x[i + 7] := i + 9\n",
    "  end\n",
    "\"\"\", target='ast')"
   ]
  }
 ],
 "metadata": {
  "kernelspec": {
   "display_name": "Python 3",
   "language": "python",
   "name": "python3"
  },
  "language_info": {
   "codemirror_mode": {
    "name": "ipython",
    "version": 3
   },
   "file_extension": ".py",
   "mimetype": "text/x-python",
   "name": "python",
   "nbconvert_exporter": "python",
   "pygments_lexer": "ipython3",
   "version": "3.6.0"
  }
 },
 "nbformat": 4,
 "nbformat_minor": 2
}
