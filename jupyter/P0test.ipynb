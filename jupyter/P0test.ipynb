{
 "cells": [
  {
   "cell_type": "markdown",
   "metadata": {
    "deletable": true,
    "editable": true
   },
   "source": [
    "## P0 Test Suite\n",
    "#### Original Author: Emil Sekerinski, McMaster University, February 2017"
   ]
  },
  {
   "cell_type": "code",
   "execution_count": 1,
   "metadata": {
    "collapsed": false,
    "deletable": true,
    "editable": true,
    "scrolled": true
   },
   "outputs": [
    {
     "name": "stdout",
     "output_type": "stream",
     "text": [
      "importing Jupyter notebook from P0.ipynb\n",
      "importing Jupyter notebook from SC.ipynb\n"
     ]
    },
    {
     "data": {
      "text/html": [
       "<style>\n",
       "div.prompt {display:none}\n",
       "</style>"
      ],
      "text/plain": [
       "<IPython.core.display.HTML object>"
      ]
     },
     "metadata": {},
     "output_type": "display_data"
    },
    {
     "name": "stdout",
     "output_type": "stream",
     "text": [
      "importing Jupyter notebook from ST.ipynb\n"
     ]
    },
    {
     "data": {
      "text/html": [
       "<style>\n",
       "div.prompt {display:none}\n",
       "</style>"
      ],
      "text/plain": [
       "<IPython.core.display.HTML object>"
      ]
     },
     "metadata": {},
     "output_type": "display_data"
    }
   ],
   "source": [
    "import nbimporter\n",
    "from P0 import compileString\n",
    "from ST import printSymTab"
   ]
  },
  {
   "cell_type": "code",
   "execution_count": 5,
   "metadata": {
    "collapsed": false,
    "deletable": true,
    "editable": true
   },
   "outputs": [
    {
     "name": "stdout",
     "output_type": "stream",
     "text": [
      "\t.data\n",
      "\t.text\n",
      "\t.globl q\n",
      "\t.ent q\n",
      "q:\t\n",
      "\tsub $fp, $sp, 4\n",
      "\tsub $sp, $fp, 16\n",
      "\taddi $t6, $0, 1\n",
      "\taddi $t2, $0, 9\n",
      "\taddi $t8, $0, 5\n",
      "\taddi $t0, $0, 2\n",
      "\tadd $sp, $fp, 4\n",
      "\tlw $ra, -8($fp)\n",
      "\tlw $fp, -4($fp)\n",
      "\tjr $ra\n",
      "\t.globl main\n",
      "\t.ent main\n",
      "main:\t\n",
      "\taddi $t4, $0, 9\n",
      "\taddi $t1, $0, 5\n",
      "\taddi $t3, $0, 10\n",
      "\tsw $t3, c_\n",
      "\tlw $t5, c_\n",
      "\tadd $t5, $t5, 1\n",
      "\tsw $t5, c_\n",
      "\tlw $a0, c_\n",
      "\tli $v0, 1\n",
      "\tsyscall\n",
      "\tla $t7, c_\n",
      "\tjal, q\n",
      "\tli $v0, 10\n",
      "\tsyscall\n",
      "\t.end main\n"
     ]
    }
   ],
   "source": [
    "target = 'opt' if 1 else 'mips'\n",
    "compileString(\"\"\"program p;\n",
    "      type T = record d,e,f:integer end;\n",
    "      type A = array[0..9] of integer;\n",
    "      var c: integer;\n",
    "      var b: boolean;\n",
    "      var w: A;\n",
    "      procedure q(var z: integer);\n",
    "            type T = record d,e:integer end;\n",
    "            type A = array[0..9] of integer;\n",
    "            var y: integer;\n",
    "            var m,n: boolean;\n",
    "            var w: T;\n",
    "            var wd, we: integer;\n",
    "\n",
    "            begin b:=true; w.d := 9; w.e := 5; w.d := 3 - 1 end;\n",
    "      begin \n",
    "      w[1] := 9; w[2] := 5;\n",
    "        c := 10;\n",
    "        c := c + 1;\n",
    "        write(c);\n",
    "        q(c)\n",
    "      end\n",
    "    \"\"\", target=target)"
   ]
  },
  {
   "cell_type": "code",
   "execution_count": null,
   "metadata": {
    "collapsed": true
   },
   "outputs": [],
   "source": []
  },
  {
   "cell_type": "code",
   "execution_count": 6,
   "metadata": {
    "collapsed": false,
    "deletable": true,
    "editable": true
   },
   "outputs": [
    {
     "name": "stdout",
     "output_type": "stream",
     "text": [
      "\t.data\n",
      "\t.text\n",
      "\t.globl q\n",
      "\t.ent q\n",
      "q:\t\n",
      "\tsub $fp, $sp, 4\n",
      "\tsub $sp, $fp, 12\n",
      "\taddi $t1, $0, 9\n",
      "\tsw $t1, -12($fp)\n",
      "\tlw $t3, -12($fp)\n",
      "\tjal, qx\n",
      "\tlw $t5, -12($fp)\n",
      "\tlw $t7, 0($fp)\n",
      "\tble $t5, $t7, L1\n",
      "L2:\t\n",
      "\tlw $a0, -12($fp)\n",
      "\tli $v0, 1\n",
      "\tsyscall\n",
      "\tb, L3\n",
      "L1:\t\n",
      "\tlw $a0, g_\n",
      "\tli $v0, 1\n",
      "\tsyscall\n",
      "L3:\t\n",
      "\tadd $sp, $fp, 4\n",
      "\tlw $ra, -8($fp)\n",
      "\tlw $fp, -4($fp)\n",
      "\tjr $ra\n",
      "\t.globl qx\n",
      "\t.ent qx\n",
      "qx:\t\n",
      "\tsub $fp, $sp, 4\n",
      "\tsub $sp, $fp, 12\n",
      "\taddi $t2, $0, 9\n",
      "\tsw $t2, -12($fp)\n",
      "\tlw $t8, -12($fp)\n",
      "\tjal, q\n",
      "\tadd $sp, $fp, 4\n",
      "\tlw $ra, -8($fp)\n",
      "\tlw $fp, -4($fp)\n",
      "\tjr $ra\n",
      "\t.globl main\n",
      "\t.ent main\n",
      "main:\t\n",
      "\taddi $t8, $0, 5\n",
      "\taddi $t0, $0, 7\n",
      "\tjal, q\n",
      "\tli $v0, 10\n",
      "\tsyscall\n",
      "\t.end main\n"
     ]
    }
   ],
   "source": [
    "target = 'opt' if 1 else 'mips'\n",
    "compileString(\"\"\"program p;\n",
    "  var g: integer;          {global variable}\n",
    "  procedure q(v: integer); {value parameter}\n",
    "    var l: integer;        {local variable}\n",
    "    procedure qx(v: integer); {value parameter}\n",
    "      var l: integer;        {local variable}\n",
    "      procedure qxt(v: integer); {value parameter}\n",
    "        var l: integer;        {local variable}\n",
    "        begin\n",
    "          l := 9\n",
    "        end;\n",
    "      begin\n",
    "        l := 9;\n",
    "        q(l)\n",
    "      end;\n",
    "    procedure qc(v: integer); {value parameter}\n",
    "      var l: integer;        {local variable}\n",
    "      begin\n",
    "        l := 9;\n",
    "        q(l)\n",
    "      end;\n",
    "    begin\n",
    "      l := 9;\n",
    "      qx(l);\n",
    "      if l > v then\n",
    "         write(l)\n",
    "      else\n",
    "         write(g)\n",
    "    end;\n",
    "  procedure x(v: integer); {value parameter}\n",
    "    var l: integer;        {local variable}\n",
    "    begin\n",
    "      l := 9;\n",
    "      q(l)\n",
    "    end;\n",
    "  begin\n",
    "    g := 5;\n",
    "    q(7)\n",
    "  end\n",
    "\"\"\", target=target)"
   ]
  }
 ],
 "metadata": {
  "kernelspec": {
   "display_name": "Python 3",
   "language": "python",
   "name": "python3"
  },
  "language_info": {
   "codemirror_mode": {
    "name": "ipython",
    "version": 3
   },
   "file_extension": ".py",
   "mimetype": "text/x-python",
   "name": "python",
   "nbconvert_exporter": "python",
   "pygments_lexer": "ipython3",
   "version": "3.5.1"
  }
 },
 "nbformat": 4,
 "nbformat_minor": 2
}
