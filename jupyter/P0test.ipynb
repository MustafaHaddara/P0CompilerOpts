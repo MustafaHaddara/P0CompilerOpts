{
 "cells": [
  {
   "cell_type": "markdown",
   "metadata": {
    "deletable": true,
    "editable": true
   },
   "source": [
    "## P0 Test Suite\n",
    "#### Original Author: Emil Sekerinski, McMaster University, February 2017"
   ]
  },
  {
   "cell_type": "code",
   "execution_count": 2,
   "metadata": {
    "collapsed": false,
    "deletable": true,
    "editable": true,
    "scrolled": true
   },
   "outputs": [],
   "source": [
    "import nbimporter\n",
    "from P0 import compileString\n",
    "from ST import printSymTab"
   ]
  },
  {
   "cell_type": "code",
   "execution_count": 4,
   "metadata": {
    "collapsed": false,
    "deletable": true,
    "editable": true
   },
   "outputs": [
    {
     "name": "stdout",
     "output_type": "stream",
     "text": [
      "importing Jupyter notebook from CGopts.ipynb\n"
     ]
    },
    {
     "name": "stderr",
     "output_type": "stream",
     "text": [
      "ERROR:root:An unexpected error occurred while tokenizing input\n",
      "The following traceback may be corrupted or invalid\n",
      "The error message is: ('EOF in multi-line string', (1, 4))\n",
      "\n"
     ]
    },
    {
     "ename": "IndexError",
     "evalue": "list index out of range",
     "output_type": "error",
     "traceback": [
      "\u001b[0;31m---------------------------------------------------------------------------\u001b[0m",
      "\u001b[0;31mIndexError\u001b[0m                                Traceback (most recent call last)",
      "\u001b[0;32m<ipython-input-4-c928fa8287ff>\u001b[0m in \u001b[0;36m<module>\u001b[0;34m()\u001b[0m\n\u001b[1;32m     22\u001b[0m         \u001b[0mq\u001b[0m\u001b[0;34m(\u001b[0m\u001b[0mc\u001b[0m\u001b[0;34m)\u001b[0m\u001b[0;34m\u001b[0m\u001b[0m\n\u001b[1;32m     23\u001b[0m       \u001b[0mend\u001b[0m\u001b[0;34m\u001b[0m\u001b[0m\n\u001b[0;32m---> 24\u001b[0;31m     \"\"\", target=target)\n\u001b[0m",
      "\u001b[0;32m/Users/mustafa/Google Drive/Year 4/SFWR ENG 4TB3/Project/jupyter/P0.ipynb\u001b[0m in \u001b[0;36mcompileString\u001b[0;34m(src, dstfn, target)\u001b[0m\n",
      "\u001b[0;32m/Users/mustafa/Google Drive/Year 4/SFWR ENG 4TB3/Project/jupyter/P0.ipynb\u001b[0m in \u001b[0;36mprogram\u001b[0;34m()\u001b[0m\n",
      "\u001b[0;32m/Users/mustafa/Google Drive/Year 4/SFWR ENG 4TB3/Project/jupyter/P0.ipynb\u001b[0m in \u001b[0;36mdeclarations\u001b[0;34m(allocVar)\u001b[0m\n",
      "\u001b[0;32m/Users/mustafa/Google Drive/Year 4/SFWR ENG 4TB3/Project/jupyter/CGopts.ipynb\u001b[0m in \u001b[0;36mgenProcExit\u001b[0;34m(x, parsize, localsize)\u001b[0m\n",
      "\u001b[0;32m/Users/mustafa/Google Drive/Year 4/SFWR ENG 4TB3/Project/jupyter/CGopts.ipynb\u001b[0m in \u001b[0;36mprocessProcInstructions\u001b[0;34m(realAddrs, size)\u001b[0m\n",
      "\u001b[0;31mIndexError\u001b[0m: list index out of range"
     ]
    }
   ],
   "source": [
    "target = 'opt' if 1 else 'mips'\n",
    "compileString(\"\"\"program p;\n",
    "      type T = record d,e,f:integer end;\n",
    "      type A = array[0..9] of integer;\n",
    "      var c: integer;\n",
    "      var b: boolean;\n",
    "      var w: A;\n",
    "      procedure q(var z: integer);\n",
    "            type T = record d,e:integer end;\n",
    "            type A = array[0..9] of integer;\n",
    "            var y: integer;\n",
    "            var m,n: boolean;\n",
    "            var w: T;\n",
    "            var wd, we: integer;\n",
    "\n",
    "            begin b:=true; w.d := 9; w.e := 5; w.d := 3 - 1 end;\n",
    "      begin \n",
    "      w[1] := 9; w[2] := 5;\n",
    "        c := 10;\n",
    "        c := c + 1;\n",
    "        write(c);\n",
    "        q(c)\n",
    "      end\n",
    "    \"\"\", target=target)"
   ]
  },
  {
   "cell_type": "code",
   "execution_count": null,
   "metadata": {
    "collapsed": true,
    "deletable": true,
    "editable": true
   },
   "outputs": [],
   "source": []
  }
 ],
 "metadata": {
  "kernelspec": {
   "display_name": "Python 3",
   "language": "python",
   "name": "python3"
  },
  "language_info": {
   "codemirror_mode": {
    "name": "ipython",
    "version": 3
   },
   "file_extension": ".py",
   "mimetype": "text/x-python",
   "name": "python",
   "nbconvert_exporter": "python",
   "pygments_lexer": "ipython3",
   "version": "3.6.0"
  }
 },
 "nbformat": 4,
 "nbformat_minor": 2
}
