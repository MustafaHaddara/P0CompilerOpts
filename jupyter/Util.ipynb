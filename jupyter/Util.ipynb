{
 "cells": [
  {
   "cell_type": "markdown",
   "metadata": {
    "deletable": true,
    "editable": true
   },
   "source": [
    "The following utility method compiles the provided source both with and without optimizations and renders the results nicely for comparison."
   ]
  },
  {
   "cell_type": "code",
   "execution_count": null,
   "metadata": {
    "collapsed": false,
    "deletable": true,
    "editable": true
   },
   "outputs": [],
   "source": [
    "import os\n",
    "import math\n",
    "import nbimporter\n",
    "import P0"
   ]
  },
  {
   "cell_type": "code",
   "execution_count": null,
   "metadata": {
    "collapsed": false,
    "deletable": true,
    "editable": true
   },
   "outputs": [],
   "source": [
    "maxlinelen = 30\n",
    "tabsize = 8\n",
    "\n",
    "def printOutput(src, target='mips'):\n",
    "    P0.compileString(src, 's', target)\n",
    "    with open('s') as f:\n",
    "        reg = ['Orginal Compiler', '-'*maxlinelen] + f.read().split('\\n')\n",
    "    os.remove('s')\n",
    "    \n",
    "    lines = len(reg)\n",
    "    width = int(math.log(lines, 10)) + 1\n",
    "    \n",
    "    for i in range(lines):\n",
    "        sep = '-' if i == 1 else ' '\n",
    "        linenum = leftpad(i-1 if i>1 else '', width, c=sep) + sep + '|' + sep\n",
    "        ls = rightpad(reg[i] if i < len(reg) else '')\n",
    "        print(linenum+ls)\n",
    "    \n",
    "\n",
    "def compareOutput(src):\n",
    "    P0.compileString(src, 'reg', target='mips')\n",
    "    P0.compileString(src, 'opt', target='opt')\n",
    "    \n",
    "    with open('reg') as f, open('opt') as o:\n",
    "        reg = f.read().split('\\n')\n",
    "        opt = o.read().split('\\n')\n",
    "    os.remove('reg')\n",
    "    os.remove('opt')\n",
    "    renderDiff(reg, opt)\n",
    "    \n",
    "def renderDiff(regular, optimized):\n",
    "    reg = ['Orginal Compiler', '-'*maxlinelen] + regular\n",
    "    opt = ['Optimized Compiler', '-'*maxlinelen] + optimized\n",
    "    lines = max(len(reg), len(opt))\n",
    "    width = int(math.log(lines, 10)) + 1\n",
    "        \n",
    "    for i in range(lines):\n",
    "        sep = '-' if i == 1 else ' '\n",
    "        linenum = leftpad(i-1 if i>1 else '', width, c=sep) + sep + '|' + sep\n",
    "        ls = rightpad(reg[i] if i < len(reg) else '') + '|' + sep\n",
    "        rs = rightpad(opt[i]) if i < len(opt) else ''\n",
    "        print(linenum+ls+rs)\n",
    "        \n",
    "def rmtabs(s):\n",
    "    res = ''\n",
    "    for i in range(len(s)):\n",
    "        if s[i] == '\\t':\n",
    "            res = res + ' ' * (tabsize-(i%tabsize))\n",
    "        else:\n",
    "            res = res + s[i]\n",
    "    return res\n",
    "\n",
    "def rightpad(s, n=maxlinelen, c=' '):\n",
    "    res = rmtabs(s)\n",
    "    while len(res) < n:\n",
    "        res = res + c\n",
    "    return res\n",
    "\n",
    "def leftpad(i, n, c=' '):\n",
    "    res = str(i)\n",
    "    while len(res) < n:\n",
    "        res = c + res\n",
    "    return res"
   ]
  }
 ],
 "metadata": {
  "kernelspec": {
   "display_name": "Python 3",
   "language": "python",
   "name": "python3"
  },
  "language_info": {
   "codemirror_mode": {
    "name": "ipython",
    "version": 3
   },
   "file_extension": ".py",
   "mimetype": "text/x-python",
   "name": "python",
   "nbconvert_exporter": "python",
   "pygments_lexer": "ipython3",
   "version": "3.6.0"
  }
 },
 "nbformat": 4,
 "nbformat_minor": 2
}
