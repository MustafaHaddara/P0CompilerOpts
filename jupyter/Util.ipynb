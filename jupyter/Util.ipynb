{
 "cells": [
  {
   "cell_type": "markdown",
   "metadata": {
    "deletable": true,
    "editable": true
   },
   "source": [
    "The following utility method compiles the provided source both with and without optimizations and renders the results nicely for comparison."
   ]
  },
  {
   "cell_type": "code",
   "execution_count": null,
   "metadata": {
    "collapsed": false,
    "deletable": true,
    "editable": true
   },
   "outputs": [],
   "source": [
    "import os\n",
    "import nbimporter\n",
    "import P0"
   ]
  },
  {
   "cell_type": "code",
   "execution_count": null,
   "metadata": {
    "collapsed": false,
    "deletable": true,
    "editable": true
   },
   "outputs": [],
   "source": [
    "def compareOutput(src):\n",
    "    P0.compileString(src, 'reg', target='mips')\n",
    "    P0.compileString(src, 'opt', target='opt')\n",
    "    \n",
    "    with open('reg') as f, open('opt') as o:\n",
    "        reg = ['Orginal Compiler'] + f.read().split('\\n')\n",
    "        opt = ['Optimized Compiler'] + o.read().split('\\n')\n",
    "    os.remove('reg')\n",
    "    os.remove('opt')\n",
    "    \n",
    "    tabsize = 8\n",
    "    def rmtabs(s):\n",
    "        res = ''\n",
    "        for i in range(len(s)):\n",
    "            if s[i] == '\\t':\n",
    "                res = res + ' ' * (tabsize-(i%tabsize))\n",
    "            else:\n",
    "                res = res + s[i]\n",
    "        return res\n",
    "\n",
    "    maxlinelen = 30\n",
    "    def rightpad(s, n=maxlinelen, c=' '):\n",
    "        clean = rmtabs(s)\n",
    "        while len(clean) < n:\n",
    "            clean = clean + c\n",
    "        return clean\n",
    "    \n",
    "    for i in range(len(reg)):\n",
    "        ls = rightpad(reg[i]) + '| '\n",
    "        rs = opt[i] if i < len(opt) else ''\n",
    "        print(ls+rs)"
   ]
  }
 ],
 "metadata": {
  "kernelspec": {
   "display_name": "Python 3",
   "language": "python",
   "name": "python3"
  },
  "language_info": {
   "codemirror_mode": {
    "name": "ipython",
    "version": 3
   },
   "file_extension": ".py",
   "mimetype": "text/x-python",
   "name": "python",
   "nbconvert_exporter": "python",
   "pygments_lexer": "ipython3",
   "version": "3.6.0"
  }
 },
 "nbformat": 4,
 "nbformat_minor": 2
}
